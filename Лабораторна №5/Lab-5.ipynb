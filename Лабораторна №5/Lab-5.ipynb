{
 "cells": [
  {
   "cell_type": "markdown",
   "metadata": {},
   "source": [
    "# Data Mining в середовищі Pandas"
   ]
  },
  {
   "cell_type": "markdown",
   "metadata": {},
   "source": [
    "### ТЕОРЕТИЧНА ЧАСТИНА ТА ПРИКЛАДИ"
   ]
  },
  {
   "cell_type": "markdown",
   "metadata": {},
   "source": [
    "Для роботи з структурованими табличними даними на мові Python розроблено [бібліотеку __Pandas__](https://ru.wikipedia.org/wiki/Pandas)\n",
    "- [Офіційний сайт](https://pandas.pydata.org)\n",
    "- [Сайт на GitHub](https://github.com/pandas-dev/pandas)"
   ]
  },
  {
   "cell_type": "code",
   "execution_count": 3,
   "metadata": {},
   "outputs": [
    {
     "name": "stdout",
     "output_type": "stream",
     "text": [
      "/Users/sergey/Google Диск/Учебный процесс 2022-23/1 СЕМЕСТР/МАГІСТРИ - ТПОЗІС/DM-2023/Лабораторна №5\r\n"
     ]
    }
   ],
   "source": [
    "!pwd"
   ]
  },
  {
   "cell_type": "code",
   "execution_count": 23,
   "metadata": {},
   "outputs": [],
   "source": [
    "# підключення бібліотеки з аліасом/псевдонімом 'pd'\n",
    "import pandas as pd"
   ]
  },
  {
   "cell_type": "code",
   "execution_count": null,
   "metadata": {},
   "outputs": [],
   "source": [
    "print(dir(pd))"
   ]
  },
  {
   "cell_type": "markdown",
   "metadata": {},
   "source": [
    "#### ПРИКЛАД ЗАВАНТАЖЕННЯ ДАНИХ В Pandas з ЗОВНІШНІХ ДЖЕРЕЛ\n",
    "Створити в Pandas датасет з ім'ям `jornal`, та завантажити в нього csv-файл, що містить журнал групи `Jornal.csv`"
   ]
  },
  {
   "cell_type": "code",
   "execution_count": 24,
   "metadata": {},
   "outputs": [],
   "source": [
    "# створюємо датасет та завантажуємо в нього csv-файл \n",
    "jornal = pd.read_csv('Jornal.csv')"
   ]
  },
  {
   "cell_type": "code",
   "execution_count": 25,
   "metadata": {},
   "outputs": [
    {
     "data": {
      "text/plain": [
       "pandas.core.frame.DataFrame"
      ]
     },
     "execution_count": 25,
     "metadata": {},
     "output_type": "execute_result"
    }
   ],
   "source": [
    "type(jornal)"
   ]
  },
  {
   "cell_type": "markdown",
   "metadata": {},
   "source": [
    "##### виведемо ВСІ записи датасету `jornal`"
   ]
  },
  {
   "cell_type": "code",
   "execution_count": 27,
   "metadata": {},
   "outputs": [
    {
     "data": {
      "text/html": [
       "<div>\n",
       "<style scoped>\n",
       "    .dataframe tbody tr th:only-of-type {\n",
       "        vertical-align: middle;\n",
       "    }\n",
       "\n",
       "    .dataframe tbody tr th {\n",
       "        vertical-align: top;\n",
       "    }\n",
       "\n",
       "    .dataframe thead th {\n",
       "        text-align: right;\n",
       "    }\n",
       "</style>\n",
       "<table border=\"1\" class=\"dataframe\">\n",
       "  <thead>\n",
       "    <tr style=\"text-align: right;\">\n",
       "      <th></th>\n",
       "      <th>Surname</th>\n",
       "      <th>Name</th>\n",
       "      <th>email</th>\n",
       "      <th>GitHub</th>\n",
       "    </tr>\n",
       "  </thead>\n",
       "  <tbody>\n",
       "    <tr>\n",
       "      <th>0</th>\n",
       "      <td>Антонов</td>\n",
       "      <td>Іван</td>\n",
       "      <td>i.antonov_fit_4m_22_m_d@knute.edu.ua</td>\n",
       "      <td>NaN</td>\n",
       "    </tr>\n",
       "    <tr>\n",
       "      <th>1</th>\n",
       "      <td>Антонюк</td>\n",
       "      <td>Данило</td>\n",
       "      <td>d.antonyuk_fit_4m_22_m_d@knute.edu.ua</td>\n",
       "      <td>NaN</td>\n",
       "    </tr>\n",
       "    <tr>\n",
       "      <th>2</th>\n",
       "      <td>Багінський</td>\n",
       "      <td>Вадим</td>\n",
       "      <td>v.bahinskyy_fit_4m_22_m_d@knute.edu.ua</td>\n",
       "      <td>NaN</td>\n",
       "    </tr>\n",
       "    <tr>\n",
       "      <th>3</th>\n",
       "      <td>Бай</td>\n",
       "      <td>Андрій</td>\n",
       "      <td>a.bay_fit_4m_22_m_d@knute.edu.ua</td>\n",
       "      <td>https://github.com/Ullrvetr</td>\n",
       "    </tr>\n",
       "    <tr>\n",
       "      <th>4</th>\n",
       "      <td>Безсмертний</td>\n",
       "      <td>Володимир</td>\n",
       "      <td>v.bezsmertnyy_fit_4m_22_m_d@knute.edu.ua</td>\n",
       "      <td>NaN</td>\n",
       "    </tr>\n",
       "  </tbody>\n",
       "</table>\n",
       "</div>"
      ],
      "text/plain": [
       "       Surname       Name                                     email  \\\n",
       "0      Антонов       Іван      i.antonov_fit_4m_22_m_d@knute.edu.ua   \n",
       "1      Антонюк     Данило     d.antonyuk_fit_4m_22_m_d@knute.edu.ua   \n",
       "2   Багінський      Вадим    v.bahinskyy_fit_4m_22_m_d@knute.edu.ua   \n",
       "3          Бай     Андрій          a.bay_fit_4m_22_m_d@knute.edu.ua   \n",
       "4  Безсмертний  Володимир  v.bezsmertnyy_fit_4m_22_m_d@knute.edu.ua   \n",
       "\n",
       "                        GitHub  \n",
       "0                          NaN  \n",
       "1                          NaN  \n",
       "2                          NaN  \n",
       "3  https://github.com/Ullrvetr  \n",
       "4                          NaN  "
      ]
     },
     "execution_count": 27,
     "metadata": {},
     "output_type": "execute_result"
    }
   ],
   "source": [
    "jornal.head()"
   ]
  },
  {
   "cell_type": "markdown",
   "metadata": {},
   "source": [
    "#### ПРИКЛАД ЗБАГАЧЕННЯ ДАНИХ \n",
    "\n",
    "Додати до журналу оцінки за вступне тестування, які розташовані в csv файлі `test_result.csv`"
   ]
  },
  {
   "cell_type": "code",
   "execution_count": 28,
   "metadata": {},
   "outputs": [],
   "source": [
    "# створимо датасет з результатами тестів\n",
    "test_result = pd.read_csv('test_result.csv')"
   ]
  },
  {
   "cell_type": "code",
   "execution_count": 30,
   "metadata": {},
   "outputs": [
    {
     "data": {
      "text/html": [
       "<div>\n",
       "<style scoped>\n",
       "    .dataframe tbody tr th:only-of-type {\n",
       "        vertical-align: middle;\n",
       "    }\n",
       "\n",
       "    .dataframe tbody tr th {\n",
       "        vertical-align: top;\n",
       "    }\n",
       "\n",
       "    .dataframe thead th {\n",
       "        text-align: right;\n",
       "    }\n",
       "</style>\n",
       "<table border=\"1\" class=\"dataframe\">\n",
       "  <thead>\n",
       "    <tr style=\"text-align: right;\">\n",
       "      <th></th>\n",
       "      <th>Surname</th>\n",
       "      <th>test</th>\n",
       "    </tr>\n",
       "  </thead>\n",
       "  <tbody>\n",
       "    <tr>\n",
       "      <th>0</th>\n",
       "      <td>Багінський</td>\n",
       "      <td>63</td>\n",
       "    </tr>\n",
       "    <tr>\n",
       "      <th>1</th>\n",
       "      <td>Бай</td>\n",
       "      <td>51</td>\n",
       "    </tr>\n",
       "    <tr>\n",
       "      <th>2</th>\n",
       "      <td>Власенко</td>\n",
       "      <td>52</td>\n",
       "    </tr>\n",
       "    <tr>\n",
       "      <th>3</th>\n",
       "      <td>Гелла</td>\n",
       "      <td>82</td>\n",
       "    </tr>\n",
       "    <tr>\n",
       "      <th>4</th>\n",
       "      <td>Гонгало</td>\n",
       "      <td>44</td>\n",
       "    </tr>\n",
       "    <tr>\n",
       "      <th>5</th>\n",
       "      <td>Копотун</td>\n",
       "      <td>44</td>\n",
       "    </tr>\n",
       "    <tr>\n",
       "      <th>6</th>\n",
       "      <td>Коротких</td>\n",
       "      <td>69</td>\n",
       "    </tr>\n",
       "    <tr>\n",
       "      <th>7</th>\n",
       "      <td>Красюк</td>\n",
       "      <td>53</td>\n",
       "    </tr>\n",
       "    <tr>\n",
       "      <th>8</th>\n",
       "      <td>Ластовка</td>\n",
       "      <td>77</td>\n",
       "    </tr>\n",
       "    <tr>\n",
       "      <th>9</th>\n",
       "      <td>Мартиненко</td>\n",
       "      <td>68</td>\n",
       "    </tr>\n",
       "    <tr>\n",
       "      <th>10</th>\n",
       "      <td>Масовець</td>\n",
       "      <td>78</td>\n",
       "    </tr>\n",
       "    <tr>\n",
       "      <th>11</th>\n",
       "      <td>Мовчан</td>\n",
       "      <td>52</td>\n",
       "    </tr>\n",
       "    <tr>\n",
       "      <th>12</th>\n",
       "      <td>Силенко</td>\n",
       "      <td>74</td>\n",
       "    </tr>\n",
       "    <tr>\n",
       "      <th>13</th>\n",
       "      <td>Стась</td>\n",
       "      <td>66</td>\n",
       "    </tr>\n",
       "    <tr>\n",
       "      <th>14</th>\n",
       "      <td>Стус</td>\n",
       "      <td>56</td>\n",
       "    </tr>\n",
       "    <tr>\n",
       "      <th>15</th>\n",
       "      <td>Ткач</td>\n",
       "      <td>54</td>\n",
       "    </tr>\n",
       "    <tr>\n",
       "      <th>16</th>\n",
       "      <td>Устименко</td>\n",
       "      <td>35</td>\n",
       "    </tr>\n",
       "    <tr>\n",
       "      <th>17</th>\n",
       "      <td>Якименко</td>\n",
       "      <td>47</td>\n",
       "    </tr>\n",
       "  </tbody>\n",
       "</table>\n",
       "</div>"
      ],
      "text/plain": [
       "       Surname  test\n",
       "0   Багінський    63\n",
       "1          Бай    51\n",
       "2     Власенко    52\n",
       "3        Гелла    82\n",
       "4      Гонгало    44\n",
       "5      Копотун    44\n",
       "6     Коротких    69\n",
       "7       Красюк    53\n",
       "8     Ластовка    77\n",
       "9   Мартиненко    68\n",
       "10    Масовець    78\n",
       "11      Мовчан    52\n",
       "12     Силенко    74\n",
       "13       Стась    66\n",
       "14        Стус    56\n",
       "15        Ткач    54\n",
       "16   Устименко    35\n",
       "17    Якименко    47"
      ]
     },
     "execution_count": 30,
     "metadata": {},
     "output_type": "execute_result"
    }
   ],
   "source": [
    "test_result"
   ]
  },
  {
   "cell_type": "code",
   "execution_count": 31,
   "metadata": {},
   "outputs": [],
   "source": [
    "# переіменуємо робочі поля для зручності\n",
    "test_result.rename(columns={\"Surname\": \"Name\", \"test\": \"Rate\"}, inplace=True)"
   ]
  },
  {
   "cell_type": "markdown",
   "metadata": {},
   "source": [
    "##### Cтворимо новий датасет `jornal_test`, який буде містити вміст датасету `jornal` та колонку оцінок з  `test_result`\n",
    "\n"
   ]
  },
  {
   "cell_type": "code",
   "execution_count": 32,
   "metadata": {},
   "outputs": [],
   "source": [
    "jornal.merge?"
   ]
  },
  {
   "cell_type": "code",
   "execution_count": 33,
   "metadata": {},
   "outputs": [],
   "source": [
    "# виконаємо поєднання через метод 'merge':\n",
    "#   лівий дадатсет - беремо всі колонки з 'jornal'\n",
    "#   правий датасет - беремо дві колонки з 'test_result'\n",
    "\n",
    "jornal_test = jornal.merge(test_result[[\"Name\", \"Rate\"]], \n",
    "                           left_on=\"Surname\", right_on=\"Name\", how='left')"
   ]
  },
  {
   "cell_type": "code",
   "execution_count": 34,
   "metadata": {},
   "outputs": [
    {
     "data": {
      "text/html": [
       "<div>\n",
       "<style scoped>\n",
       "    .dataframe tbody tr th:only-of-type {\n",
       "        vertical-align: middle;\n",
       "    }\n",
       "\n",
       "    .dataframe tbody tr th {\n",
       "        vertical-align: top;\n",
       "    }\n",
       "\n",
       "    .dataframe thead th {\n",
       "        text-align: right;\n",
       "    }\n",
       "</style>\n",
       "<table border=\"1\" class=\"dataframe\">\n",
       "  <thead>\n",
       "    <tr style=\"text-align: right;\">\n",
       "      <th></th>\n",
       "      <th>Surname</th>\n",
       "      <th>Name_x</th>\n",
       "      <th>email</th>\n",
       "      <th>GitHub</th>\n",
       "      <th>Name_y</th>\n",
       "      <th>Rate</th>\n",
       "    </tr>\n",
       "  </thead>\n",
       "  <tbody>\n",
       "    <tr>\n",
       "      <th>0</th>\n",
       "      <td>Антонов</td>\n",
       "      <td>Іван</td>\n",
       "      <td>i.antonov_fit_4m_22_m_d@knute.edu.ua</td>\n",
       "      <td>NaN</td>\n",
       "      <td>NaN</td>\n",
       "      <td>NaN</td>\n",
       "    </tr>\n",
       "    <tr>\n",
       "      <th>1</th>\n",
       "      <td>Антонюк</td>\n",
       "      <td>Данило</td>\n",
       "      <td>d.antonyuk_fit_4m_22_m_d@knute.edu.ua</td>\n",
       "      <td>NaN</td>\n",
       "      <td>NaN</td>\n",
       "      <td>NaN</td>\n",
       "    </tr>\n",
       "    <tr>\n",
       "      <th>2</th>\n",
       "      <td>Багінський</td>\n",
       "      <td>Вадим</td>\n",
       "      <td>v.bahinskyy_fit_4m_22_m_d@knute.edu.ua</td>\n",
       "      <td>NaN</td>\n",
       "      <td>Багінський</td>\n",
       "      <td>63.0</td>\n",
       "    </tr>\n",
       "    <tr>\n",
       "      <th>3</th>\n",
       "      <td>Бай</td>\n",
       "      <td>Андрій</td>\n",
       "      <td>a.bay_fit_4m_22_m_d@knute.edu.ua</td>\n",
       "      <td>https://github.com/Ullrvetr</td>\n",
       "      <td>Бай</td>\n",
       "      <td>51.0</td>\n",
       "    </tr>\n",
       "    <tr>\n",
       "      <th>4</th>\n",
       "      <td>Безсмертний</td>\n",
       "      <td>Володимир</td>\n",
       "      <td>v.bezsmertnyy_fit_4m_22_m_d@knute.edu.ua</td>\n",
       "      <td>NaN</td>\n",
       "      <td>NaN</td>\n",
       "      <td>NaN</td>\n",
       "    </tr>\n",
       "    <tr>\n",
       "      <th>5</th>\n",
       "      <td>Будяну</td>\n",
       "      <td>Максим</td>\n",
       "      <td>m.budyanu_fit_4m_22_m_d@knute.edu.ua</td>\n",
       "      <td>https://github.com/Budeanu</td>\n",
       "      <td>NaN</td>\n",
       "      <td>NaN</td>\n",
       "    </tr>\n",
       "    <tr>\n",
       "      <th>6</th>\n",
       "      <td>Власенко</td>\n",
       "      <td>Олександр</td>\n",
       "      <td>o.vlasenko_fit_4m_22_m_d@knute.edu.ua</td>\n",
       "      <td>NaN</td>\n",
       "      <td>Власенко</td>\n",
       "      <td>52.0</td>\n",
       "    </tr>\n",
       "    <tr>\n",
       "      <th>7</th>\n",
       "      <td>Гелла</td>\n",
       "      <td>Всеволод</td>\n",
       "      <td>v.hella_fit_4m_22_m_d@knute.edu.ua</td>\n",
       "      <td>NaN</td>\n",
       "      <td>Гелла</td>\n",
       "      <td>82.0</td>\n",
       "    </tr>\n",
       "    <tr>\n",
       "      <th>8</th>\n",
       "      <td>Гонгало</td>\n",
       "      <td>Вадим</td>\n",
       "      <td>v.honhalo_fit_4m_22_m_d@knute.edu.ua</td>\n",
       "      <td>https://github.com/Vaditos/DM--honhalo-</td>\n",
       "      <td>Гонгало</td>\n",
       "      <td>44.0</td>\n",
       "    </tr>\n",
       "    <tr>\n",
       "      <th>9</th>\n",
       "      <td>Дринь</td>\n",
       "      <td>Ярослав</td>\n",
       "      <td>y.dryn_fit_4m_22_m_d@knute.edu.ua</td>\n",
       "      <td>NaN</td>\n",
       "      <td>NaN</td>\n",
       "      <td>NaN</td>\n",
       "    </tr>\n",
       "    <tr>\n",
       "      <th>10</th>\n",
       "      <td>Дубовий</td>\n",
       "      <td>Іван</td>\n",
       "      <td>i.dubovyy_fit_4m_22_m_d@knute.edu.ua</td>\n",
       "      <td>NaN</td>\n",
       "      <td>NaN</td>\n",
       "      <td>NaN</td>\n",
       "    </tr>\n",
       "    <tr>\n",
       "      <th>11</th>\n",
       "      <td>Копотун</td>\n",
       "      <td>Світлана</td>\n",
       "      <td>s.kopotun_fit_4m_22_m_d@knute.edu.ua</td>\n",
       "      <td>https://github.com/Kopotuns</td>\n",
       "      <td>Копотун</td>\n",
       "      <td>44.0</td>\n",
       "    </tr>\n",
       "    <tr>\n",
       "      <th>12</th>\n",
       "      <td>Коротких</td>\n",
       "      <td>Віталій</td>\n",
       "      <td>v.korotkykh_fit_4m_22_m_d@knute.edu.ua</td>\n",
       "      <td>NaN</td>\n",
       "      <td>Коротких</td>\n",
       "      <td>69.0</td>\n",
       "    </tr>\n",
       "    <tr>\n",
       "      <th>13</th>\n",
       "      <td>Красюк</td>\n",
       "      <td>Олександр</td>\n",
       "      <td>o.krasyuk_fit_4m_22_m_d@knute.edu.ua</td>\n",
       "      <td>NaN</td>\n",
       "      <td>Красюк</td>\n",
       "      <td>53.0</td>\n",
       "    </tr>\n",
       "    <tr>\n",
       "      <th>14</th>\n",
       "      <td>Ластовка</td>\n",
       "      <td>Євген</td>\n",
       "      <td>y.lastovka_fit_4m_22_m_d@knute.edu.ua</td>\n",
       "      <td>https://github.com/Pro7Za/DM-y.lastovka.git</td>\n",
       "      <td>Ластовка</td>\n",
       "      <td>77.0</td>\n",
       "    </tr>\n",
       "    <tr>\n",
       "      <th>15</th>\n",
       "      <td>Левицький</td>\n",
       "      <td>Владислав</td>\n",
       "      <td>v.levytskyy_fit_4m_22_m_d@knute.edu.ua</td>\n",
       "      <td>NaN</td>\n",
       "      <td>NaN</td>\n",
       "      <td>NaN</td>\n",
       "    </tr>\n",
       "    <tr>\n",
       "      <th>16</th>\n",
       "      <td>Мартиненко</td>\n",
       "      <td>Дмитро</td>\n",
       "      <td>d.martynenko_fit_4m_22_m_d@knute.edu.ua</td>\n",
       "      <td>https://github.com/Juvaily/DM-martynenko</td>\n",
       "      <td>Мартиненко</td>\n",
       "      <td>68.0</td>\n",
       "    </tr>\n",
       "    <tr>\n",
       "      <th>17</th>\n",
       "      <td>Масовець</td>\n",
       "      <td>Олександр</td>\n",
       "      <td>o.masovets_fit_4m_22_m_d@knute.edu.ua</td>\n",
       "      <td>https://github.com/viceblond/DM-masovets</td>\n",
       "      <td>Масовець</td>\n",
       "      <td>78.0</td>\n",
       "    </tr>\n",
       "    <tr>\n",
       "      <th>18</th>\n",
       "      <td>Мовчан</td>\n",
       "      <td>Єлизавета</td>\n",
       "      <td>y.movchan_fit_4m_22_m_d@knute.edu.ua</td>\n",
       "      <td>https://github.com/m-ellizabeth/DM_Movchan.git</td>\n",
       "      <td>Мовчан</td>\n",
       "      <td>52.0</td>\n",
       "    </tr>\n",
       "    <tr>\n",
       "      <th>19</th>\n",
       "      <td>Павлюк</td>\n",
       "      <td>Владислав</td>\n",
       "      <td>v.pavlyuk_fit_4m_22_m_d@knute.edu.ua</td>\n",
       "      <td>NaN</td>\n",
       "      <td>NaN</td>\n",
       "      <td>NaN</td>\n",
       "    </tr>\n",
       "    <tr>\n",
       "      <th>20</th>\n",
       "      <td>Пивоваров</td>\n",
       "      <td>Владислав</td>\n",
       "      <td>v.pyvovarov_fit_4m_22_m_d@knute.edu.ua</td>\n",
       "      <td>NaN</td>\n",
       "      <td>NaN</td>\n",
       "      <td>NaN</td>\n",
       "    </tr>\n",
       "    <tr>\n",
       "      <th>21</th>\n",
       "      <td>Постоленко</td>\n",
       "      <td>Олександр</td>\n",
       "      <td>o.postolenko_fit_4m_22_m_d@knute.edu.ua</td>\n",
       "      <td>NaN</td>\n",
       "      <td>NaN</td>\n",
       "      <td>NaN</td>\n",
       "    </tr>\n",
       "    <tr>\n",
       "      <th>22</th>\n",
       "      <td>Силенко</td>\n",
       "      <td>Олександр</td>\n",
       "      <td>o.sylenko_fit_4m_22_m_d@knute.edu.ua</td>\n",
       "      <td>https://github.com/Onlinemirror/DM_sylenko_1m4...</td>\n",
       "      <td>Силенко</td>\n",
       "      <td>74.0</td>\n",
       "    </tr>\n",
       "    <tr>\n",
       "      <th>23</th>\n",
       "      <td>Стась</td>\n",
       "      <td>Олександр</td>\n",
       "      <td>o.stas_fit_4m_22_m_d@knute.edu.ua</td>\n",
       "      <td>https://github.com/OldWorldBIues/DM-stas</td>\n",
       "      <td>Стась</td>\n",
       "      <td>66.0</td>\n",
       "    </tr>\n",
       "    <tr>\n",
       "      <th>24</th>\n",
       "      <td>Стус</td>\n",
       "      <td>Олег</td>\n",
       "      <td>o.stus_fit_4m_22_m_d@knute.edu.ua</td>\n",
       "      <td>NaN</td>\n",
       "      <td>Стус</td>\n",
       "      <td>56.0</td>\n",
       "    </tr>\n",
       "    <tr>\n",
       "      <th>25</th>\n",
       "      <td>Ткач</td>\n",
       "      <td>Дмитро</td>\n",
       "      <td>d.tkach_fit_4m_22_m_d@knute.edu.ua</td>\n",
       "      <td>https://github.com/DmytroYuriyovych/DM_TkachDm...</td>\n",
       "      <td>Ткач</td>\n",
       "      <td>54.0</td>\n",
       "    </tr>\n",
       "    <tr>\n",
       "      <th>26</th>\n",
       "      <td>Устименко</td>\n",
       "      <td>Назар</td>\n",
       "      <td>n.ustymenko_fit_4m_22_m_d@knute.edu.ua</td>\n",
       "      <td>https://github.com/ustymenk0/DM-ustymenko.git</td>\n",
       "      <td>Устименко</td>\n",
       "      <td>35.0</td>\n",
       "    </tr>\n",
       "    <tr>\n",
       "      <th>27</th>\n",
       "      <td>Якименко</td>\n",
       "      <td>Владислав</td>\n",
       "      <td>v.yakymenko_fit_4m_22_m_d@knute.edu.ua</td>\n",
       "      <td>https://github.com/vladeeek/DM-v.yakymenko-2-</td>\n",
       "      <td>Якименко</td>\n",
       "      <td>47.0</td>\n",
       "    </tr>\n",
       "    <tr>\n",
       "      <th>28</th>\n",
       "      <td>Яцуненко</td>\n",
       "      <td>Ростислав</td>\n",
       "      <td>r.yatsunenko_fit_4m_22_m_d@knute.edu.ua</td>\n",
       "      <td>NaN</td>\n",
       "      <td>NaN</td>\n",
       "      <td>NaN</td>\n",
       "    </tr>\n",
       "  </tbody>\n",
       "</table>\n",
       "</div>"
      ],
      "text/plain": [
       "        Surname     Name_x                                     email  \\\n",
       "0       Антонов       Іван      i.antonov_fit_4m_22_m_d@knute.edu.ua   \n",
       "1       Антонюк     Данило     d.antonyuk_fit_4m_22_m_d@knute.edu.ua   \n",
       "2    Багінський      Вадим    v.bahinskyy_fit_4m_22_m_d@knute.edu.ua   \n",
       "3           Бай     Андрій          a.bay_fit_4m_22_m_d@knute.edu.ua   \n",
       "4   Безсмертний  Володимир  v.bezsmertnyy_fit_4m_22_m_d@knute.edu.ua   \n",
       "5        Будяну     Максим      m.budyanu_fit_4m_22_m_d@knute.edu.ua   \n",
       "6      Власенко  Олександр     o.vlasenko_fit_4m_22_m_d@knute.edu.ua   \n",
       "7         Гелла   Всеволод        v.hella_fit_4m_22_m_d@knute.edu.ua   \n",
       "8       Гонгало      Вадим      v.honhalo_fit_4m_22_m_d@knute.edu.ua   \n",
       "9         Дринь    Ярослав         y.dryn_fit_4m_22_m_d@knute.edu.ua   \n",
       "10      Дубовий       Іван      i.dubovyy_fit_4m_22_m_d@knute.edu.ua   \n",
       "11      Копотун   Світлана      s.kopotun_fit_4m_22_m_d@knute.edu.ua   \n",
       "12     Коротких    Віталій    v.korotkykh_fit_4m_22_m_d@knute.edu.ua   \n",
       "13       Красюк  Олександр      o.krasyuk_fit_4m_22_m_d@knute.edu.ua   \n",
       "14     Ластовка      Євген     y.lastovka_fit_4m_22_m_d@knute.edu.ua   \n",
       "15    Левицький  Владислав    v.levytskyy_fit_4m_22_m_d@knute.edu.ua   \n",
       "16   Мартиненко     Дмитро   d.martynenko_fit_4m_22_m_d@knute.edu.ua   \n",
       "17     Масовець  Олександр     o.masovets_fit_4m_22_m_d@knute.edu.ua   \n",
       "18       Мовчан  Єлизавета      y.movchan_fit_4m_22_m_d@knute.edu.ua   \n",
       "19       Павлюк  Владислав      v.pavlyuk_fit_4m_22_m_d@knute.edu.ua   \n",
       "20    Пивоваров  Владислав    v.pyvovarov_fit_4m_22_m_d@knute.edu.ua   \n",
       "21   Постоленко  Олександр   o.postolenko_fit_4m_22_m_d@knute.edu.ua   \n",
       "22      Силенко  Олександр      o.sylenko_fit_4m_22_m_d@knute.edu.ua   \n",
       "23        Стась  Олександр         o.stas_fit_4m_22_m_d@knute.edu.ua   \n",
       "24         Стус       Олег         o.stus_fit_4m_22_m_d@knute.edu.ua   \n",
       "25         Ткач     Дмитро        d.tkach_fit_4m_22_m_d@knute.edu.ua   \n",
       "26    Устименко      Назар    n.ustymenko_fit_4m_22_m_d@knute.edu.ua   \n",
       "27     Якименко  Владислав    v.yakymenko_fit_4m_22_m_d@knute.edu.ua   \n",
       "28     Яцуненко  Ростислав   r.yatsunenko_fit_4m_22_m_d@knute.edu.ua   \n",
       "\n",
       "                                               GitHub      Name_y  Rate  \n",
       "0                                                 NaN         NaN   NaN  \n",
       "1                                                 NaN         NaN   NaN  \n",
       "2                                                 NaN  Багінський  63.0  \n",
       "3                         https://github.com/Ullrvetr         Бай  51.0  \n",
       "4                                                 NaN         NaN   NaN  \n",
       "5                          https://github.com/Budeanu         NaN   NaN  \n",
       "6                                                 NaN    Власенко  52.0  \n",
       "7                                                 NaN       Гелла  82.0  \n",
       "8             https://github.com/Vaditos/DM--honhalo-     Гонгало  44.0  \n",
       "9                                                 NaN         NaN   NaN  \n",
       "10                                                NaN         NaN   NaN  \n",
       "11                        https://github.com/Kopotuns     Копотун  44.0  \n",
       "12                                                NaN    Коротких  69.0  \n",
       "13                                                NaN      Красюк  53.0  \n",
       "14        https://github.com/Pro7Za/DM-y.lastovka.git    Ластовка  77.0  \n",
       "15                                                NaN         NaN   NaN  \n",
       "16           https://github.com/Juvaily/DM-martynenko  Мартиненко  68.0  \n",
       "17           https://github.com/viceblond/DM-masovets    Масовець  78.0  \n",
       "18     https://github.com/m-ellizabeth/DM_Movchan.git      Мовчан  52.0  \n",
       "19                                                NaN         NaN   NaN  \n",
       "20                                                NaN         NaN   NaN  \n",
       "21                                                NaN         NaN   NaN  \n",
       "22  https://github.com/Onlinemirror/DM_sylenko_1m4...     Силенко  74.0  \n",
       "23           https://github.com/OldWorldBIues/DM-stas       Стась  66.0  \n",
       "24                                                NaN        Стус  56.0  \n",
       "25  https://github.com/DmytroYuriyovych/DM_TkachDm...        Ткач  54.0  \n",
       "26      https://github.com/ustymenk0/DM-ustymenko.git   Устименко  35.0  \n",
       "27      https://github.com/vladeeek/DM-v.yakymenko-2-    Якименко  47.0  \n",
       "28                                                NaN         NaN   NaN  "
      ]
     },
     "execution_count": 34,
     "metadata": {},
     "output_type": "execute_result"
    }
   ],
   "source": [
    "jornal_test"
   ]
  },
  {
   "cell_type": "code",
   "execution_count": 35,
   "metadata": {},
   "outputs": [],
   "source": [
    "# приведемо датасет до виду для подальшого аналізу:\n",
    "#   - змінемо ім'я колонки 'Name_x' на 'Name'\n",
    "#   - видалимо зайву колонку 'Name_y'\n",
    "#   - відсортеруємо по колонці 'Surname'\n",
    "\n",
    "jornal_test = jornal_test.rename(columns={\"Name_x\": \"Name\"}) \\\n",
    "                         .drop(columns=\"Name_y\")             \\\n",
    "                         .sort_values(\"Surname\", axis=0)"
   ]
  },
  {
   "cell_type": "code",
   "execution_count": 36,
   "metadata": {},
   "outputs": [
    {
     "data": {
      "text/html": [
       "<div>\n",
       "<style scoped>\n",
       "    .dataframe tbody tr th:only-of-type {\n",
       "        vertical-align: middle;\n",
       "    }\n",
       "\n",
       "    .dataframe tbody tr th {\n",
       "        vertical-align: top;\n",
       "    }\n",
       "\n",
       "    .dataframe thead th {\n",
       "        text-align: right;\n",
       "    }\n",
       "</style>\n",
       "<table border=\"1\" class=\"dataframe\">\n",
       "  <thead>\n",
       "    <tr style=\"text-align: right;\">\n",
       "      <th></th>\n",
       "      <th>Surname</th>\n",
       "      <th>Name</th>\n",
       "      <th>email</th>\n",
       "      <th>GitHub</th>\n",
       "      <th>Rate</th>\n",
       "    </tr>\n",
       "  </thead>\n",
       "  <tbody>\n",
       "    <tr>\n",
       "      <th>0</th>\n",
       "      <td>Антонов</td>\n",
       "      <td>Іван</td>\n",
       "      <td>i.antonov_fit_4m_22_m_d@knute.edu.ua</td>\n",
       "      <td>NaN</td>\n",
       "      <td>NaN</td>\n",
       "    </tr>\n",
       "    <tr>\n",
       "      <th>1</th>\n",
       "      <td>Антонюк</td>\n",
       "      <td>Данило</td>\n",
       "      <td>d.antonyuk_fit_4m_22_m_d@knute.edu.ua</td>\n",
       "      <td>NaN</td>\n",
       "      <td>NaN</td>\n",
       "    </tr>\n",
       "    <tr>\n",
       "      <th>2</th>\n",
       "      <td>Багінський</td>\n",
       "      <td>Вадим</td>\n",
       "      <td>v.bahinskyy_fit_4m_22_m_d@knute.edu.ua</td>\n",
       "      <td>NaN</td>\n",
       "      <td>63.0</td>\n",
       "    </tr>\n",
       "    <tr>\n",
       "      <th>3</th>\n",
       "      <td>Бай</td>\n",
       "      <td>Андрій</td>\n",
       "      <td>a.bay_fit_4m_22_m_d@knute.edu.ua</td>\n",
       "      <td>https://github.com/Ullrvetr</td>\n",
       "      <td>51.0</td>\n",
       "    </tr>\n",
       "    <tr>\n",
       "      <th>4</th>\n",
       "      <td>Безсмертний</td>\n",
       "      <td>Володимир</td>\n",
       "      <td>v.bezsmertnyy_fit_4m_22_m_d@knute.edu.ua</td>\n",
       "      <td>NaN</td>\n",
       "      <td>NaN</td>\n",
       "    </tr>\n",
       "    <tr>\n",
       "      <th>5</th>\n",
       "      <td>Будяну</td>\n",
       "      <td>Максим</td>\n",
       "      <td>m.budyanu_fit_4m_22_m_d@knute.edu.ua</td>\n",
       "      <td>https://github.com/Budeanu</td>\n",
       "      <td>NaN</td>\n",
       "    </tr>\n",
       "    <tr>\n",
       "      <th>6</th>\n",
       "      <td>Власенко</td>\n",
       "      <td>Олександр</td>\n",
       "      <td>o.vlasenko_fit_4m_22_m_d@knute.edu.ua</td>\n",
       "      <td>NaN</td>\n",
       "      <td>52.0</td>\n",
       "    </tr>\n",
       "    <tr>\n",
       "      <th>7</th>\n",
       "      <td>Гелла</td>\n",
       "      <td>Всеволод</td>\n",
       "      <td>v.hella_fit_4m_22_m_d@knute.edu.ua</td>\n",
       "      <td>NaN</td>\n",
       "      <td>82.0</td>\n",
       "    </tr>\n",
       "    <tr>\n",
       "      <th>8</th>\n",
       "      <td>Гонгало</td>\n",
       "      <td>Вадим</td>\n",
       "      <td>v.honhalo_fit_4m_22_m_d@knute.edu.ua</td>\n",
       "      <td>https://github.com/Vaditos/DM--honhalo-</td>\n",
       "      <td>44.0</td>\n",
       "    </tr>\n",
       "    <tr>\n",
       "      <th>9</th>\n",
       "      <td>Дринь</td>\n",
       "      <td>Ярослав</td>\n",
       "      <td>y.dryn_fit_4m_22_m_d@knute.edu.ua</td>\n",
       "      <td>NaN</td>\n",
       "      <td>NaN</td>\n",
       "    </tr>\n",
       "    <tr>\n",
       "      <th>10</th>\n",
       "      <td>Дубовий</td>\n",
       "      <td>Іван</td>\n",
       "      <td>i.dubovyy_fit_4m_22_m_d@knute.edu.ua</td>\n",
       "      <td>NaN</td>\n",
       "      <td>NaN</td>\n",
       "    </tr>\n",
       "    <tr>\n",
       "      <th>11</th>\n",
       "      <td>Копотун</td>\n",
       "      <td>Світлана</td>\n",
       "      <td>s.kopotun_fit_4m_22_m_d@knute.edu.ua</td>\n",
       "      <td>https://github.com/Kopotuns</td>\n",
       "      <td>44.0</td>\n",
       "    </tr>\n",
       "    <tr>\n",
       "      <th>12</th>\n",
       "      <td>Коротких</td>\n",
       "      <td>Віталій</td>\n",
       "      <td>v.korotkykh_fit_4m_22_m_d@knute.edu.ua</td>\n",
       "      <td>NaN</td>\n",
       "      <td>69.0</td>\n",
       "    </tr>\n",
       "    <tr>\n",
       "      <th>13</th>\n",
       "      <td>Красюк</td>\n",
       "      <td>Олександр</td>\n",
       "      <td>o.krasyuk_fit_4m_22_m_d@knute.edu.ua</td>\n",
       "      <td>NaN</td>\n",
       "      <td>53.0</td>\n",
       "    </tr>\n",
       "    <tr>\n",
       "      <th>14</th>\n",
       "      <td>Ластовка</td>\n",
       "      <td>Євген</td>\n",
       "      <td>y.lastovka_fit_4m_22_m_d@knute.edu.ua</td>\n",
       "      <td>https://github.com/Pro7Za/DM-y.lastovka.git</td>\n",
       "      <td>77.0</td>\n",
       "    </tr>\n",
       "    <tr>\n",
       "      <th>15</th>\n",
       "      <td>Левицький</td>\n",
       "      <td>Владислав</td>\n",
       "      <td>v.levytskyy_fit_4m_22_m_d@knute.edu.ua</td>\n",
       "      <td>NaN</td>\n",
       "      <td>NaN</td>\n",
       "    </tr>\n",
       "    <tr>\n",
       "      <th>16</th>\n",
       "      <td>Мартиненко</td>\n",
       "      <td>Дмитро</td>\n",
       "      <td>d.martynenko_fit_4m_22_m_d@knute.edu.ua</td>\n",
       "      <td>https://github.com/Juvaily/DM-martynenko</td>\n",
       "      <td>68.0</td>\n",
       "    </tr>\n",
       "    <tr>\n",
       "      <th>17</th>\n",
       "      <td>Масовець</td>\n",
       "      <td>Олександр</td>\n",
       "      <td>o.masovets_fit_4m_22_m_d@knute.edu.ua</td>\n",
       "      <td>https://github.com/viceblond/DM-masovets</td>\n",
       "      <td>78.0</td>\n",
       "    </tr>\n",
       "    <tr>\n",
       "      <th>18</th>\n",
       "      <td>Мовчан</td>\n",
       "      <td>Єлизавета</td>\n",
       "      <td>y.movchan_fit_4m_22_m_d@knute.edu.ua</td>\n",
       "      <td>https://github.com/m-ellizabeth/DM_Movchan.git</td>\n",
       "      <td>52.0</td>\n",
       "    </tr>\n",
       "    <tr>\n",
       "      <th>19</th>\n",
       "      <td>Павлюк</td>\n",
       "      <td>Владислав</td>\n",
       "      <td>v.pavlyuk_fit_4m_22_m_d@knute.edu.ua</td>\n",
       "      <td>NaN</td>\n",
       "      <td>NaN</td>\n",
       "    </tr>\n",
       "    <tr>\n",
       "      <th>20</th>\n",
       "      <td>Пивоваров</td>\n",
       "      <td>Владислав</td>\n",
       "      <td>v.pyvovarov_fit_4m_22_m_d@knute.edu.ua</td>\n",
       "      <td>NaN</td>\n",
       "      <td>NaN</td>\n",
       "    </tr>\n",
       "    <tr>\n",
       "      <th>21</th>\n",
       "      <td>Постоленко</td>\n",
       "      <td>Олександр</td>\n",
       "      <td>o.postolenko_fit_4m_22_m_d@knute.edu.ua</td>\n",
       "      <td>NaN</td>\n",
       "      <td>NaN</td>\n",
       "    </tr>\n",
       "    <tr>\n",
       "      <th>22</th>\n",
       "      <td>Силенко</td>\n",
       "      <td>Олександр</td>\n",
       "      <td>o.sylenko_fit_4m_22_m_d@knute.edu.ua</td>\n",
       "      <td>https://github.com/Onlinemirror/DM_sylenko_1m4...</td>\n",
       "      <td>74.0</td>\n",
       "    </tr>\n",
       "    <tr>\n",
       "      <th>23</th>\n",
       "      <td>Стась</td>\n",
       "      <td>Олександр</td>\n",
       "      <td>o.stas_fit_4m_22_m_d@knute.edu.ua</td>\n",
       "      <td>https://github.com/OldWorldBIues/DM-stas</td>\n",
       "      <td>66.0</td>\n",
       "    </tr>\n",
       "    <tr>\n",
       "      <th>24</th>\n",
       "      <td>Стус</td>\n",
       "      <td>Олег</td>\n",
       "      <td>o.stus_fit_4m_22_m_d@knute.edu.ua</td>\n",
       "      <td>NaN</td>\n",
       "      <td>56.0</td>\n",
       "    </tr>\n",
       "    <tr>\n",
       "      <th>25</th>\n",
       "      <td>Ткач</td>\n",
       "      <td>Дмитро</td>\n",
       "      <td>d.tkach_fit_4m_22_m_d@knute.edu.ua</td>\n",
       "      <td>https://github.com/DmytroYuriyovych/DM_TkachDm...</td>\n",
       "      <td>54.0</td>\n",
       "    </tr>\n",
       "    <tr>\n",
       "      <th>26</th>\n",
       "      <td>Устименко</td>\n",
       "      <td>Назар</td>\n",
       "      <td>n.ustymenko_fit_4m_22_m_d@knute.edu.ua</td>\n",
       "      <td>https://github.com/ustymenk0/DM-ustymenko.git</td>\n",
       "      <td>35.0</td>\n",
       "    </tr>\n",
       "    <tr>\n",
       "      <th>27</th>\n",
       "      <td>Якименко</td>\n",
       "      <td>Владислав</td>\n",
       "      <td>v.yakymenko_fit_4m_22_m_d@knute.edu.ua</td>\n",
       "      <td>https://github.com/vladeeek/DM-v.yakymenko-2-</td>\n",
       "      <td>47.0</td>\n",
       "    </tr>\n",
       "    <tr>\n",
       "      <th>28</th>\n",
       "      <td>Яцуненко</td>\n",
       "      <td>Ростислав</td>\n",
       "      <td>r.yatsunenko_fit_4m_22_m_d@knute.edu.ua</td>\n",
       "      <td>NaN</td>\n",
       "      <td>NaN</td>\n",
       "    </tr>\n",
       "  </tbody>\n",
       "</table>\n",
       "</div>"
      ],
      "text/plain": [
       "        Surname       Name                                     email  \\\n",
       "0       Антонов       Іван      i.antonov_fit_4m_22_m_d@knute.edu.ua   \n",
       "1       Антонюк     Данило     d.antonyuk_fit_4m_22_m_d@knute.edu.ua   \n",
       "2    Багінський      Вадим    v.bahinskyy_fit_4m_22_m_d@knute.edu.ua   \n",
       "3           Бай     Андрій          a.bay_fit_4m_22_m_d@knute.edu.ua   \n",
       "4   Безсмертний  Володимир  v.bezsmertnyy_fit_4m_22_m_d@knute.edu.ua   \n",
       "5        Будяну     Максим      m.budyanu_fit_4m_22_m_d@knute.edu.ua   \n",
       "6      Власенко  Олександр     o.vlasenko_fit_4m_22_m_d@knute.edu.ua   \n",
       "7         Гелла   Всеволод        v.hella_fit_4m_22_m_d@knute.edu.ua   \n",
       "8       Гонгало      Вадим      v.honhalo_fit_4m_22_m_d@knute.edu.ua   \n",
       "9         Дринь    Ярослав         y.dryn_fit_4m_22_m_d@knute.edu.ua   \n",
       "10      Дубовий       Іван      i.dubovyy_fit_4m_22_m_d@knute.edu.ua   \n",
       "11      Копотун   Світлана      s.kopotun_fit_4m_22_m_d@knute.edu.ua   \n",
       "12     Коротких    Віталій    v.korotkykh_fit_4m_22_m_d@knute.edu.ua   \n",
       "13       Красюк  Олександр      o.krasyuk_fit_4m_22_m_d@knute.edu.ua   \n",
       "14     Ластовка      Євген     y.lastovka_fit_4m_22_m_d@knute.edu.ua   \n",
       "15    Левицький  Владислав    v.levytskyy_fit_4m_22_m_d@knute.edu.ua   \n",
       "16   Мартиненко     Дмитро   d.martynenko_fit_4m_22_m_d@knute.edu.ua   \n",
       "17     Масовець  Олександр     o.masovets_fit_4m_22_m_d@knute.edu.ua   \n",
       "18       Мовчан  Єлизавета      y.movchan_fit_4m_22_m_d@knute.edu.ua   \n",
       "19       Павлюк  Владислав      v.pavlyuk_fit_4m_22_m_d@knute.edu.ua   \n",
       "20    Пивоваров  Владислав    v.pyvovarov_fit_4m_22_m_d@knute.edu.ua   \n",
       "21   Постоленко  Олександр   o.postolenko_fit_4m_22_m_d@knute.edu.ua   \n",
       "22      Силенко  Олександр      o.sylenko_fit_4m_22_m_d@knute.edu.ua   \n",
       "23        Стась  Олександр         o.stas_fit_4m_22_m_d@knute.edu.ua   \n",
       "24         Стус       Олег         o.stus_fit_4m_22_m_d@knute.edu.ua   \n",
       "25         Ткач     Дмитро        d.tkach_fit_4m_22_m_d@knute.edu.ua   \n",
       "26    Устименко      Назар    n.ustymenko_fit_4m_22_m_d@knute.edu.ua   \n",
       "27     Якименко  Владислав    v.yakymenko_fit_4m_22_m_d@knute.edu.ua   \n",
       "28     Яцуненко  Ростислав   r.yatsunenko_fit_4m_22_m_d@knute.edu.ua   \n",
       "\n",
       "                                               GitHub  Rate  \n",
       "0                                                 NaN   NaN  \n",
       "1                                                 NaN   NaN  \n",
       "2                                                 NaN  63.0  \n",
       "3                         https://github.com/Ullrvetr  51.0  \n",
       "4                                                 NaN   NaN  \n",
       "5                          https://github.com/Budeanu   NaN  \n",
       "6                                                 NaN  52.0  \n",
       "7                                                 NaN  82.0  \n",
       "8             https://github.com/Vaditos/DM--honhalo-  44.0  \n",
       "9                                                 NaN   NaN  \n",
       "10                                                NaN   NaN  \n",
       "11                        https://github.com/Kopotuns  44.0  \n",
       "12                                                NaN  69.0  \n",
       "13                                                NaN  53.0  \n",
       "14        https://github.com/Pro7Za/DM-y.lastovka.git  77.0  \n",
       "15                                                NaN   NaN  \n",
       "16           https://github.com/Juvaily/DM-martynenko  68.0  \n",
       "17           https://github.com/viceblond/DM-masovets  78.0  \n",
       "18     https://github.com/m-ellizabeth/DM_Movchan.git  52.0  \n",
       "19                                                NaN   NaN  \n",
       "20                                                NaN   NaN  \n",
       "21                                                NaN   NaN  \n",
       "22  https://github.com/Onlinemirror/DM_sylenko_1m4...  74.0  \n",
       "23           https://github.com/OldWorldBIues/DM-stas  66.0  \n",
       "24                                                NaN  56.0  \n",
       "25  https://github.com/DmytroYuriyovych/DM_TkachDm...  54.0  \n",
       "26      https://github.com/ustymenk0/DM-ustymenko.git  35.0  \n",
       "27      https://github.com/vladeeek/DM-v.yakymenko-2-  47.0  \n",
       "28                                                NaN   NaN  "
      ]
     },
     "execution_count": 36,
     "metadata": {},
     "output_type": "execute_result"
    }
   ],
   "source": [
    "jornal_test"
   ]
  },
  {
   "cell_type": "markdown",
   "metadata": {},
   "source": [
    "#### ПРИКЛАД  ДЕСКРИПТИВНОГО АНАЛІЗУ ДАНИХ\n",
    "\n",
    "Провести [попередній аналіз](https://ru.wikipedia.org/wiki/Описательная_статистика) отриманих даних з ціллю виявленя відхилень, помилок та інших непридатних даних."
   ]
  },
  {
   "cell_type": "markdown",
   "metadata": {},
   "source": [
    "Сведемо результати аналізу в таблицю, яка має наступний вигляд:\n",
    "\n",
    "№| Показчик | Значення\n",
    ":--:|:-------|-------:\n",
    "1| кількість спостережень | xx \n",
    "2| кількість пустих значень | xx\n",
    "4| середній бал|  xx.x\n",
    "5| максимальний бал | xx\n",
    "6| мінімальний бал  | xx\n",
    "7| стандартне відхилення | xx.x\n",
    "8| розмах вариації  | xx\n"
   ]
  },
  {
   "cell_type": "code",
   "execution_count": 37,
   "metadata": {},
   "outputs": [
    {
     "data": {
      "text/html": [
       "<div>\n",
       "<style scoped>\n",
       "    .dataframe tbody tr th:only-of-type {\n",
       "        vertical-align: middle;\n",
       "    }\n",
       "\n",
       "    .dataframe tbody tr th {\n",
       "        vertical-align: top;\n",
       "    }\n",
       "\n",
       "    .dataframe thead th {\n",
       "        text-align: right;\n",
       "    }\n",
       "</style>\n",
       "<table border=\"1\" class=\"dataframe\">\n",
       "  <thead>\n",
       "    <tr style=\"text-align: right;\">\n",
       "      <th></th>\n",
       "      <th>Rate</th>\n",
       "    </tr>\n",
       "  </thead>\n",
       "  <tbody>\n",
       "    <tr>\n",
       "      <th>count</th>\n",
       "      <td>18.000000</td>\n",
       "    </tr>\n",
       "    <tr>\n",
       "      <th>mean</th>\n",
       "      <td>59.166667</td>\n",
       "    </tr>\n",
       "    <tr>\n",
       "      <th>std</th>\n",
       "      <td>13.474377</td>\n",
       "    </tr>\n",
       "    <tr>\n",
       "      <th>min</th>\n",
       "      <td>35.000000</td>\n",
       "    </tr>\n",
       "    <tr>\n",
       "      <th>25%</th>\n",
       "      <td>51.250000</td>\n",
       "    </tr>\n",
       "    <tr>\n",
       "      <th>50%</th>\n",
       "      <td>55.000000</td>\n",
       "    </tr>\n",
       "    <tr>\n",
       "      <th>75%</th>\n",
       "      <td>68.750000</td>\n",
       "    </tr>\n",
       "    <tr>\n",
       "      <th>max</th>\n",
       "      <td>82.000000</td>\n",
       "    </tr>\n",
       "  </tbody>\n",
       "</table>\n",
       "</div>"
      ],
      "text/plain": [
       "            Rate\n",
       "count  18.000000\n",
       "mean   59.166667\n",
       "std    13.474377\n",
       "min    35.000000\n",
       "25%    51.250000\n",
       "50%    55.000000\n",
       "75%    68.750000\n",
       "max    82.000000"
      ]
     },
     "execution_count": 37,
     "metadata": {},
     "output_type": "execute_result"
    }
   ],
   "source": [
    "jornal_test.describe()"
   ]
  },
  {
   "cell_type": "code",
   "execution_count": 38,
   "metadata": {
    "run_control": {
     "marked": false
    }
   },
   "outputs": [],
   "source": [
    "# сведемо розрахункові показчики у 2-мірну матрицю\n",
    "values = [\n",
    "    [\"Кількість спостережень\",   jornal_test.count()[\"Surname\"]],\n",
    "    [\"Кількість пустих значень\", jornal_test.count()[\"Rate\"]],\n",
    "    [\"Середній бал\",             jornal_test.mean()[\"Rate\"]],\n",
    "    [\"Максимальний бал\",         jornal_test.max()[\"Rate\"]],\n",
    "    [\"Мінімальний бал\",          jornal_test.max()[\"Rate\"]],\n",
    "    [\"Стандартне відхилення\",    jornal_test.std()[\"Rate\"]],\n",
    "    [\"Розмах вариації\",          jornal_test.max()[\"Rate\"] - jornal_test.min()[\"Rate\"]]\n",
    "]"
   ]
  },
  {
   "cell_type": "code",
   "execution_count": 41,
   "metadata": {},
   "outputs": [
    {
     "data": {
      "text/plain": [
       "[['Кількість спостережень', 29],\n",
       " ['Кількість пустих значень', 18],\n",
       " ['Середній бал', 59.166666666666664],\n",
       " ['Максимальний бал', 82.0],\n",
       " ['Мінімальний бал', 82.0],\n",
       " ['Стандартне відхилення', 13.474376554386915],\n",
       " ['Розмах вариації', 47.0]]"
      ]
     },
     "execution_count": 41,
     "metadata": {},
     "output_type": "execute_result"
    }
   ],
   "source": [
    "values"
   ]
  },
  {
   "cell_type": "code",
   "execution_count": 42,
   "metadata": {
    "run_control": {
     "marked": false
    }
   },
   "outputs": [],
   "source": [
    "# будуємо результатний датасет\n",
    "result = pd.DataFrame( data=values, columns=[\"Показчик\", \"Значення\"], dtype='object')"
   ]
  },
  {
   "cell_type": "code",
   "execution_count": 43,
   "metadata": {
    "scrolled": true
   },
   "outputs": [
    {
     "data": {
      "text/html": [
       "<div>\n",
       "<style scoped>\n",
       "    .dataframe tbody tr th:only-of-type {\n",
       "        vertical-align: middle;\n",
       "    }\n",
       "\n",
       "    .dataframe tbody tr th {\n",
       "        vertical-align: top;\n",
       "    }\n",
       "\n",
       "    .dataframe thead th {\n",
       "        text-align: right;\n",
       "    }\n",
       "</style>\n",
       "<table border=\"1\" class=\"dataframe\">\n",
       "  <thead>\n",
       "    <tr style=\"text-align: right;\">\n",
       "      <th></th>\n",
       "      <th>Показчик</th>\n",
       "      <th>Значення</th>\n",
       "    </tr>\n",
       "  </thead>\n",
       "  <tbody>\n",
       "    <tr>\n",
       "      <th>0</th>\n",
       "      <td>Кількість спостережень</td>\n",
       "      <td>29</td>\n",
       "    </tr>\n",
       "    <tr>\n",
       "      <th>1</th>\n",
       "      <td>Кількість пустих значень</td>\n",
       "      <td>18</td>\n",
       "    </tr>\n",
       "    <tr>\n",
       "      <th>2</th>\n",
       "      <td>Середній бал</td>\n",
       "      <td>59.166667</td>\n",
       "    </tr>\n",
       "    <tr>\n",
       "      <th>3</th>\n",
       "      <td>Максимальний бал</td>\n",
       "      <td>82.0</td>\n",
       "    </tr>\n",
       "    <tr>\n",
       "      <th>4</th>\n",
       "      <td>Мінімальний бал</td>\n",
       "      <td>82.0</td>\n",
       "    </tr>\n",
       "    <tr>\n",
       "      <th>5</th>\n",
       "      <td>Стандартне відхилення</td>\n",
       "      <td>13.474377</td>\n",
       "    </tr>\n",
       "    <tr>\n",
       "      <th>6</th>\n",
       "      <td>Розмах вариації</td>\n",
       "      <td>47.0</td>\n",
       "    </tr>\n",
       "  </tbody>\n",
       "</table>\n",
       "</div>"
      ],
      "text/plain": [
       "                   Показчик   Значення\n",
       "0    Кількість спостережень         29\n",
       "1  Кількість пустих значень         18\n",
       "2              Середній бал  59.166667\n",
       "3          Максимальний бал       82.0\n",
       "4           Мінімальний бал       82.0\n",
       "5     Стандартне відхилення  13.474377\n",
       "6           Розмах вариації       47.0"
      ]
     },
     "execution_count": 43,
     "metadata": {},
     "output_type": "execute_result"
    }
   ],
   "source": [
    "result"
   ]
  },
  {
   "cell_type": "markdown",
   "metadata": {},
   "source": [
    "### ІНДИВІДУАЛЬНЕ ЗАВДАННЯ"
   ]
  },
  {
   "cell_type": "markdown",
   "metadata": {},
   "source": [
    "Користуючись результатами, що отримані в [Лабораторній роботі № 3](https://shkliarskiy.moodlecloud.com/mod/page/view.php?id=1193) виконати процедури видобутку, збагачення та попереднього аналізу даних за допомогою ббліотеки __Pandas__.\n",
    "\n",
    "__Постановка__: В 3-й лабораторній роботі отримано показчик, що характеризує окрему властивість квартири (ціна, метраж та ін.). \n",
    "Необхідно:\n",
    "1. Створити pandas-датасет з файлу `aprt_properties.csv`, який містить всі показчики квартир \n",
    "2. Прив'язати цей датасет до датасету з розбивкою вулиць по районам\n",
    "3. Отримати сводний датасет у вигляді (*приклад*):\n",
    "<img src='result_img.png' width=600px>"
   ]
  },
  {
   "cell_type": "code",
   "execution_count": null,
   "metadata": {
    "run_control": {
     "marked": true
    }
   },
   "outputs": [],
   "source": [
    "# імпортувати бібліотеку Pandas\n",
    "import pandas as pd\n",
    "import numpy as np"
   ]
  },
  {
   "cell_type": "code",
   "execution_count": null,
   "metadata": {
    "run_control": {
     "marked": true
    }
   },
   "outputs": [],
   "source": [
    "# створирти датасет 'aprt_properties' з файлу 'aprt_properties.csv'\n",
    "aprt_properties = pd.read_csv('aprt_properties.csv')"
   ]
  },
  {
   "cell_type": "code",
   "execution_count": null,
   "metadata": {
    "run_control": {
     "marked": true
    }
   },
   "outputs": [],
   "source": [
    "# вивести перші десять рядків датасету\n",
    "aprt_properties.head(10)"
   ]
  },
  {
   "cell_type": "code",
   "execution_count": null,
   "metadata": {
    "code_folding": []
   },
   "outputs": [],
   "source": [
    "# створити датасет 'reestr' з прив'язкою вуліць до районів з excel-файлу\n",
    "# `Реєстр вулиць міста Києва-станом на 25-10-2020.xlsx`\n",
    "\n",
    "reestr = pd.read_excel('Реєстр вулиць міста Києва-станом на 25-10-2020.xlsx',\n",
    "                       names= [\n",
    "                                 '№',\n",
    "                                 'код',\n",
    "                                 'Вулиця',\n",
    "                                 'тип',\n",
    "                                 'Район',\n",
    "                                 'Документ',\n",
    "                                 'Дата документу',\n",
    "                                 'Номер документу',\n",
    "                                 'Заголовок документу',\n",
    "                                 'розташування',\n",
    "                                 'Найменування',\n",
    "                                 'Категорія'\n",
    "                       ],\n",
    "                       header=None, skiprows=range(4), index_col=0)"
   ]
  },
  {
   "cell_type": "code",
   "execution_count": null,
   "metadata": {},
   "outputs": [],
   "source": [
    "type(None)"
   ]
  },
  {
   "cell_type": "code",
   "execution_count": null,
   "metadata": {},
   "outputs": [],
   "source": [
    "type(np.nan)"
   ]
  },
  {
   "cell_type": "code",
   "execution_count": null,
   "metadata": {
    "run_control": {
     "marked": true
    }
   },
   "outputs": [],
   "source": [
    "# вивести 5 останніх рядків датасету `reestr`  \n",
    "reestr.tail(5)"
   ]
  },
  {
   "cell_type": "code",
   "execution_count": null,
   "metadata": {},
   "outputs": [],
   "source": [
    "aprt_properties.merge?"
   ]
  },
  {
   "cell_type": "code",
   "execution_count": null,
   "metadata": {
    "run_control": {
     "marked": true
    }
   },
   "outputs": [],
   "source": [
    "# приєднати райони з датасету 'reestr' до датасету 'aprt_properties'\n",
    "# по загальному полю\n",
    "\n",
    "street_district = aprt_properties.merge(reestr[['Вулиця', 'Район']], \n",
    "                                        left_on='street', right_on='Вулиця',\n",
    "                                        how='left')"
   ]
  },
  {
   "cell_type": "code",
   "execution_count": null,
   "metadata": {
    "run_control": {
     "marked": true
    }
   },
   "outputs": [],
   "source": [
    "# вивести перші 10 рядків датасету 'street_district'\n",
    "street_district.head(10)"
   ]
  },
  {
   "cell_type": "code",
   "execution_count": null,
   "metadata": {},
   "outputs": [],
   "source": []
  },
  {
   "cell_type": "code",
   "execution_count": null,
   "metadata": {
    "code_folding": []
   },
   "outputs": [],
   "source": [
    "# поліпшити якість датасету:\n",
    "\n",
    "# - замінити `NaN`  району на ''\n",
    "street_district[\"Район\"] = street_district[\"Район\"].fillna('') \n",
    "\n",
    "# - замінити список районів на перший\n",
    "street_district[\"Район\"] = street_district[\"Район\"].str.split(',')\n",
    "district_list = street_district[\"Район\"].to_list()\n",
    "district_list = [x[0] for x in district_list]\n",
    "street_district[\"Район\"] = pd.Series(district_list)\n",
    "\n",
    "# - видалити дублюючі записи\n",
    "street_district = street_district.drop_duplicates(subset=\n",
    "                                ['Price', 'rooms', 'price_per_m2', 'level', 'levels'])\n",
    "\n",
    "street_district.head(10)"
   ]
  },
  {
   "cell_type": "code",
   "execution_count": null,
   "metadata": {},
   "outputs": [],
   "source": [
    "# - замінити `NaN`  району на ''\n",
    "street_district[\"Район\"] = street_district[\"Район\"].fillna('') \n"
   ]
  },
  {
   "cell_type": "code",
   "execution_count": null,
   "metadata": {},
   "outputs": [],
   "source": [
    "street_district[\"Район\"] = street_district[\"Район\"].str.split(',')"
   ]
  },
  {
   "cell_type": "code",
   "execution_count": null,
   "metadata": {},
   "outputs": [],
   "source": [
    "district_list = street_district[\"Район\"].to_list()\n",
    "district_list = [x[0] for x in district_list]\n",
    "street_district[\"Район\"] = pd.Series(district_list)\n",
    "\n"
   ]
  },
  {
   "cell_type": "code",
   "execution_count": null,
   "metadata": {},
   "outputs": [],
   "source": [
    "street_district = street_district.drop_duplicates(subset=\n",
    "                                ['Price', 'rooms', 'price_per_m2', 'level', 'levels'])\n",
    "\n"
   ]
  },
  {
   "cell_type": "code",
   "execution_count": null,
   "metadata": {},
   "outputs": [],
   "source": [
    "street_district.tail(3)"
   ]
  },
  {
   "cell_type": "code",
   "execution_count": null,
   "metadata": {},
   "outputs": [],
   "source": [
    "street_district[street_district['area_kitchen'] == 'None']"
   ]
  },
  {
   "cell_type": "code",
   "execution_count": null,
   "metadata": {
    "scrolled": true
   },
   "outputs": [],
   "source": [
    "street_district[street_district['area_kitchen'] == 'None'] = np.nan"
   ]
  },
  {
   "cell_type": "code",
   "execution_count": null,
   "metadata": {
    "run_control": {
     "marked": true
    }
   },
   "outputs": [],
   "source": [
    "# отримати сводний датасет по вашому показчику \n",
    "# ім'я показчика брати в лапки!\n",
    "\n",
    "import numpy as np\n",
    "result = street_district[[ 'Район', 'Price']]  \\\n",
    "      .groupby(['Район']) \\\n",
    "      .agg(Всього=('Price', 'count'),\n",
    "           Макс=('Price', 'max'),\n",
    "           Мін=('Price', 'min'),\n",
    "           Ст_відх=('Price', 'std'),\n",
    "           Середнє=('Price', 'mean'),\n",
    "           Розмах=('Price', np.ptp)).round(2)"
   ]
  },
  {
   "cell_type": "code",
   "execution_count": null,
   "metadata": {
    "code_folding": [],
    "run_control": {
     "marked": true
    }
   },
   "outputs": [],
   "source": [
    "# вивести результат\n",
    "result"
   ]
  },
  {
   "cell_type": "code",
   "execution_count": null,
   "metadata": {},
   "outputs": [],
   "source": []
  }
 ],
 "metadata": {
  "kernelspec": {
   "display_name": "Python 3 (ipykernel)",
   "language": "python",
   "name": "python3"
  },
  "language_info": {
   "codemirror_mode": {
    "name": "ipython",
    "version": 3
   },
   "file_extension": ".py",
   "mimetype": "text/x-python",
   "name": "python",
   "nbconvert_exporter": "python",
   "pygments_lexer": "ipython3",
   "version": "3.9.12"
  },
  "varInspector": {
   "cols": {
    "lenName": 16,
    "lenType": 16,
    "lenVar": 40
   },
   "kernels_config": {
    "python": {
     "delete_cmd_postfix": "",
     "delete_cmd_prefix": "del ",
     "library": "var_list.py",
     "varRefreshCmd": "print(var_dic_list())"
    },
    "r": {
     "delete_cmd_postfix": ") ",
     "delete_cmd_prefix": "rm(",
     "library": "var_list.r",
     "varRefreshCmd": "cat(var_dic_list()) "
    }
   },
   "types_to_exclude": [
    "module",
    "function",
    "builtin_function_or_method",
    "instance",
    "_Feature"
   ],
   "window_display": false
  }
 },
 "nbformat": 4,
 "nbformat_minor": 2
}

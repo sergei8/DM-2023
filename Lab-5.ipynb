{
 "cells": [
  {
   "cell_type": "markdown",
   "metadata": {},
   "source": [
    "# Data Mining в середовищі Pandas"
   ]
  },
  {
   "cell_type": "markdown",
   "metadata": {},
   "source": [
    "### ТЕОРЕТИЧНА ЧАСТИНА ТА ПРИКЛАДИ"
   ]
  },
  {
   "cell_type": "markdown",
   "metadata": {},
   "source": [
    "Для роботи з структурованими табличними даними на мові Python розроблено [бібліотеку __Pandas__](https://ru.wikipedia.org/wiki/Pandas)\n",
    "- [Офіційний сайт](https://pandas.pydata.org)\n",
    "- [Сайт на GitHub](https://github.com/pandas-dev/pandas)"
   ]
  },
  {
   "cell_type": "code",
   "execution_count": 1,
   "metadata": {},
   "outputs": [],
   "source": [
    "# підключення бібліотеки з аліасом/псевдонімом 'pd'\n",
    "import pandas as pd"
   ]
  },
  {
   "cell_type": "code",
   "execution_count": null,
   "metadata": {},
   "outputs": [],
   "source": [
    "print(dir(pd))"
   ]
  },
  {
   "cell_type": "markdown",
   "metadata": {},
   "source": [
    "#### ПРИКЛАД ЗАВАНТАЖЕННЯ ДАНИХ В Pandas з ЗОВНІШНІХ ДЖЕРЕЛ\n",
    "Створити в Pandas датасет з ім'ям `jornal`, та завантажити в нього csv-файл, що містить журнал групи `Jornal.csv`"
   ]
  },
  {
   "cell_type": "code",
   "execution_count": null,
   "metadata": {},
   "outputs": [],
   "source": [
    "# створюємо датасет та завантажуємо в нього csv-файл \n",
    "jornal = pd.read_csv('Jornal.csv')"
   ]
  },
  {
   "cell_type": "code",
   "execution_count": null,
   "metadata": {},
   "outputs": [],
   "source": [
    "type(jornal)"
   ]
  },
  {
   "cell_type": "markdown",
   "metadata": {},
   "source": [
    "##### виведемо ВСІ записи датасету `jornal`"
   ]
  },
  {
   "cell_type": "code",
   "execution_count": null,
   "metadata": {},
   "outputs": [],
   "source": [
    "jornal"
   ]
  },
  {
   "cell_type": "markdown",
   "metadata": {
    "heading_collapsed": true
   },
   "source": [
    "#### ПРИКЛАД ЗБАГАЧЕННЯ ДАНИХ \n",
    "\n",
    "Додати до журналу оцінки за вступне тестування, які розташовані в csv файлі `test_result.csv`"
   ]
  },
  {
   "cell_type": "code",
   "execution_count": null,
   "metadata": {
    "hidden": true
   },
   "outputs": [],
   "source": [
    "# створимо датасет з результатами тестів\n",
    "test_result = pd.read_csv('test_result.csv')"
   ]
  },
  {
   "cell_type": "code",
   "execution_count": null,
   "metadata": {
    "hidden": true
   },
   "outputs": [],
   "source": [
    "test_result.head(5)"
   ]
  },
  {
   "cell_type": "code",
   "execution_count": null,
   "metadata": {
    "hidden": true
   },
   "outputs": [],
   "source": [
    "# переіменуємо робочі поля для зручності\n",
    "test_result.rename(columns={\"Ім'я\": \"Name\", \"Оцінка/100\": \"Rate\"}, inplace=True)"
   ]
  },
  {
   "cell_type": "markdown",
   "metadata": {
    "hidden": true
   },
   "source": [
    "##### Cтворимо новий датасет `jornal_test`, який буде містити вміст датасету `jornal` та колонку оцінок з  `test_result`\n",
    "\n"
   ]
  },
  {
   "cell_type": "code",
   "execution_count": null,
   "metadata": {
    "hidden": true
   },
   "outputs": [],
   "source": [
    "# виконаємо поєднання через метод 'merge':\n",
    "#   лівий дадатсет - беремо всі колонки з 'jornal'\n",
    "#   правий датасет - беремо дві колонки з 'test_result'\n",
    "\n",
    "jornal_test = jornal.merge(test_result[[\"Name\", \"Rate\"]], \n",
    "                           left_on=\"Surname\", right_on=\"Name\", how='left')"
   ]
  },
  {
   "cell_type": "code",
   "execution_count": null,
   "metadata": {
    "hidden": true
   },
   "outputs": [],
   "source": [
    "jornal_test"
   ]
  },
  {
   "cell_type": "code",
   "execution_count": null,
   "metadata": {
    "hidden": true
   },
   "outputs": [],
   "source": [
    "# приведемо датасет до виду для подальшого аналізу:\n",
    "#   - змінемо ім'я колонки 'Name_x' на 'Name'\n",
    "#   - видалимо зайву колонку 'Name_y'\n",
    "#   - відсортеруємо по колонці 'Surname'\n",
    "\n",
    "jornal_test = jornal_test.rename(columns={\"Name_x\": \"Name\"}) \\\n",
    "                         .drop(columns=\"Name_y\")             \\\n",
    "                         .sort_values(\"Surname\", axis=0)"
   ]
  },
  {
   "cell_type": "code",
   "execution_count": null,
   "metadata": {
    "hidden": true
   },
   "outputs": [],
   "source": [
    "jornal_test"
   ]
  },
  {
   "cell_type": "markdown",
   "metadata": {
    "heading_collapsed": true
   },
   "source": [
    "#### ПРИКЛАД  ДЕСКРИПТИВНОГО АНАЛІЗУ ДАНИХ\n",
    "\n",
    "Провести [попередній аналіз](https://ru.wikipedia.org/wiki/Описательная_статистика) отриманих даних з ціллю виявленя відхилень, помилок та інших непридатних даних."
   ]
  },
  {
   "cell_type": "markdown",
   "metadata": {
    "hidden": true
   },
   "source": [
    "Сведемо результати аналізу в таблицю, яка має наступний вигляд:\n",
    "\n",
    "№| Показчик | Значення\n",
    ":--:|:-------|-------:\n",
    "1| кількість спостережень | xx \n",
    "2| кількість пустих значень | xx\n",
    "4| середній бал|  xx.x\n",
    "5| максимальний бал | xx\n",
    "6| мінімальний бал  | xx\n",
    "7| стандартне відхилення | xx.x\n",
    "8| розмах вариації  | xx\n"
   ]
  },
  {
   "cell_type": "code",
   "execution_count": null,
   "metadata": {
    "hidden": true
   },
   "outputs": [],
   "source": [
    "jornal_test.describe()"
   ]
  },
  {
   "cell_type": "code",
   "execution_count": null,
   "metadata": {
    "hidden": true,
    "run_control": {
     "marked": false
    }
   },
   "outputs": [],
   "source": [
    "# сведемо розрахункові показчики у 2-мірну матрицю\n",
    "values = [\n",
    "    [\"Кількість спостережень\",   jornal_test.count()[\"Surname\"]],\n",
    "    [\"Кількість пустих значень\", jornal_test.count()[\"Rate\"]],\n",
    "    [\"Середній бал\",             jornal_test.mean()[\"Rate\"]],\n",
    "    [\"Максимальний бал\",         jornal_test.max()[\"Rate\"]],\n",
    "    [\"Мінімальний бал\",          jornal_test.max()[\"Rate\"]],\n",
    "    [\"Стандартне відхилення\",    jornal_test.std()[\"Rate\"]],\n",
    "    [\"Розмах вариації\",          jornal_test.max()[\"Rate\"] - jornal_test.min()[\"Rate\"]]\n",
    "]"
   ]
  },
  {
   "cell_type": "code",
   "execution_count": null,
   "metadata": {
    "hidden": true
   },
   "outputs": [],
   "source": [
    "values"
   ]
  },
  {
   "cell_type": "code",
   "execution_count": null,
   "metadata": {
    "hidden": true,
    "run_control": {
     "marked": false
    }
   },
   "outputs": [],
   "source": [
    "# будуємо результатний датасет\n",
    "result = pd.DataFrame( data=values, columns=[\"Показчик\", \"Значення\"], dtype='object')"
   ]
  },
  {
   "cell_type": "code",
   "execution_count": null,
   "metadata": {
    "hidden": true,
    "scrolled": true
   },
   "outputs": [],
   "source": [
    "result"
   ]
  },
  {
   "cell_type": "markdown",
   "metadata": {
    "heading_collapsed": true
   },
   "source": [
    "### ІНДИВІДУАЛЬНЕ ЗАВДАННЯ"
   ]
  },
  {
   "cell_type": "markdown",
   "metadata": {
    "hidden": true
   },
   "source": [
    "Користуючись результатами, що отримані в [Лабораторній роботі № 3](https://shkliarskiy.moodlecloud.com/mod/page/view.php?id=1193) виконати процедури видобутку, збагачення та попереднього аналізу даних за допомогою ббліотеки __Pandas__.\n",
    "\n",
    "__Постановка__: В 3-й лабораторній роботі отримано показчик, що характеризує окрему властивість квартири (ціна, метраж та ін.). \n",
    "Необхідно:\n",
    "1. Створити pandas-датасет з файлу `aprt_properties.csv`, який містить всі показчики квартир \n",
    "2. Прив'язати цей датасет до датасету з розбивкою вулиць по районам\n",
    "3. Отримати сводний датасет у вигляді (*приклад*):\n",
    "<img src='result_img.png' width=600px>"
   ]
  },
  {
   "cell_type": "code",
   "execution_count": null,
   "metadata": {
    "hidden": true,
    "run_control": {
     "marked": true
    }
   },
   "outputs": [],
   "source": [
    "# імпортувати бібліотеку Pandas\n",
    "import pandas as pd\n",
    "import numpy as np"
   ]
  },
  {
   "cell_type": "code",
   "execution_count": null,
   "metadata": {
    "hidden": true,
    "run_control": {
     "marked": true
    }
   },
   "outputs": [],
   "source": [
    "# створирти датасет 'aprt_properties' з файлу 'aprt_properties.csv'\n",
    "aprt_properties = pd.read_csv('aprt_properties.csv')"
   ]
  },
  {
   "cell_type": "code",
   "execution_count": null,
   "metadata": {
    "hidden": true,
    "run_control": {
     "marked": true
    }
   },
   "outputs": [],
   "source": [
    "# вивести перші десять рядків датасету\n",
    "aprt_properties.head(10)"
   ]
  },
  {
   "cell_type": "code",
   "execution_count": null,
   "metadata": {
    "code_folding": [],
    "hidden": true
   },
   "outputs": [],
   "source": [
    "# створити датасет 'reestr' з прив'язкою вуліць до районів з excel-файлу\n",
    "# `Реєстр вулиць міста Києва-станом на 25-10-2020.xlsx`\n",
    "\n",
    "reestr = pd.read_excel('Реєстр вулиць міста Києва-станом на 25-10-2020.xlsx',\n",
    "                       names= [\n",
    "                                 '№',\n",
    "                                 'код',\n",
    "                                 'Вулиця',\n",
    "                                 'тип',\n",
    "                                 'Район',\n",
    "                                 'Документ',\n",
    "                                 'Дата документу',\n",
    "                                 'Номер документу',\n",
    "                                 'Заголовок документу',\n",
    "                                 'розташування',\n",
    "                                 'Найменування',\n",
    "                                 'Категорія'\n",
    "                       ],\n",
    "                       header=None, skiprows=range(4), index_col=0)"
   ]
  },
  {
   "cell_type": "code",
   "execution_count": null,
   "metadata": {
    "hidden": true
   },
   "outputs": [],
   "source": [
    "type(None)"
   ]
  },
  {
   "cell_type": "code",
   "execution_count": null,
   "metadata": {
    "hidden": true
   },
   "outputs": [],
   "source": [
    "type(np.nan)"
   ]
  },
  {
   "cell_type": "code",
   "execution_count": null,
   "metadata": {
    "hidden": true,
    "run_control": {
     "marked": true
    }
   },
   "outputs": [],
   "source": [
    "# вивести 5 останніх рядків датасету `reestr`  \n",
    "reestr.tail(5)"
   ]
  },
  {
   "cell_type": "code",
   "execution_count": null,
   "metadata": {
    "hidden": true
   },
   "outputs": [],
   "source": [
    "aprt_properties.merge?"
   ]
  },
  {
   "cell_type": "code",
   "execution_count": null,
   "metadata": {
    "hidden": true,
    "run_control": {
     "marked": true
    }
   },
   "outputs": [],
   "source": [
    "# приєднати райони з датасету 'reestr' до датасету 'aprt_properties'\n",
    "# по загальному полю\n",
    "\n",
    "street_district = aprt_properties.merge(reestr[['Вулиця', 'Район']], \n",
    "                                        left_on='street', right_on='Вулиця',\n",
    "                                        how='left')"
   ]
  },
  {
   "cell_type": "code",
   "execution_count": null,
   "metadata": {
    "hidden": true,
    "run_control": {
     "marked": true
    }
   },
   "outputs": [],
   "source": [
    "# вивести перші 10 рядків датасету 'street_district'\n",
    "street_district.head(10)"
   ]
  },
  {
   "cell_type": "code",
   "execution_count": null,
   "metadata": {
    "hidden": true
   },
   "outputs": [],
   "source": []
  },
  {
   "cell_type": "code",
   "execution_count": null,
   "metadata": {
    "code_folding": [],
    "hidden": true
   },
   "outputs": [],
   "source": [
    "# поліпшити якість датасету:\n",
    "\n",
    "# - замінити `NaN`  району на ''\n",
    "street_district[\"Район\"] = street_district[\"Район\"].fillna('') \n",
    "\n",
    "# - замінити список районів на перший\n",
    "street_district[\"Район\"] = street_district[\"Район\"].str.split(',')\n",
    "district_list = street_district[\"Район\"].to_list()\n",
    "district_list = [x[0] for x in district_list]\n",
    "street_district[\"Район\"] = pd.Series(district_list)\n",
    "\n",
    "# - видалити дублюючі записи\n",
    "street_district = street_district.drop_duplicates(subset=\n",
    "                                ['Price', 'rooms', 'price_per_m2', 'level', 'levels'])\n",
    "\n",
    "street_district.head(10)"
   ]
  },
  {
   "cell_type": "code",
   "execution_count": null,
   "metadata": {
    "hidden": true
   },
   "outputs": [],
   "source": [
    "# - замінити `NaN`  району на ''\n",
    "street_district[\"Район\"] = street_district[\"Район\"].fillna('') \n"
   ]
  },
  {
   "cell_type": "code",
   "execution_count": null,
   "metadata": {
    "hidden": true
   },
   "outputs": [],
   "source": [
    "street_district[\"Район\"] = street_district[\"Район\"].str.split(',')"
   ]
  },
  {
   "cell_type": "code",
   "execution_count": null,
   "metadata": {
    "hidden": true
   },
   "outputs": [],
   "source": [
    "district_list = street_district[\"Район\"].to_list()\n",
    "district_list = [x[0] for x in district_list]\n",
    "street_district[\"Район\"] = pd.Series(district_list)\n",
    "\n"
   ]
  },
  {
   "cell_type": "code",
   "execution_count": null,
   "metadata": {
    "hidden": true
   },
   "outputs": [],
   "source": [
    "street_district = street_district.drop_duplicates(subset=\n",
    "                                ['Price', 'rooms', 'price_per_m2', 'level', 'levels'])\n",
    "\n"
   ]
  },
  {
   "cell_type": "code",
   "execution_count": null,
   "metadata": {
    "hidden": true
   },
   "outputs": [],
   "source": [
    "street_district.tail(3)"
   ]
  },
  {
   "cell_type": "code",
   "execution_count": null,
   "metadata": {
    "hidden": true
   },
   "outputs": [],
   "source": [
    "street_district[street_district['area_kitchen'] == 'None']"
   ]
  },
  {
   "cell_type": "code",
   "execution_count": null,
   "metadata": {
    "hidden": true,
    "scrolled": true
   },
   "outputs": [],
   "source": [
    "street_district[street_district['area_kitchen'] == 'None'] = np.nan"
   ]
  },
  {
   "cell_type": "code",
   "execution_count": null,
   "metadata": {
    "hidden": true,
    "run_control": {
     "marked": true
    }
   },
   "outputs": [],
   "source": [
    "# отримати сводний датасет по вашому показчику \n",
    "# ім'я показчика брати в лапки!\n",
    "\n",
    "import numpy as np\n",
    "result = street_district[[ 'Район', 'Price']]  \\\n",
    "      .groupby(['Район']) \\\n",
    "      .agg(Всього=('Price', 'count'),\n",
    "           Макс=('Price', 'max'),\n",
    "           Мін=('Price', 'min'),\n",
    "           Ст_відх=('Price', 'std'),\n",
    "           Середнє=('Price', 'mean'),\n",
    "           Розмах=('Price', np.ptp)).round(2)"
   ]
  },
  {
   "cell_type": "code",
   "execution_count": null,
   "metadata": {
    "code_folding": [],
    "hidden": true,
    "run_control": {
     "marked": true
    }
   },
   "outputs": [],
   "source": [
    "# вивести результат\n",
    "result"
   ]
  },
  {
   "cell_type": "code",
   "execution_count": null,
   "metadata": {
    "hidden": true
   },
   "outputs": [],
   "source": []
  }
 ],
 "metadata": {
  "kernelspec": {
   "display_name": "Python 3 (ipykernel)",
   "language": "python",
   "name": "python3"
  },
  "language_info": {
   "codemirror_mode": {
    "name": "ipython",
    "version": 3
   },
   "file_extension": ".py",
   "mimetype": "text/x-python",
   "name": "python",
   "nbconvert_exporter": "python",
   "pygments_lexer": "ipython3",
   "version": "3.9.12"
  },
  "varInspector": {
   "cols": {
    "lenName": 16,
    "lenType": 16,
    "lenVar": 40
   },
   "kernels_config": {
    "python": {
     "delete_cmd_postfix": "",
     "delete_cmd_prefix": "del ",
     "library": "var_list.py",
     "varRefreshCmd": "print(var_dic_list())"
    },
    "r": {
     "delete_cmd_postfix": ") ",
     "delete_cmd_prefix": "rm(",
     "library": "var_list.r",
     "varRefreshCmd": "cat(var_dic_list()) "
    }
   },
   "types_to_exclude": [
    "module",
    "function",
    "builtin_function_or_method",
    "instance",
    "_Feature"
   ],
   "window_display": false
  }
 },
 "nbformat": 4,
 "nbformat_minor": 2
}

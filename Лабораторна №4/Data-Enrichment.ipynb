{
 "cells": [
  {
   "cell_type": "markdown",
   "metadata": {},
   "source": [
    "# Видобуток та збагачення структурованих даних"
   ]
  },
  {
   "cell_type": "markdown",
   "metadata": {
    "tags": []
   },
   "source": [
    "### ТЕОРЕТИЧНА ЧАСТИНА ТА ПРИКЛАДИ"
   ]
  },
  {
   "cell_type": "markdown",
   "metadata": {},
   "source": [
    "Для роботи з структурованими табличними даними, які розміщені в реляційній БД [SQLite](https://www.google.com/url?sa=t&rct=j&q=&esrc=s&source=web&cd=&cad=rja&uact=8&ved=2ahUKEwiUyMOv1orvAhWDK3cKHac9DyMQFjAAegQIBxAD&url=https%3A%2F%2Fru.wikipedia.org%2Fwiki%2FSQLite&usg=AOvVaw1s-RMK2VC2tXyDZxZXDYDo) в Python передбачена стандартна бібліотека [sqlite3](https://docs.python.org/3/library/sqlite3.html)"
   ]
  },
  {
   "cell_type": "code",
   "execution_count": 1,
   "metadata": {},
   "outputs": [],
   "source": [
    "# підключення бібліотеки\n",
    "import sqlite3"
   ]
  },
  {
   "cell_type": "markdown",
   "metadata": {},
   "source": [
    "#### ПРИКЛАД ВИЛУЧЕННЯ ДАНИХ З БД\n",
    "Створити БД SQLite з ім'ям `FIT-4m`, та імпорувати в неї таблицю, що містить журнал групи `jornal`"
   ]
  },
  {
   "cell_type": "code",
   "execution_count": 3,
   "metadata": {},
   "outputs": [],
   "source": [
    "# створюємо з'єднання з БД\n",
    "conn = sqlite3.connect(\"FIT-4m.db\")"
   ]
  },
  {
   "cell_type": "markdown",
   "metadata": {},
   "source": [
    "[імпорт csv файла в sqlite через CLI](https://www.sqlitetutorial.net/sqlite-import-csv/) "
   ]
  },
  {
   "cell_type": "code",
   "execution_count": 4,
   "metadata": {},
   "outputs": [],
   "source": [
    "# створюємо об'єкт `cursor`, що відповідає за реалізацію операцій з таблицями БД\n",
    "cur = conn.cursor()"
   ]
  },
  {
   "cell_type": "code",
   "execution_count": 5,
   "metadata": {},
   "outputs": [
    {
     "name": "stdout",
     "output_type": "stream",
     "text": [
      "<class 'sqlite3.Cursor'>\n",
      "\n",
      "['__class__', '__delattr__', '__dir__', '__doc__', '__eq__', '__format__', '__ge__', '__getattribute__', '__gt__', '__hash__', '__init__', '__init_subclass__', '__iter__', '__le__', '__lt__', '__ne__', '__new__', '__next__', '__reduce__', '__reduce_ex__', '__repr__', '__setattr__', '__sizeof__', '__str__', '__subclasshook__', 'arraysize', 'close', 'connection', 'description', 'execute', 'executemany', 'executescript', 'fetchall', 'fetchmany', 'fetchone', 'lastrowid', 'row_factory', 'rowcount', 'setinputsizes', 'setoutputsize']\n"
     ]
    }
   ],
   "source": [
    "print(type(cur), end='\\n\\n')\n",
    "print(dir(cur))"
   ]
  },
  {
   "cell_type": "markdown",
   "metadata": {},
   "source": [
    "##### виведемо ВСІ записи таблиці `jornal`"
   ]
  },
  {
   "cell_type": "code",
   "execution_count": 7,
   "metadata": {
    "code_folding": []
   },
   "outputs": [
    {
     "name": "stdout",
     "output_type": "stream",
     "text": [
      "('Антонов', 'Іван', 'i.antonov_fit_4m_22_m_d@knute.edu.ua', '')\n",
      "('Антонюк', 'Данило', 'd.antonyuk_fit_4m_22_m_d@knute.edu.ua', '')\n",
      "('Багінський', 'Вадим', 'v.bahinskyy_fit_4m_22_m_d@knute.edu.ua', '')\n"
     ]
    }
   ],
   "source": [
    "# створимо інстанс для операції `SELECT`\n",
    "students_cur = cur.execute(\"SELECT * FROM jornal\")\n",
    "\n",
    "# будуємо список записів за допомогою метода `fetchall()`\n",
    "students_list = students_cur.fetchmany(3)\n",
    "\n",
    "_ = [print(x) for x in students_list]"
   ]
  },
  {
   "cell_type": "markdown",
   "metadata": {},
   "source": [
    "#### ПРИКЛАД ЗБАГАЧЕННЯ ДАНИХ З ЗОВНІШНЬОГО ДЖЕРЕЛА\n",
    "\n",
    "Додати до списка студентів їх оцінки за вступне тестування, які розташовані в csv файлі `test_result.csv`"
   ]
  },
  {
   "cell_type": "markdown",
   "metadata": {},
   "source": [
    "імпортуємо `test_result.csv` в робочу БД як таблицю `test`\n",
    "\n",
    "[імпорт csv файла в sqlite через CLI](https://www.sqlitetutorial.net/sqlite-import-csv/) "
   ]
  },
  {
   "cell_type": "markdown",
   "metadata": {},
   "source": [
    "##### Cтворимо нову таблицю, яка буде містити вміст таблиці `jornal` та поле оцінок з таблиці `test`\n",
    "\n"
   ]
  },
  {
   "cell_type": "code",
   "execution_count": 8,
   "metadata": {},
   "outputs": [
    {
     "data": {
      "text/plain": [
       "<sqlite3.Cursor at 0x7fbd8660aea0>"
      ]
     },
     "execution_count": 8,
     "metadata": {},
     "output_type": "execute_result"
    }
   ],
   "source": [
    "# створимо вираз на побудову пустої таблиці `jornal_test` з відповідними полями\n",
    "sql_stmt = \"CREATE TABLE IF NOT EXISTS jornal_test \\\n",
    "              (Surname TEXT,         \\\n",
    "               Name TEXT,            \\\n",
    "               Email TEXT,           \\\n",
    "               GitHub TEXT,          \\\n",
    "               Test_result INT);\"\n",
    "\n",
    "# виконаемо запит на створення таблиці\n",
    "cur.execute(sql_stmt)"
   ]
  },
  {
   "cell_type": "code",
   "execution_count": 9,
   "metadata": {},
   "outputs": [
    {
     "data": {
      "text/plain": [
       "[('jornal',), ('test_result',), ('jornal_test',)]"
      ]
     },
     "execution_count": 9,
     "metadata": {},
     "output_type": "execute_result"
    }
   ],
   "source": [
    "# перевіримо стан виконання операції - виведемо список таблиць\n",
    "tables_list = cur.execute(\"SELECT name FROM sqlite_master WHERE type = 'table';\")\n",
    "tables_list.fetchall()"
   ]
  },
  {
   "cell_type": "code",
   "execution_count": 10,
   "metadata": {},
   "outputs": [],
   "source": [
    "# створимо запит на об'єднання таблиць 'jornal' та 'test' по прізвищу студента\n",
    "sql_stmt = \"SELECT jornal.*, test_result.test FROM  \\\n",
    "            jornal LEFT JOIN test_result ON jornal.Surname = test_result.Surname \""
   ]
  },
  {
   "cell_type": "code",
   "execution_count": 11,
   "metadata": {},
   "outputs": [
    {
     "data": {
      "text/plain": [
       "[('Антонов', 'Іван', 'i.antonov_fit_4m_22_m_d@knute.edu.ua', '', None),\n",
       " ('Антонюк', 'Данило', 'd.antonyuk_fit_4m_22_m_d@knute.edu.ua', '', None),\n",
       " ('Багінський', 'Вадим', 'v.bahinskyy_fit_4m_22_m_d@knute.edu.ua', '', 63),\n",
       " ('Бай',\n",
       "  'Андрій',\n",
       "  'a.bay_fit_4m_22_m_d@knute.edu.ua',\n",
       "  'https://github.com/Ullrvetr',\n",
       "  51),\n",
       " ('Безсмертний',\n",
       "  'Володимир',\n",
       "  'v.bezsmertnyy_fit_4m_22_m_d@knute.edu.ua',\n",
       "  '',\n",
       "  None),\n",
       " ('Будяну',\n",
       "  'Максим',\n",
       "  'm.budyanu_fit_4m_22_m_d@knute.edu.ua',\n",
       "  'https://github.com/Budeanu',\n",
       "  None),\n",
       " ('Власенко', 'Олександр', 'o.vlasenko_fit_4m_22_m_d@knute.edu.ua', '', 52)]"
      ]
     },
     "execution_count": 11,
     "metadata": {},
     "output_type": "execute_result"
    }
   ],
   "source": [
    "# для перевірки виконаємо і виведемо результати запиту\n",
    "cur.execute(sql_stmt).fetchmany(7)"
   ]
  },
  {
   "cell_type": "code",
   "execution_count": 12,
   "metadata": {},
   "outputs": [],
   "source": [
    "# заповнимо пусту таблицю результатми  запиту на злиття\n",
    "_ = cur.execute(\"INSERT INTO jornal_test \" + sql_stmt)"
   ]
  },
  {
   "cell_type": "code",
   "execution_count": null,
   "metadata": {},
   "outputs": [],
   "source": [
    "# збережемо вміст нової таблиці в список\n",
    "jornal_test_list = cur.execute(\"SELECT * FROM jornal_test\").fetchall()"
   ]
  },
  {
   "cell_type": "code",
   "execution_count": 19,
   "metadata": {},
   "outputs": [
    {
     "name": "stdout",
     "output_type": "stream",
     "text": [
      "('Антонов', 'Іван', 'i.antonov_fit_4m_22_m_d@knute.edu.ua', '', None)\n",
      "('Антонюк', 'Данило', 'd.antonyuk_fit_4m_22_m_d@knute.edu.ua', '', None)\n",
      "('Багінський', 'Вадим', 'v.bahinskyy_fit_4m_22_m_d@knute.edu.ua', '', 63)\n",
      "('Бай', 'Андрій', 'a.bay_fit_4m_22_m_d@knute.edu.ua', 'https://github.com/Ullrvetr', 51)\n",
      "('Безсмертний', 'Володимир', 'v.bezsmertnyy_fit_4m_22_m_d@knute.edu.ua', '', None)\n",
      "('Будяну', 'Максим', 'm.budyanu_fit_4m_22_m_d@knute.edu.ua', 'https://github.com/Budeanu', None)\n",
      "('Власенко', 'Олександр', 'o.vlasenko_fit_4m_22_m_d@knute.edu.ua', '', 52)\n",
      "('Гелла', 'Всеволод', 'v.hella_fit_4m_22_m_d@knute.edu.ua', '', 82)\n",
      "('Гонгало', 'Вадим', 'v.honhalo_fit_4m_22_m_d@knute.edu.ua', 'https://github.com/Vaditos/DM--honhalo-', 44)\n",
      "('Дринь', 'Ярослав', 'y.dryn_fit_4m_22_m_d@knute.edu.ua', '', None)\n",
      "('Дубовий', 'Іван', 'i.dubovyy_fit_4m_22_m_d@knute.edu.ua', '', None)\n",
      "('Копотун', 'Світлана', 's.kopotun_fit_4m_22_m_d@knute.edu.ua', 'https://github.com/Kopotuns', 44)\n",
      "('Коротких', 'Віталій', 'v.korotkykh_fit_4m_22_m_d@knute.edu.ua', '', 69)\n",
      "('Красюк', 'Олександр', 'o.krasyuk_fit_4m_22_m_d@knute.edu.ua', '', 53)\n",
      "('Ластовка', 'Євген', 'y.lastovka_fit_4m_22_m_d@knute.edu.ua', 'https://github.com/Pro7Za/DM-y.lastovka.git', 77)\n",
      "('Левицький', 'Владислав', 'v.levytskyy_fit_4m_22_m_d@knute.edu.ua', '', None)\n",
      "('Мартиненко', 'Дмитро', 'd.martynenko_fit_4m_22_m_d@knute.edu.ua', 'https://github.com/Juvaily/DM-martynenko', 68)\n",
      "('Масовець', 'Олександр', 'o.masovets_fit_4m_22_m_d@knute.edu.ua', 'https://github.com/viceblond/DM-masovets', 78)\n",
      "('Мовчан', 'Єлизавета', 'y.movchan_fit_4m_22_m_d@knute.edu.ua', 'https://github.com/m-ellizabeth/DM_Movchan.git', 52)\n",
      "('Павлюк', 'Владислав', 'v.pavlyuk_fit_4m_22_m_d@knute.edu.ua', '', None)\n",
      "('Пивоваров', 'Владислав', 'v.pyvovarov_fit_4m_22_m_d@knute.edu.ua', '', None)\n",
      "('Постоленко', 'Олександр', 'o.postolenko_fit_4m_22_m_d@knute.edu.ua', '', None)\n",
      "('Силенко', 'Олександр', 'o.sylenko_fit_4m_22_m_d@knute.edu.ua', 'https://github.com/Onlinemirror/DM_sylenko_1m4_2022', 74)\n",
      "('Стась', 'Олександр', 'o.stas_fit_4m_22_m_d@knute.edu.ua', 'https://github.com/OldWorldBIues/DM-stas', 66)\n",
      "('Стус', 'Олег', 'o.stus_fit_4m_22_m_d@knute.edu.ua', '', 56)\n",
      "('Ткач', 'Дмитро', 'd.tkach_fit_4m_22_m_d@knute.edu.ua', 'https://github.com/DmytroYuriyovych/DM_TkachDmytro.git', 54)\n",
      "('Устименко', 'Назар', 'n.ustymenko_fit_4m_22_m_d@knute.edu.ua', 'https://github.com/ustymenk0/DM-ustymenko.git', 35)\n",
      "('Якименко', 'Владислав', 'v.yakymenko_fit_4m_22_m_d@knute.edu.ua', 'https://github.com/vladeeek/DM-v.yakymenko-2-', 47)\n",
      "('Яцуненко', 'Ростислав', 'r.yatsunenko_fit_4m_22_m_d@knute.edu.ua', None, None)\n",
      "('Антонов', 'Іван', 'i.antonov_fit_4m_22_m_d@knute.edu.ua', '', None)\n",
      "('Антонюк', 'Данило', 'd.antonyuk_fit_4m_22_m_d@knute.edu.ua', '', None)\n",
      "('Багінський', 'Вадим', 'v.bahinskyy_fit_4m_22_m_d@knute.edu.ua', '', 63)\n",
      "('Бай', 'Андрій', 'a.bay_fit_4m_22_m_d@knute.edu.ua', 'https://github.com/Ullrvetr', 51)\n",
      "('Безсмертний', 'Володимир', 'v.bezsmertnyy_fit_4m_22_m_d@knute.edu.ua', '', None)\n",
      "('Будяну', 'Максим', 'm.budyanu_fit_4m_22_m_d@knute.edu.ua', 'https://github.com/Budeanu', None)\n",
      "('Власенко', 'Олександр', 'o.vlasenko_fit_4m_22_m_d@knute.edu.ua', '', 52)\n",
      "('Гелла', 'Всеволод', 'v.hella_fit_4m_22_m_d@knute.edu.ua', '', 82)\n",
      "('Гонгало', 'Вадим', 'v.honhalo_fit_4m_22_m_d@knute.edu.ua', 'https://github.com/Vaditos/DM--honhalo-', 44)\n",
      "('Дринь', 'Ярослав', 'y.dryn_fit_4m_22_m_d@knute.edu.ua', '', None)\n",
      "('Дубовий', 'Іван', 'i.dubovyy_fit_4m_22_m_d@knute.edu.ua', '', None)\n",
      "('Копотун', 'Світлана', 's.kopotun_fit_4m_22_m_d@knute.edu.ua', 'https://github.com/Kopotuns', 44)\n",
      "('Коротких', 'Віталій', 'v.korotkykh_fit_4m_22_m_d@knute.edu.ua', '', 69)\n",
      "('Красюк', 'Олександр', 'o.krasyuk_fit_4m_22_m_d@knute.edu.ua', '', 53)\n",
      "('Ластовка', 'Євген', 'y.lastovka_fit_4m_22_m_d@knute.edu.ua', 'https://github.com/Pro7Za/DM-y.lastovka.git', 77)\n",
      "('Левицький', 'Владислав', 'v.levytskyy_fit_4m_22_m_d@knute.edu.ua', '', None)\n",
      "('Мартиненко', 'Дмитро', 'd.martynenko_fit_4m_22_m_d@knute.edu.ua', 'https://github.com/Juvaily/DM-martynenko', 68)\n",
      "('Масовець', 'Олександр', 'o.masovets_fit_4m_22_m_d@knute.edu.ua', 'https://github.com/viceblond/DM-masovets', 78)\n",
      "('Мовчан', 'Єлизавета', 'y.movchan_fit_4m_22_m_d@knute.edu.ua', 'https://github.com/m-ellizabeth/DM_Movchan.git', 52)\n",
      "('Павлюк', 'Владислав', 'v.pavlyuk_fit_4m_22_m_d@knute.edu.ua', '', None)\n",
      "('Пивоваров', 'Владислав', 'v.pyvovarov_fit_4m_22_m_d@knute.edu.ua', '', None)\n",
      "('Постоленко', 'Олександр', 'o.postolenko_fit_4m_22_m_d@knute.edu.ua', '', None)\n",
      "('Силенко', 'Олександр', 'o.sylenko_fit_4m_22_m_d@knute.edu.ua', 'https://github.com/Onlinemirror/DM_sylenko_1m4_2022', 74)\n",
      "('Стась', 'Олександр', 'o.stas_fit_4m_22_m_d@knute.edu.ua', 'https://github.com/OldWorldBIues/DM-stas', 66)\n",
      "('Стус', 'Олег', 'o.stus_fit_4m_22_m_d@knute.edu.ua', '', 56)\n",
      "('Ткач', 'Дмитро', 'd.tkach_fit_4m_22_m_d@knute.edu.ua', 'https://github.com/DmytroYuriyovych/DM_TkachDmytro.git', 54)\n",
      "('Устименко', 'Назар', 'n.ustymenko_fit_4m_22_m_d@knute.edu.ua', 'https://github.com/ustymenk0/DM-ustymenko.git', 35)\n",
      "('Якименко', 'Владислав', 'v.yakymenko_fit_4m_22_m_d@knute.edu.ua', 'https://github.com/vladeeek/DM-v.yakymenko-2-', 47)\n",
      "('Яцуненко', 'Ростислав', 'r.yatsunenko_fit_4m_22_m_d@knute.edu.ua', None, None)\n"
     ]
    }
   ],
   "source": [
    "_ = [print(x) for x in jornal_test_list]"
   ]
  },
  {
   "cell_type": "code",
   "execution_count": 16,
   "metadata": {},
   "outputs": [],
   "source": [
    "# завершимо всі транзакції\n",
    "conn.commit()\n",
    "\n",
    "# закріємо з'єднання\n",
    "conn.close()"
   ]
  },
  {
   "cell_type": "markdown",
   "metadata": {},
   "source": [
    "#### ПРИКЛАД  ДЕСКРИПТИВНОГО АНАЛІЗУ ДАНИХ\n",
    "\n",
    "Провести [попередній аналіз](https://ru.wikipedia.org/wiki/Описательная_статистика) отриманих даних з ціллю виявленя відхилень, помилок та інших непридатних даних."
   ]
  },
  {
   "cell_type": "markdown",
   "metadata": {},
   "source": [
    "Сведемо результати аналізу в таблицю, яка має наступний вигляд:\n",
    "\n",
    "№| Показчик | Значення\n",
    ":--:|:-------|-------:\n",
    "1| кількість спостережень | xx \n",
    "2| кількість пустих значень | xx\n",
    "4| середній бал|  xx.x\n",
    "5| максимальний бал | xx\n",
    "6| мінімальний бал  | xx\n",
    "7| стандартне відхилення | xx.x\n",
    "8| розмах вариації  | xx\n"
   ]
  },
  {
   "cell_type": "code",
   "execution_count": 17,
   "metadata": {},
   "outputs": [],
   "source": [
    "# підключимо бібліотеку 'numpy' і дамо їй аліас 'np'\n",
    "import numpy as np"
   ]
  },
  {
   "cell_type": "markdown",
   "metadata": {},
   "source": [
    "ознайомитись з призначенням, можливостями та основним функціями [бібліотеки numpy](https://numpy.org) "
   ]
  },
  {
   "cell_type": "code",
   "execution_count": 20,
   "metadata": {},
   "outputs": [],
   "source": [
    "# перетворимо список студетів в numpay матрицю\n",
    "jornal_test_arr = np.array(jornal_test_list)"
   ]
  },
  {
   "cell_type": "code",
   "execution_count": 21,
   "metadata": {
    "scrolled": true
   },
   "outputs": [
    {
     "name": "stdout",
     "output_type": "stream",
     "text": [
      "<class 'numpy.ndarray'> (58, 5)\n"
     ]
    }
   ],
   "source": [
    "print(type (jornal_test_arr), jornal_test_arr.shape)"
   ]
  },
  {
   "cell_type": "code",
   "execution_count": 22,
   "metadata": {},
   "outputs": [],
   "source": [
    "np.delete?"
   ]
  },
  {
   "cell_type": "code",
   "execution_count": 23,
   "metadata": {},
   "outputs": [],
   "source": [
    "# створимо масив с результатами тестів \n",
    "test_result = np.delete(jornal_test_arr, [1,2,3], axis=1)"
   ]
  },
  {
   "cell_type": "code",
   "execution_count": 24,
   "metadata": {},
   "outputs": [],
   "source": [
    "# Значення 'None' - не є числом, то заміним його на 0\n",
    "test_result[test_result == None] = 0"
   ]
  },
  {
   "cell_type": "code",
   "execution_count": 25,
   "metadata": {},
   "outputs": [],
   "source": [
    "# залишити тільки статистично важливі показчики\n",
    "test_result = np.delete(test_result, 0, axis=1)"
   ]
  },
  {
   "cell_type": "code",
   "execution_count": 26,
   "metadata": {
    "run_control": {
     "marked": false
    }
   },
   "outputs": [],
   "source": [
    "# будуємо словник з вихідними розрахунками\n",
    "result_dict = {\n",
    "    \"кількість спостережень\"   : len(test_result),\n",
    "    \"кількість пустих значень\" : len(test_result) - np.count_nonzero(test_result),\n",
    "    \"середній бал\"             : round(np.mean(test_result),1),\n",
    "    \"максимальний бал\"         : np.max(test_result),\n",
    "    \"мінімальний бал\"          : np.min(test_result[np.nonzero(test_result)]),\n",
    "    \"стандартне відхилення\"    : round(np.std(test_result),1),\n",
    "    \"розмах вариації\"          : np.max(test_result) - np.min(test_result[np.nonzero(test_result)]) \n",
    "    }"
   ]
  },
  {
   "cell_type": "code",
   "execution_count": 27,
   "metadata": {},
   "outputs": [
    {
     "data": {
      "text/plain": [
       "{'кількість спостережень': 58,\n",
       " 'кількість пустих значень': 22,\n",
       " 'середній бал': 36.7,\n",
       " 'максимальний бал': 82,\n",
       " 'мінімальний бал': 35,\n",
       " 'стандартне відхилення': 30.5,\n",
       " 'розмах вариації': 47}"
      ]
     },
     "execution_count": 27,
     "metadata": {},
     "output_type": "execute_result"
    }
   ],
   "source": [
    "result_dict"
   ]
  },
  {
   "cell_type": "code",
   "execution_count": 28,
   "metadata": {
    "code_folding": []
   },
   "outputs": [
    {
     "name": "stdout",
     "output_type": "stream",
     "text": [
      "\n",
      "=======================================\n",
      "№  : ПОКАЗЧИК               : ЗНАЧЕННЯ     \n",
      "=======================================\n",
      "\n",
      "1   кількість спостережень     58\n",
      "2   кількість пустих значень   22\n",
      "3   середній бал               36.7\n",
      "4   максимальний бал           82\n",
      "5   мінімальний бал            35\n",
      "6   стандартне відхилення      30.5\n",
      "7   розмах вариації            47\n"
     ]
    }
   ],
   "source": [
    "# вивести шапку\n",
    "print(\n",
    "\"\"\"\n",
    "=======================================\n",
    "№  : ПОКАЗЧИК               : ЗНАЧЕННЯ     \n",
    "=======================================\n",
    "\"\"\"      \n",
    "      )\n",
    "\n",
    "# вивести результати аналізу датасета\n",
    "i = 1\n",
    "for key, value in result_dict.items():\n",
    "    print (f'{i:<3} {key:<25}  {value}')\n",
    "    i += 1"
   ]
  },
  {
   "cell_type": "markdown",
   "metadata": {
    "tags": []
   },
   "source": [
    "### ІНДИВІДУАЛЬНЕ ЗАВДАННЯ"
   ]
  },
  {
   "cell_type": "markdown",
   "metadata": {},
   "source": [
    "Користуючись результатами, що отримані в [Лабораторній роботі № 3](https://shkliarskiy.moodlecloud.com/mod/page/view.php?id=1193) виконати процедури видобутку, збагачення та попереднього аналізу даних.\n",
    "\n",
    "__Постановка__: В 3-й лабораторній роботі отримано показчик, що характеризує окрему властивість квартири (ціна, метраж та ін.). \n",
    "\n",
    "Необхідно:\n",
    "1. Відобразити цей показчик на адресу квартири, яка знаходиться в файлі `street_name.csv`, тобто побудувати новий файл `street_flat_propery.csv` якій містить 2 колонки: _<назва вулиці> <ваш показчик>_\n",
    "2. На основі цьго файлу зробити відповідну таблицю в _SQLite_ та збагатити дані в цій таблиці назвою району де розташована квартира (файл `kiev_districts.csv`) \n",
    "3. Провести попередній аналіз отриманих даних - вивести первинні статистики показчика по районах (_середне_ , _мінімальне_ , _максимальне_ і т.д. - див. приклад вище)"
   ]
  },
  {
   "cell_type": "code",
   "execution_count": null,
   "metadata": {
    "run_control": {
     "marked": true
    }
   },
   "outputs": [],
   "source": [
    "# Злиття файлу з показчиком та файлу з назвами вулиць в новий файл\n",
    "\n",
    "YOUR_FILE = підставте ваш файл з Лаб №3...\n",
    "with open(YOUR_FILE) as f1, \\\n",
    "     open('street_name.csv') as f2, \\\n",
    "     open('street_flat_propery.csv', 'w') as f3:\n",
    "    \n",
    "    for x, y in zip(f1, f2):\n",
    "        line = f'{x[:-1].strip()},{y[:-1].strip()}\\n'\n",
    "        print(line)\n",
    "        f3.write(line)"
   ]
  },
  {
   "cell_type": "markdown",
   "metadata": {},
   "source": [
    "#### імпортувати в БД отриманий файл 'street_flat_propery.csv' через CLI\n",
    "- __sqlite3 districts.db__ - запустити SQLite та відкрити БД\n",
    "- __.mode csv__ - перевести БД для роботи з csv-файлами\n",
    "- __.import street_flat_propery.csv street_flat_propery__ - створює таблицю _street_flat_propery_ та завантажує в неї вміст файлу _street_flat_propery.csv_\n",
    "- __SELECT * FROM street_flat_propery LIMIT 10;__ - вивести 10 записів для перевірки\n",
    "- __.quit__ - завершити роботу з CLI SQLite\n",
    "\n"
   ]
  },
  {
   "cell_type": "code",
   "execution_count": null,
   "metadata": {
    "run_control": {
     "marked": true
    }
   },
   "outputs": [],
   "source": [
    "# Підключитись до БД 'districts.db' в якій є прив'язка вулиць до районів \n",
    "conn = напишить код ...\n",
    "\n",
    "# створити відповідний курсор\n",
    "cur  = напишить код ..."
   ]
  },
  {
   "cell_type": "code",
   "execution_count": null,
   "metadata": {
    "run_control": {
     "marked": true
    }
   },
   "outputs": [],
   "source": [
    "# для перевірки виведіть 10 записів з таблиці 'street_district'\n",
    "напишить код ..."
   ]
  },
  {
   "cell_type": "code",
   "execution_count": null,
   "metadata": {
    "run_control": {
     "marked": true
    }
   },
   "outputs": [],
   "source": [
    "# побудувати запит на створення таблиці 'result' з 3-ма полями:\n",
    "#     district - текстове\n",
    "#     street - текстове\n",
    "#     property - числове\n",
    "stmt = напишить код ..."
   ]
  },
  {
   "cell_type": "code",
   "execution_count": null,
   "metadata": {},
   "outputs": [],
   "source": [
    "# виконати запит\n",
    "cur.execute(stmt)"
   ]
  },
  {
   "cell_type": "code",
   "execution_count": null,
   "metadata": {},
   "outputs": [],
   "source": [
    "# перевірити схему таблиці\n",
    "cur.execute (\"SELECT name FROM PRAGMA_TABLE_INFO('result');\").fetchall()"
   ]
  },
  {
   "cell_type": "code",
   "execution_count": null,
   "metadata": {
    "code_folding": [],
    "run_control": {
     "marked": true
    }
   },
   "outputs": [],
   "source": [
    "# створити запит на злиття таблиці 'street_flat_propery' та 'street_district' \n",
    "# по полю 'street'\n",
    "stmt_join = напишить код ..."
   ]
  },
  {
   "cell_type": "code",
   "execution_count": null,
   "metadata": {},
   "outputs": [],
   "source": [
    "# перевірити запит\n",
    "cur.execute(stmt_join).fetchall()"
   ]
  },
  {
   "cell_type": "code",
   "execution_count": null,
   "metadata": {
    "run_control": {
     "marked": true
    }
   },
   "outputs": [],
   "source": [
    "# створити запит для наповнення таблиці `result` результатом запиту на об'єднання\n",
    "stmt_insert = напишить код .."
   ]
  },
  {
   "cell_type": "code",
   "execution_count": null,
   "metadata": {},
   "outputs": [],
   "source": [
    "# виконати запит на заповнення\n",
    "cur.execute(stmt_insert)"
   ]
  },
  {
   "cell_type": "code",
   "execution_count": null,
   "metadata": {
    "run_control": {
     "marked": true
    }
   },
   "outputs": [],
   "source": [
    "# сберегти вміст створеної таблиці у вигляді списка\n",
    "result_list = напишить код ..."
   ]
  },
  {
   "cell_type": "markdown",
   "metadata": {},
   "source": [
    "#### для аналізу скористатися бібліотекою NumPy"
   ]
  },
  {
   "cell_type": "code",
   "execution_count": null,
   "metadata": {},
   "outputs": [],
   "source": [
    "import numpy as np"
   ]
  },
  {
   "cell_type": "code",
   "execution_count": null,
   "metadata": {
    "run_control": {
     "marked": true
    }
   },
   "outputs": [],
   "source": [
    "# створити np-масив з списку `result_list`\n",
    "result_arr = напишить код ..."
   ]
  },
  {
   "cell_type": "code",
   "execution_count": null,
   "metadata": {
    "run_control": {
     "marked": true
    }
   },
   "outputs": [],
   "source": [
    "# побудувати словник для результатів аналізу\n",
    "result_dict = {\n",
    "    \"кількість спостережень\"   : напишить код ... ,\n",
    "    \"середнє значення\"         : напишить код ... ,\n",
    "    \"максимальне значення\"     : напишить код ... ,\n",
    "    \"мінімальне значення\"      : напишить код ... ,\n",
    "    \"стандартне відхилення\"    : напишить код ... ,\n",
    "    \"розмах вариації\"          : напишить код ...\n",
    "    }"
   ]
  },
  {
   "cell_type": "code",
   "execution_count": null,
   "metadata": {
    "run_control": {
     "marked": true
    }
   },
   "outputs": [],
   "source": [
    "# вивести шапку\n",
    "print(\n",
    "\"\"\"\n",
    "================================================\n",
    "№  :   РАЙОН        : ПОКАЗЧИК        : ЗНАЧЕННЯ     \n",
    "================================================\n",
    "\"\"\"      \n",
    "      )\n",
    "\n",
    "# вивести результати аналізу датасета\n",
    "напишить код ..."
   ]
  },
  {
   "cell_type": "code",
   "execution_count": null,
   "metadata": {},
   "outputs": [],
   "source": []
  }
 ],
 "metadata": {
  "kernelspec": {
   "display_name": "Python 3 (ipykernel)",
   "language": "python",
   "name": "python3"
  },
  "language_info": {
   "codemirror_mode": {
    "name": "ipython",
    "version": 3
   },
   "file_extension": ".py",
   "mimetype": "text/x-python",
   "name": "python",
   "nbconvert_exporter": "python",
   "pygments_lexer": "ipython3",
   "version": "3.9.12"
  },
  "varInspector": {
   "cols": {
    "lenName": 16,
    "lenType": 16,
    "lenVar": 40
   },
   "kernels_config": {
    "python": {
     "delete_cmd_postfix": "",
     "delete_cmd_prefix": "del ",
     "library": "var_list.py",
     "varRefreshCmd": "print(var_dic_list())"
    },
    "r": {
     "delete_cmd_postfix": ") ",
     "delete_cmd_prefix": "rm(",
     "library": "var_list.r",
     "varRefreshCmd": "cat(var_dic_list()) "
    }
   },
   "types_to_exclude": [
    "module",
    "function",
    "builtin_function_or_method",
    "instance",
    "_Feature"
   ],
   "window_display": false
  }
 },
 "nbformat": 4,
 "nbformat_minor": 4
}

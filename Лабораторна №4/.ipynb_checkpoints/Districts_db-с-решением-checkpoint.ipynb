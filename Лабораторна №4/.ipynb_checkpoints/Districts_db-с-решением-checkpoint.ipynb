{
 "cells": [
  {
   "cell_type": "markdown",
   "metadata": {},
   "source": [
    "# Видобуток та збагачення структурованих даних"
   ]
  },
  {
   "cell_type": "markdown",
   "metadata": {},
   "source": [
    "### ТЕОРЕТИЧНА ЧАСТИНА ТА ПРИКЛАДИ"
   ]
  },
  {
   "cell_type": "markdown",
   "metadata": {},
   "source": [
    "Для роботи з структурованими табличними даними, які розміщені в реляційній БД [SQLite](https://www.google.com/url?sa=t&rct=j&q=&esrc=s&source=web&cd=&cad=rja&uact=8&ved=2ahUKEwiUyMOv1orvAhWDK3cKHac9DyMQFjAAegQIBxAD&url=https%3A%2F%2Fru.wikipedia.org%2Fwiki%2FSQLite&usg=AOvVaw1s-RMK2VC2tXyDZxZXDYDo) в Python передбачена стандартна бібліотека [sqlite3](https://docs.python.org/3/library/sqlite3.html)"
   ]
  },
  {
   "cell_type": "code",
   "execution_count": null,
   "metadata": {},
   "outputs": [],
   "source": [
    "# підключення бібліотеки\n",
    "import sqlite3"
   ]
  },
  {
   "cell_type": "markdown",
   "metadata": {},
   "source": [
    "#### ПРИКЛАД ВИЛУЧЕННЯ ДАНИХ З БД\n",
    "Створити БД SQLite з ім'ям `FIT-3m`, та імпорувати в неї таблицю, що містить журнал групи `jornal`"
   ]
  },
  {
   "cell_type": "code",
   "execution_count": null,
   "metadata": {},
   "outputs": [],
   "source": [
    "# створюємо з'єднання з БД\n",
    "conn = sqlite3.connect(\"FIT-3m.db\")"
   ]
  },
  {
   "cell_type": "markdown",
   "metadata": {},
   "source": [
    "[імпорт csv файла в sqlite через CLI](https://www.sqlitetutorial.net/sqlite-import-csv/) "
   ]
  },
  {
   "cell_type": "code",
   "execution_count": null,
   "metadata": {},
   "outputs": [],
   "source": [
    "# створюємо об'єкт `cursor`, що відповідає за реалізацію операцій з таблицями БД\n",
    "cur = conn.cursor()"
   ]
  },
  {
   "cell_type": "code",
   "execution_count": null,
   "metadata": {},
   "outputs": [],
   "source": [
    "print(type(cur), end='\\n\\n')\n",
    "print(dir(cur))"
   ]
  },
  {
   "cell_type": "markdown",
   "metadata": {},
   "source": [
    "##### виведемо ВСІ записи таблиці `jornal`"
   ]
  },
  {
   "cell_type": "code",
   "execution_count": null,
   "metadata": {
    "code_folding": []
   },
   "outputs": [],
   "source": [
    "# створимо інстанс для операції `SELECT`\n",
    "students_cur = cur.execute(\"SELECT * FROM jornal\")\n",
    "\n",
    "# будуємо список записів за допомогою метода `fetchall()`\n",
    "students_list = students_cur.fetchall()\n",
    "\n",
    "_ = [print(x) for x in students_list]"
   ]
  },
  {
   "cell_type": "markdown",
   "metadata": {},
   "source": [
    "#### ПРИКЛАД ЗБАГАЧЕННЯ ДАНИХ З ЗОВНІШНЬОГО ДЖЕРЕЛА\n",
    "\n",
    "Додати до списка студентів їх оцінки за вступне тестування, які розташовані в csv файлі `test_result.csv`"
   ]
  },
  {
   "cell_type": "markdown",
   "metadata": {},
   "source": [
    "імпортуємо `test_result.csv` в робочу БД як таблицю `test`\n",
    "\n",
    "[імпорт csv файла в sqlite через CLI](https://www.sqlitetutorial.net/sqlite-import-csv/) "
   ]
  },
  {
   "cell_type": "markdown",
   "metadata": {},
   "source": [
    "##### Cтворимо нову таблицю, яка буде містити вміст таблиці `jornal` та поле оцінок з таблиці `test`\n",
    "\n"
   ]
  },
  {
   "cell_type": "code",
   "execution_count": null,
   "metadata": {},
   "outputs": [],
   "source": [
    "cur.execute(\"drop table if exists jornal_test;\")"
   ]
  },
  {
   "cell_type": "code",
   "execution_count": null,
   "metadata": {},
   "outputs": [],
   "source": [
    "# створимо вираз на побудову пустої таблиці `jornal_test` з відповідними полями\n",
    "sql_stmt = \"CREATE TABLE IF NOT EXISTS jornal_test \\\n",
    "              (Surname TEXT,         \\\n",
    "               Name TEXT,            \\\n",
    "               Email TEXT,           \\\n",
    "               Test_result INT);\"\n",
    "\n",
    "# виконаемо запит на створення таблиці\n",
    "cur.execute(sql_stmt)\n",
    "\n",
    "# перевіримо стан виконання операції - виведемо список таблиць\n",
    "tables_list = cur.execute(\"SELECT name FROM sqlite_master WHERE type = 'table';\")\n",
    "tables_list.fetchall()\n"
   ]
  },
  {
   "cell_type": "code",
   "execution_count": null,
   "metadata": {},
   "outputs": [],
   "source": [
    "# створимо запит на об'єднання таблиць 'jornal' та 'test' по прізвищу студента\n",
    "sql_stmt = \"SELECT jornal.*, test.\\\"Оцінка/100\\\" FROM  \\\n",
    "            jornal LEFT JOIN test ON jornal.Surname = test.\\\"Ім\\'я\\\" \"\n",
    "\n",
    "# для перевірки виконаємо і виведемо результати запиту\n",
    "cur.execute(sql_stmt).fetchall()"
   ]
  },
  {
   "cell_type": "code",
   "execution_count": null,
   "metadata": {},
   "outputs": [],
   "source": [
    "# заповнимо пусту таблицю результатми  запиту на злиття\n",
    "_ = cur.execute(\"INSERT INTO jornal_test \" + sql_stmt)"
   ]
  },
  {
   "cell_type": "code",
   "execution_count": null,
   "metadata": {},
   "outputs": [],
   "source": [
    "# збережемо вміст нової таблиці в список\n",
    "jornal_test_list = cur.execute(\"SELECT * FROM jornal_test\").fetchall()\n",
    "\n",
    "_ = [print(x) for x in jornal_test_list]"
   ]
  },
  {
   "cell_type": "code",
   "execution_count": null,
   "metadata": {},
   "outputs": [],
   "source": [
    "# завершимо всі транзакції\n",
    "conn.commit()\n",
    "\n",
    "# закріємо з'єднання\n",
    "conn.close()"
   ]
  },
  {
   "cell_type": "markdown",
   "metadata": {},
   "source": [
    "#### ПРИКЛАД  ДЕСКРИПТИВНОГО АНАЛІЗУ ДАНИХ\n",
    "\n",
    "Провести [попередній аналіз](https://ru.wikipedia.org/wiki/Описательная_статистика) отриманих даних з ціллю виявленя відхилень, помилок та інших непридатних даних."
   ]
  },
  {
   "cell_type": "markdown",
   "metadata": {},
   "source": [
    "Сведемо результати аналізу в таблицю, яка має наступний вигляд:\n",
    "\n",
    "№| Показчик | Значення\n",
    ":--:|:-------|-------:\n",
    "1| кількість спостережень | xx \n",
    "2| кількість пустих значень | xx\n",
    "4| середній бал|  xx.x\n",
    "5| максимальний бал | xx\n",
    "6| мінімальний бал  | xx\n",
    "7| стандартне відхилення | xx.x\n",
    "8| розмах вариації  | xx\n"
   ]
  },
  {
   "cell_type": "code",
   "execution_count": null,
   "metadata": {},
   "outputs": [],
   "source": [
    "# підключимо бібліотеку 'numpy' і дамо їй аліас 'np'\n",
    "import numpy as np"
   ]
  },
  {
   "cell_type": "markdown",
   "metadata": {},
   "source": [
    "ознайомитись з призначенням, можливостями та основним функціями [бібліотеки numpy](https://numpy.org) "
   ]
  },
  {
   "cell_type": "code",
   "execution_count": null,
   "metadata": {},
   "outputs": [],
   "source": [
    "print(dir(np))"
   ]
  },
  {
   "cell_type": "code",
   "execution_count": null,
   "metadata": {},
   "outputs": [],
   "source": [
    "# перетворимо список студетів в numpay матрицю\n",
    "jornal_test_arr = np.array(jornal_test_list)"
   ]
  },
  {
   "cell_type": "code",
   "execution_count": null,
   "metadata": {},
   "outputs": [],
   "source": [
    "print(jornal_test_arr)"
   ]
  },
  {
   "cell_type": "code",
   "execution_count": null,
   "metadata": {
    "scrolled": true
   },
   "outputs": [],
   "source": [
    "print(type (jornal_test_arr), jornal_test_arr.shape)"
   ]
  },
  {
   "cell_type": "code",
   "execution_count": null,
   "metadata": {},
   "outputs": [],
   "source": [
    "# створимо масив с результатами тестів \n",
    "test_result = np.delete(jornal_test_arr, [0,1,2], 1)"
   ]
  },
  {
   "cell_type": "code",
   "execution_count": null,
   "metadata": {},
   "outputs": [],
   "source": [
    "# Значення 'None' - не є числом, то заміним його на 0\n",
    "test_result[test_result == None] = 0"
   ]
  },
  {
   "cell_type": "code",
   "execution_count": null,
   "metadata": {
    "run_control": {
     "marked": false
    }
   },
   "outputs": [],
   "source": [
    "# будуємо словник з вихідними розрахунками\n",
    "result_dict = {\n",
    "    \"кількість спостережень\"   : len(test_result),\n",
    "    \"кількість пустих значень\" : np.count_nonzero(test_result == 0),\n",
    "    \"середній бал\"             : np.mean(test_result),\n",
    "    \"максимальний бал\"         : np.max(test_result),\n",
    "    \"мінімальний бал\"          : np.min(test_result[np.nonzero(test_result)]),\n",
    "    \"стандартне відхилення\"    : np.std(test_result),\n",
    "    \"розмах вариації\"          : result_dict[\"максимальний бал\"] - result_dict[\"мінімальний бал\"] \n",
    "    }"
   ]
  },
  {
   "cell_type": "code",
   "execution_count": null,
   "metadata": {},
   "outputs": [],
   "source": [
    "result_dict"
   ]
  },
  {
   "cell_type": "code",
   "execution_count": null,
   "metadata": {
    "code_folding": []
   },
   "outputs": [],
   "source": [
    "# вивести шапку\n",
    "print(\n",
    "\"\"\"\n",
    "=======================================\n",
    "№  : ПОКАЗЧИК               : ЗНАЧЕННЯ     \n",
    "=======================================\n",
    "\"\"\"      \n",
    "      )\n",
    "\n",
    "# вивести результати аналізу датасета\n",
    "i = 1\n",
    "for key, value in result_dict.items():\n",
    "    print (f'{i:<3} {key:<25}  {value}')\n",
    "    i += 1"
   ]
  },
  {
   "cell_type": "markdown",
   "metadata": {},
   "source": [
    "### ІНДИВІДУАЛЬНЕ ЗАВДАННЯ"
   ]
  },
  {
   "cell_type": "markdown",
   "metadata": {},
   "source": [
    "Користуючись результатами, що отримані в [Лабораторній роботі № 3](https://shkliarskiy.moodlecloud.com/mod/page/view.php?id=1193) виконати процедури видобутку, збагачення та попереднього аналізу даних.\n",
    "\n",
    "__Постановка__: В 3-й лабораторній роботі отримано показчик, що характеризує окрему властивість квартири (ціна, метраж та ін.). \n",
    "Необхідно:\n",
    "1. Відобразити цей показчик на адресу квартири, яка знаходиться в файлі `street_name.csv`, тобто побудувати новий файл `street_flat_propery.csv` якій містить 2 колонки: __<назва вулиці> <ваш показчик>__\n",
    "2. На основі цьго файлу зробити відповідну таблицю в _SQLite_ та збагатити цю дані в цій таблиці назвою району де розташована квартира (дані по районах додаються) \n",
    "3. Провести попередній аналіз отриманих даних - вивести первинні статистики показчика по районах (_середне_ , _мінімальне_ , _максимальне_ і т.д. - див. приклад вище)"
   ]
  },
  {
   "cell_type": "code",
   "execution_count": 1,
   "metadata": {},
   "outputs": [],
   "source": [
    "# Злиття файлу з показчиком та файлу з назвами вулиць в новий файл\n",
    "\n",
    "# YOUR_FILE = підставте ваш файл ...\n",
    "YOUR_FILE = 'street_living_area.csv'\n",
    "with open(YOUR_FILE) as f1, \\\n",
    "     open('street_name.csv') as f2, \\\n",
    "     open('street_flat_propery.csv', 'w') as f3:\n",
    "    \n",
    "    for x, y in zip(f1, f2):\n",
    "        line = f'{x[:-1].strip()},{y[:-1].strip()}\\n'\n",
    "#         print(line)\n",
    "        f3.write(line)"
   ]
  },
  {
   "cell_type": "markdown",
   "metadata": {},
   "source": [
    "#### імпортувати в БД файл 'street_flat_propery.csv' через CLI\n",
    "- __sqlite3 districts.db__ - запустити SQLite та відкрити БД\n",
    "- __.mode csv__ - перевести БД для роботи з csv-файлами\n",
    "- __.import street_flat_propery.csv street_flat_propery__ - створює таблицю _street_flat_propery_ та завантажує в неї вміст файлу _street_flat_propery.csv_\n",
    "- __SELECT * FROM street_flat_propery LIMIT 10;__ - вивести 10 записів для перевірки\n",
    "- __.quit__ - завершити роботу з CLI SQLite\n",
    "\n"
   ]
  },
  {
   "cell_type": "code",
   "execution_count": null,
   "metadata": {
    "run_control": {
     "marked": true
    }
   },
   "outputs": [],
   "source": [
    "# Підключитись до БД 'districts.db' та створити відповідний курсор\n",
    "conn = напишить код ...\n",
    "cur  = напишить код ..."
   ]
  },
  {
   "cell_type": "code",
   "execution_count": null,
   "metadata": {
    "run_control": {
     "marked": true
    }
   },
   "outputs": [],
   "source": [
    "# для перевірки виведіть виведіть 10 записів з таблиці 'street_district'\n",
    "напишить код ..."
   ]
  },
  {
   "cell_type": "code",
   "execution_count": null,
   "metadata": {
    "run_control": {
     "marked": true
    }
   },
   "outputs": [],
   "source": [
    "# побудувати запит на створення таблиці 'result' з 3-ма полями:\n",
    "#     district - текстове\n",
    "#     street - текстове\n",
    "#     property - числове\n",
    "stmt = напишить код ..."
   ]
  },
  {
   "cell_type": "code",
   "execution_count": null,
   "metadata": {},
   "outputs": [],
   "source": [
    "# виконати запит\n",
    "cur.execute(stmt)"
   ]
  },
  {
   "cell_type": "code",
   "execution_count": null,
   "metadata": {},
   "outputs": [],
   "source": [
    "# перевірити схему таблиці\n",
    "cur.execute (\"SELECT name FROM PRAGMA_TABLE_INFO('result');\").fetchall()"
   ]
  },
  {
   "cell_type": "code",
   "execution_count": null,
   "metadata": {
    "code_folding": [],
    "run_control": {
     "marked": true
    }
   },
   "outputs": [],
   "source": [
    "# створити запит на злиття таблиці 'street_flat_propery' та 'street_district' \n",
    "# по полю 'street'\n",
    "stmt_join = напишить код ..."
   ]
  },
  {
   "cell_type": "code",
   "execution_count": null,
   "metadata": {},
   "outputs": [],
   "source": [
    "# перевірити запит\n",
    "cur.execute(stmt_join).fetchall()"
   ]
  },
  {
   "cell_type": "code",
   "execution_count": null,
   "metadata": {
    "run_control": {
     "marked": true
    }
   },
   "outputs": [],
   "source": [
    "# створити запит для наповнення таблиці `result` результатом запиту на об'єднання\n",
    "stmt_insert = напишить код .."
   ]
  },
  {
   "cell_type": "code",
   "execution_count": null,
   "metadata": {},
   "outputs": [],
   "source": [
    "# виконати запит на заповнення\n",
    "cur.execute(stmt_insert)"
   ]
  },
  {
   "cell_type": "code",
   "execution_count": null,
   "metadata": {
    "run_control": {
     "marked": true
    }
   },
   "outputs": [],
   "source": [
    "# сберегти вміст створеної таблиці у вигляді списка\n",
    "result_list = напишить код ..."
   ]
  },
  {
   "cell_type": "markdown",
   "metadata": {},
   "source": [
    "#### для аналізу скористатися бібліотекою NumPy"
   ]
  },
  {
   "cell_type": "code",
   "execution_count": null,
   "metadata": {},
   "outputs": [],
   "source": [
    "import numpy as np"
   ]
  },
  {
   "cell_type": "code",
   "execution_count": null,
   "metadata": {
    "run_control": {
     "marked": true
    }
   },
   "outputs": [],
   "source": [
    "# створити np-масив з списку `result_list`\n",
    "result_arr = напишить код ..."
   ]
  },
  {
   "cell_type": "code",
   "execution_count": null,
   "metadata": {
    "run_control": {
     "marked": true
    }
   },
   "outputs": [],
   "source": [
    "# побудувати словник для результатів аналізу\n",
    "result_dict = {\n",
    "    \"кількість спостережень\"   : напишить код ... ,\n",
    "    \"середнє значення\"         : напишить код ... ,\n",
    "    \"максимальне значення\"     : напишить код ... ,\n",
    "    \"мінімальне значення\"      : напишить код ... ,\n",
    "    \"стандартне відхилення\"    : напишить код ... ,\n",
    "    \"розмах вариації\"          : напишить код ...\n",
    "    }"
   ]
  },
  {
   "cell_type": "code",
   "execution_count": null,
   "metadata": {
    "run_control": {
     "marked": true
    }
   },
   "outputs": [],
   "source": [
    "# вивести шапку\n",
    "print(\n",
    "\"\"\"\n",
    "================================================\n",
    "№  :   РАЙОН        : ПОКАЗЧИК        : ЗНАЧЕННЯ     \n",
    "================================================\n",
    "\"\"\"      \n",
    "      )\n",
    "\n",
    "# вивести результати аналізу датасета\n",
    "напишить код ..."
   ]
  },
  {
   "cell_type": "code",
   "execution_count": null,
   "metadata": {},
   "outputs": [],
   "source": []
  },
  {
   "cell_type": "code",
   "execution_count": null,
   "metadata": {},
   "outputs": [],
   "source": []
  },
  {
   "cell_type": "code",
   "execution_count": null,
   "metadata": {},
   "outputs": [],
   "source": []
  },
  {
   "cell_type": "code",
   "execution_count": null,
   "metadata": {},
   "outputs": [],
   "source": []
  },
  {
   "cell_type": "code",
   "execution_count": null,
   "metadata": {},
   "outputs": [],
   "source": []
  },
  {
   "cell_type": "code",
   "execution_count": null,
   "metadata": {},
   "outputs": [],
   "source": [
    "conn = sqlite3.connect(\"districts.db\")\n",
    "cur = conn.cursor()"
   ]
  },
  {
   "cell_type": "code",
   "execution_count": null,
   "metadata": {},
   "outputs": [],
   "source": [
    "cur.execute(\"SELECT * FROM street_district LIMIT 10;\").fetchall()"
   ]
  },
  {
   "cell_type": "code",
   "execution_count": null,
   "metadata": {},
   "outputs": [],
   "source": [
    "stmt = \"CREATE TABLE result (district TEXT, street TEXT, price INT);\"\n",
    "cur.execute(stmt)"
   ]
  },
  {
   "cell_type": "code",
   "execution_count": null,
   "metadata": {},
   "outputs": [],
   "source": [
    "cur.execute(\"SELECT name FROM sqlite_master WHERE type = 'table';\").fetchall()"
   ]
  },
  {
   "cell_type": "code",
   "execution_count": null,
   "metadata": {},
   "outputs": [],
   "source": [
    "stmt_join = \\\n",
    "\"SELECT street_flat_propery.street, street_district.district, street_flat_propery.price \\\n",
    "FROM street_flat_propery \\\n",
    "JOIN street_district ON street_flat_propery.street == street_district.street;\""
   ]
  },
  {
   "cell_type": "code",
   "execution_count": null,
   "metadata": {},
   "outputs": [],
   "source": [
    "stmt_join"
   ]
  },
  {
   "cell_type": "code",
   "execution_count": null,
   "metadata": {},
   "outputs": [],
   "source": [
    "stmt_insert = \"INSERT INTO result \" + stmt_join"
   ]
  },
  {
   "cell_type": "code",
   "execution_count": null,
   "metadata": {},
   "outputs": [],
   "source": [
    "cur.execute(stmt_insert)"
   ]
  },
  {
   "cell_type": "code",
   "execution_count": null,
   "metadata": {},
   "outputs": [],
   "source": [
    "cur.execute(\"SELECT * FROM result LIMIT 10; \").fetchall()"
   ]
  },
  {
   "cell_type": "code",
   "execution_count": null,
   "metadata": {},
   "outputs": [],
   "source": [
    "result_list = cur.execute(\"SELECT * FROM result;\").fetchall()\n",
    "result_list"
   ]
  },
  {
   "cell_type": "code",
   "execution_count": null,
   "metadata": {},
   "outputs": [],
   "source": [
    "# створити np-масив з списку `result_list`\n",
    "result_arr = np.array(result_list)"
   ]
  },
  {
   "cell_type": "code",
   "execution_count": null,
   "metadata": {},
   "outputs": [],
   "source": [
    "np.mean(np.array([1,2,3]))"
   ]
  },
  {
   "cell_type": "code",
   "execution_count": null,
   "metadata": {},
   "outputs": [],
   "source": [
    "result_dict = {\n",
    "    \"кількість спостережень\"   : len(result_arr),\n",
    "    \"кількість пустих значень\" : np.count_nonzero(result_arr[:,2] == 0),\n",
    "    \"середній бал\"             : np.mean(result_arr[:,2]),\n",
    "    \"максимальний бал\"         : np.max(result_arr[:,2]),\n",
    "    \"мінімальний бал\"          : np.min(result_arr[:,2]),\n",
    "    \"стандартне відхилення\"    : np.std(result_arr[:,2]),\n",
    "    \"розмах вариації\"          : result_dict[\"максимальний бал\"] - result_dict[\"мінімальний бал\"] \n",
    "    }"
   ]
  },
  {
   "cell_type": "code",
   "execution_count": null,
   "metadata": {},
   "outputs": [],
   "source": []
  },
  {
   "cell_type": "code",
   "execution_count": null,
   "metadata": {},
   "outputs": [],
   "source": [
    "cur.execute (\"SELECT name FROM PRAGMA_TABLE_INFO('street_district');\").fetchall()"
   ]
  },
  {
   "cell_type": "code",
   "execution_count": null,
   "metadata": {},
   "outputs": [],
   "source": [
    "cur.execute (\"SELECT name FROM PRAGMA_TABLE_INFO('street_flat_propery');\").fetchall()"
   ]
  },
  {
   "cell_type": "code",
   "execution_count": null,
   "metadata": {},
   "outputs": [],
   "source": [
    "cur.execute (\"SELECT name FROM PRAGMA_TABLE_INFO('result');\").fetchall()"
   ]
  },
  {
   "cell_type": "code",
   "execution_count": null,
   "metadata": {},
   "outputs": [],
   "source": []
  }
 ],
 "metadata": {
  "kernelspec": {
   "display_name": "Python 3 (ipykernel)",
   "language": "python",
   "name": "python3"
  },
  "language_info": {
   "codemirror_mode": {
    "name": "ipython",
    "version": 3
   },
   "file_extension": ".py",
   "mimetype": "text/x-python",
   "name": "python",
   "nbconvert_exporter": "python",
   "pygments_lexer": "ipython3",
   "version": "3.9.4"
  },
  "varInspector": {
   "cols": {
    "lenName": 16,
    "lenType": 16,
    "lenVar": 40
   },
   "kernels_config": {
    "python": {
     "delete_cmd_postfix": "",
     "delete_cmd_prefix": "del ",
     "library": "var_list.py",
     "varRefreshCmd": "print(var_dic_list())"
    },
    "r": {
     "delete_cmd_postfix": ") ",
     "delete_cmd_prefix": "rm(",
     "library": "var_list.r",
     "varRefreshCmd": "cat(var_dic_list()) "
    }
   },
   "types_to_exclude": [
    "module",
    "function",
    "builtin_function_or_method",
    "instance",
    "_Feature"
   ],
   "window_display": false
  }
 },
 "nbformat": 4,
 "nbformat_minor": 2
}

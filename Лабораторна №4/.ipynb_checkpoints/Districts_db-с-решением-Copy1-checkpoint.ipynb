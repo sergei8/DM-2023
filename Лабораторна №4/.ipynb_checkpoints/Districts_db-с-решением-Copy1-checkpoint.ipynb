{
 "cells": [
  {
   "cell_type": "markdown",
   "metadata": {},
   "source": [
    "# Видобуток та збагачення структурованих даних"
   ]
  },
  {
   "cell_type": "markdown",
   "metadata": {},
   "source": [
    "### ТЕОРЕТИЧНА ЧАСТИНА ТА ПРИКЛАДИ"
   ]
  },
  {
   "cell_type": "markdown",
   "metadata": {},
   "source": [
    "Для роботи з структурованими табличними даними, які розміщені в реляційній БД [SQLite](https://www.google.com/url?sa=t&rct=j&q=&esrc=s&source=web&cd=&cad=rja&uact=8&ved=2ahUKEwiUyMOv1orvAhWDK3cKHac9DyMQFjAAegQIBxAD&url=https%3A%2F%2Fru.wikipedia.org%2Fwiki%2FSQLite&usg=AOvVaw1s-RMK2VC2tXyDZxZXDYDo) в Python передбачена стандартна бібліотека [sqlite3](https://docs.python.org/3/library/sqlite3.html)"
   ]
  },
  {
   "cell_type": "code",
   "execution_count": 2,
   "metadata": {},
   "outputs": [],
   "source": [
    "# підключення бібліотеки\n",
    "import sqlite3"
   ]
  },
  {
   "cell_type": "markdown",
   "metadata": {},
   "source": [
    "#### ПРИКЛАД ВИЛУЧЕННЯ ДАНИХ З БД\n",
    "Створити БД SQLite з ім'ям `FIT-3m`, та імпорувати в неї таблицю, що містить журнал групи `jornal`"
   ]
  },
  {
   "cell_type": "code",
   "execution_count": 66,
   "metadata": {},
   "outputs": [],
   "source": [
    "# створюємо з'єднання з БД\n",
    "conn = sqlite3.connect(\"FIT-3m.db\")"
   ]
  },
  {
   "cell_type": "markdown",
   "metadata": {},
   "source": [
    "[імпорт csv файла в sqlite через CLI](https://www.sqlitetutorial.net/sqlite-import-csv/) "
   ]
  },
  {
   "cell_type": "code",
   "execution_count": 67,
   "metadata": {},
   "outputs": [],
   "source": [
    "# створюємо об'єкт `cursor`, що відповідає за реалізацію операцій з таблицями БД\n",
    "cur = conn.cursor()"
   ]
  },
  {
   "cell_type": "code",
   "execution_count": 68,
   "metadata": {},
   "outputs": [
    {
     "name": "stdout",
     "output_type": "stream",
     "text": [
      "<class 'sqlite3.Cursor'>\n",
      "\n",
      "['__class__', '__delattr__', '__dir__', '__doc__', '__eq__', '__format__', '__ge__', '__getattribute__', '__gt__', '__hash__', '__init__', '__init_subclass__', '__iter__', '__le__', '__lt__', '__ne__', '__new__', '__next__', '__reduce__', '__reduce_ex__', '__repr__', '__setattr__', '__sizeof__', '__str__', '__subclasshook__', 'arraysize', 'close', 'connection', 'description', 'execute', 'executemany', 'executescript', 'fetchall', 'fetchmany', 'fetchone', 'lastrowid', 'row_factory', 'rowcount', 'setinputsizes', 'setoutputsize']\n"
     ]
    }
   ],
   "source": [
    "print(type(cur), end='\\n\\n')\n",
    "print(dir(cur))"
   ]
  },
  {
   "cell_type": "markdown",
   "metadata": {},
   "source": [
    "##### виведемо ВСІ записи таблиці `jornal`"
   ]
  },
  {
   "cell_type": "code",
   "execution_count": 69,
   "metadata": {
    "code_folding": []
   },
   "outputs": [
    {
     "name": "stdout",
     "output_type": "stream",
     "text": [
      "('Колесников', 'Микита', 'M.Kolesnykov.FIT.122.20.m@knute.edu.ua')\n",
      "('Лучук', 'Артем', 'A.Luchuk.FIT.122.20.m@knute.edu.ua')\n",
      "('Кравченко', 'Ростислав', 'R.Kravchenko.FIT.122.20.m@knute.edu.ua')\n",
      "('Солодкий', 'Микола', 'M.Solodkyy.FIT.122.20.m@knute.edu.ua')\n",
      "('Причепа', 'Владислав', 'V.Prychepa.FIT.122.20.m@knute.edu.ua')\n",
      "('Павлючик', 'Денис', 'D.Pavlyuchyk.FIT.122.20.m@knute.edu.ua')\n",
      "('Кулініч', 'Анатолій', 'A.Kulinich.FIT.122.20.m@knute.edu.ua')\n"
     ]
    }
   ],
   "source": [
    "# створимо інстанс для операції `SELECT`\n",
    "students_cur = cur.execute(\"SELECT * FROM jornal\")\n",
    "\n",
    "# будуємо список записів за допомогою метода `fetchall()`\n",
    "students_list = students_cur.fetchall()\n",
    "\n",
    "_ = [print(x) for x in students_list]"
   ]
  },
  {
   "cell_type": "markdown",
   "metadata": {},
   "source": [
    "#### ПРИКЛАД ЗБАГАЧЕННЯ ДАНИХ З ЗОВНІШНЬОГО ДЖЕРЕЛА\n",
    "\n",
    "Додати до списка студентів їх оцінки за вступне тестування, які розташовані в csv файлі `test_result.csv`"
   ]
  },
  {
   "cell_type": "markdown",
   "metadata": {},
   "source": [
    "імпортуємо `test_result.csv` в робочу БД як таблицю `test`\n",
    "\n",
    "[імпорт csv файла в sqlite через CLI](https://www.sqlitetutorial.net/sqlite-import-csv/) "
   ]
  },
  {
   "cell_type": "markdown",
   "metadata": {},
   "source": [
    "##### Cтворимо нову таблицю, яка буде містити вміст таблиці `jornal` та поле оцінок з таблиці `test`\n",
    "\n"
   ]
  },
  {
   "cell_type": "code",
   "execution_count": 70,
   "metadata": {},
   "outputs": [
    {
     "data": {
      "text/plain": [
       "<sqlite3.Cursor at 0x110a336c0>"
      ]
     },
     "execution_count": 70,
     "metadata": {},
     "output_type": "execute_result"
    }
   ],
   "source": [
    "cur.execute(\"drop table if exists jornal_test;\")"
   ]
  },
  {
   "cell_type": "code",
   "execution_count": 71,
   "metadata": {},
   "outputs": [
    {
     "data": {
      "text/plain": [
       "[('jornal',), ('test',), ('jornal_test',)]"
      ]
     },
     "execution_count": 71,
     "metadata": {},
     "output_type": "execute_result"
    }
   ],
   "source": [
    "# створимо вираз на побудову пустої таблиці `jornal_test` з відповідними полями\n",
    "sql_stmt = \"CREATE TABLE IF NOT EXISTS jornal_test \\\n",
    "              (Surname TEXT,         \\\n",
    "               Name TEXT,            \\\n",
    "               Email TEXT,           \\\n",
    "               Test_result INT);\"\n",
    "\n",
    "# виконаемо запит на створення таблиці\n",
    "cur.execute(sql_stmt)\n",
    "\n",
    "# перевіримо стан виконання операції - виведемо список таблиць\n",
    "tables_list = cur.execute(\"SELECT name FROM sqlite_master WHERE type = 'table';\")\n",
    "tables_list.fetchall()\n"
   ]
  },
  {
   "cell_type": "code",
   "execution_count": 72,
   "metadata": {},
   "outputs": [
    {
     "data": {
      "text/plain": [
       "[('Колесников', 'Микита', 'M.Kolesnykov.FIT.122.20.m@knute.edu.ua', '86'),\n",
       " ('Лучук', 'Артем', 'A.Luchuk.FIT.122.20.m@knute.edu.ua', '32'),\n",
       " ('Кравченко', 'Ростислав', 'R.Kravchenko.FIT.122.20.m@knute.edu.ua', '50'),\n",
       " ('Солодкий', 'Микола', 'M.Solodkyy.FIT.122.20.m@knute.edu.ua', '78'),\n",
       " ('Причепа', 'Владислав', 'V.Prychepa.FIT.122.20.m@knute.edu.ua', '45'),\n",
       " ('Павлючик', 'Денис', 'D.Pavlyuchyk.FIT.122.20.m@knute.edu.ua', None),\n",
       " ('Кулініч', 'Анатолій', 'A.Kulinich.FIT.122.20.m@knute.edu.ua', '39')]"
      ]
     },
     "execution_count": 72,
     "metadata": {},
     "output_type": "execute_result"
    }
   ],
   "source": [
    "# створимо запит на об'єднання таблиць 'jornal' та 'test' по прізвищу студента\n",
    "sql_stmt = \"SELECT jornal.*, test.\\\"Оцінка/100\\\" FROM  \\\n",
    "            jornal LEFT JOIN test ON jornal.Surname = test.\\\"Ім\\'я\\\" \"\n",
    "\n",
    "# для перевірки виконаємо і виведемо результати запиту\n",
    "cur.execute(sql_stmt).fetchall()"
   ]
  },
  {
   "cell_type": "code",
   "execution_count": 73,
   "metadata": {},
   "outputs": [],
   "source": [
    "# заповнимо пусту таблицю результатми  запиту на злиття\n",
    "_ = cur.execute(\"INSERT INTO jornal_test \" + sql_stmt)"
   ]
  },
  {
   "cell_type": "code",
   "execution_count": 74,
   "metadata": {},
   "outputs": [
    {
     "name": "stdout",
     "output_type": "stream",
     "text": [
      "('Колесников', 'Микита', 'M.Kolesnykov.FIT.122.20.m@knute.edu.ua', 86)\n",
      "('Лучук', 'Артем', 'A.Luchuk.FIT.122.20.m@knute.edu.ua', 32)\n",
      "('Кравченко', 'Ростислав', 'R.Kravchenko.FIT.122.20.m@knute.edu.ua', 50)\n",
      "('Солодкий', 'Микола', 'M.Solodkyy.FIT.122.20.m@knute.edu.ua', 78)\n",
      "('Причепа', 'Владислав', 'V.Prychepa.FIT.122.20.m@knute.edu.ua', 45)\n",
      "('Павлючик', 'Денис', 'D.Pavlyuchyk.FIT.122.20.m@knute.edu.ua', None)\n",
      "('Кулініч', 'Анатолій', 'A.Kulinich.FIT.122.20.m@knute.edu.ua', 39)\n"
     ]
    }
   ],
   "source": [
    "# збережемо вміст нової таблиці в список\n",
    "jornal_test_list = cur.execute(\"SELECT * FROM jornal_test\").fetchall()\n",
    "\n",
    "_ = [print(x) for x in jornal_test_list]"
   ]
  },
  {
   "cell_type": "code",
   "execution_count": 75,
   "metadata": {},
   "outputs": [],
   "source": [
    "# завершимо всі транзакції\n",
    "conn.commit()\n",
    "\n",
    "# закріємо з'єднання\n",
    "conn.close()"
   ]
  },
  {
   "cell_type": "markdown",
   "metadata": {},
   "source": [
    "#### ПРИКЛАД  ДЕСКРИПТИВНОГО АНАЛІЗУ ДАНИХ\n",
    "\n",
    "Провести [попередній аналіз](https://ru.wikipedia.org/wiki/Описательная_статистика) отриманих даних з ціллю виявленя відхилень, помилок та інших непридатних даних."
   ]
  },
  {
   "cell_type": "markdown",
   "metadata": {},
   "source": [
    "Сведемо результати аналізу в таблицю, яка має наступний вигляд:\n",
    "\n",
    "№| Показчик | Значення\n",
    ":--:|:-------|-------:\n",
    "1| кількість спостережень | xx \n",
    "2| кількість пустих значень | xx\n",
    "4| середній бал|  xx.x\n",
    "5| максимальний бал | xx\n",
    "6| мінімальний бал  | xx\n",
    "7| стандартне відхилення | xx.x\n",
    "8| розмах вариації  | xx\n"
   ]
  },
  {
   "cell_type": "code",
   "execution_count": 76,
   "metadata": {},
   "outputs": [],
   "source": [
    "# підключимо бібліотеку 'numpy' і дамо їй аліас 'np'\n",
    "import numpy as np"
   ]
  },
  {
   "cell_type": "markdown",
   "metadata": {},
   "source": [
    "ознайомитись з призначенням, можливостями та основним функціями [бібліотеки numpy](https://numpy.org) "
   ]
  },
  {
   "cell_type": "code",
   "execution_count": 77,
   "metadata": {
    "collapsed": true
   },
   "outputs": [
    {
     "name": "stdout",
     "output_type": "stream",
     "text": [
      "['ALLOW_THREADS', 'AxisError', 'BUFSIZE', 'CLIP', 'ComplexWarning', 'DataSource', 'ERR_CALL', 'ERR_DEFAULT', 'ERR_IGNORE', 'ERR_LOG', 'ERR_PRINT', 'ERR_RAISE', 'ERR_WARN', 'FLOATING_POINT_SUPPORT', 'FPE_DIVIDEBYZERO', 'FPE_INVALID', 'FPE_OVERFLOW', 'FPE_UNDERFLOW', 'False_', 'Inf', 'Infinity', 'MAXDIMS', 'MAY_SHARE_BOUNDS', 'MAY_SHARE_EXACT', 'MachAr', 'ModuleDeprecationWarning', 'NAN', 'NINF', 'NZERO', 'NaN', 'PINF', 'PZERO', 'RAISE', 'RankWarning', 'SHIFT_DIVIDEBYZERO', 'SHIFT_INVALID', 'SHIFT_OVERFLOW', 'SHIFT_UNDERFLOW', 'ScalarType', 'Tester', 'TooHardError', 'True_', 'UFUNC_BUFSIZE_DEFAULT', 'UFUNC_PYVALS_NAME', 'VisibleDeprecationWarning', 'WRAP', '_NoValue', '_UFUNC_API', '__NUMPY_SETUP__', '__all__', '__builtins__', '__cached__', '__config__', '__doc__', '__file__', '__git_revision__', '__loader__', '__name__', '__package__', '__path__', '__spec__', '__version__', '_add_newdoc_ufunc', '_arg', '_distributor_init', '_globals', '_mat', '_pytesttester', 'abs', 'absolute', 'absolute_import', 'add', 'add_docstring', 'add_newdoc', 'add_newdoc_ufunc', 'alen', 'all', 'allclose', 'alltrue', 'amax', 'amin', 'angle', 'any', 'append', 'apply_along_axis', 'apply_over_axes', 'arange', 'arccos', 'arccosh', 'arcsin', 'arcsinh', 'arctan', 'arctan2', 'arctanh', 'argmax', 'argmin', 'argpartition', 'argsort', 'argwhere', 'around', 'array', 'array2string', 'array_equal', 'array_equiv', 'array_repr', 'array_split', 'array_str', 'asanyarray', 'asarray', 'asarray_chkfinite', 'ascontiguousarray', 'asfarray', 'asfortranarray', 'asmatrix', 'asscalar', 'atleast_1d', 'atleast_2d', 'atleast_3d', 'average', 'bartlett', 'base_repr', 'binary_repr', 'bincount', 'bitwise_and', 'bitwise_not', 'bitwise_or', 'bitwise_xor', 'blackman', 'block', 'bmat', 'bool', 'bool8', 'bool_', 'broadcast', 'broadcast_arrays', 'broadcast_to', 'busday_count', 'busday_offset', 'busdaycalendar', 'byte', 'byte_bounds', 'bytes0', 'bytes_', 'c_', 'can_cast', 'cast', 'cbrt', 'cdouble', 'ceil', 'cfloat', 'char', 'character', 'chararray', 'choose', 'clip', 'clongdouble', 'clongfloat', 'column_stack', 'common_type', 'compare_chararrays', 'compat', 'complex', 'complex128', 'complex256', 'complex64', 'complex_', 'complexfloating', 'compress', 'concatenate', 'conj', 'conjugate', 'convolve', 'copy', 'copysign', 'copyto', 'core', 'corrcoef', 'correlate', 'cos', 'cosh', 'count_nonzero', 'cov', 'cross', 'csingle', 'ctypeslib', 'cumprod', 'cumproduct', 'cumsum', 'datetime64', 'datetime_as_string', 'datetime_data', 'deg2rad', 'degrees', 'delete', 'deprecate', 'deprecate_with_doc', 'diag', 'diag_indices', 'diag_indices_from', 'diagflat', 'diagonal', 'diff', 'digitize', 'disp', 'divide', 'division', 'divmod', 'dot', 'double', 'dsplit', 'dstack', 'dtype', 'e', 'ediff1d', 'einsum', 'einsum_path', 'emath', 'empty', 'empty_like', 'equal', 'errstate', 'euler_gamma', 'exp', 'exp2', 'expand_dims', 'expm1', 'extract', 'eye', 'fabs', 'fastCopyAndTranspose', 'fft', 'fill_diagonal', 'find_common_type', 'finfo', 'fix', 'flatiter', 'flatnonzero', 'flexible', 'flip', 'fliplr', 'flipud', 'float', 'float128', 'float16', 'float32', 'float64', 'float_', 'float_power', 'floating', 'floor', 'floor_divide', 'fmax', 'fmin', 'fmod', 'format_float_positional', 'format_float_scientific', 'format_parser', 'frexp', 'frombuffer', 'fromfile', 'fromfunction', 'fromiter', 'frompyfunc', 'fromregex', 'fromstring', 'full', 'full_like', 'fv', 'gcd', 'generic', 'genfromtxt', 'geomspace', 'get_array_wrap', 'get_include', 'get_printoptions', 'getbufsize', 'geterr', 'geterrcall', 'geterrobj', 'gradient', 'greater', 'greater_equal', 'half', 'hamming', 'hanning', 'heaviside', 'histogram', 'histogram2d', 'histogram_bin_edges', 'histogramdd', 'hsplit', 'hstack', 'hypot', 'i0', 'identity', 'iinfo', 'imag', 'in1d', 'index_exp', 'indices', 'inexact', 'inf', 'info', 'infty', 'inner', 'insert', 'int', 'int0', 'int16', 'int32', 'int64', 'int8', 'int_', 'int_asbuffer', 'intc', 'integer', 'interp', 'intersect1d', 'intp', 'invert', 'ipmt', 'irr', 'is_busday', 'isclose', 'iscomplex', 'iscomplexobj', 'isfinite', 'isfortran', 'isin', 'isinf', 'isnan', 'isnat', 'isneginf', 'isposinf', 'isreal', 'isrealobj', 'isscalar', 'issctype', 'issubclass_', 'issubdtype', 'issubsctype', 'iterable', 'ix_', 'kaiser', 'kron', 'lcm', 'ldexp', 'left_shift', 'less', 'less_equal', 'lexsort', 'lib', 'linalg', 'linspace', 'little_endian', 'load', 'loads', 'loadtxt', 'log', 'log10', 'log1p', 'log2', 'logaddexp', 'logaddexp2', 'logical_and', 'logical_not', 'logical_or', 'logical_xor', 'logspace', 'long', 'longcomplex', 'longdouble', 'longfloat', 'longlong', 'lookfor', 'ma', 'mafromtxt', 'mask_indices', 'mat', 'math', 'matmul', 'matrix', 'matrixlib', 'max', 'maximum', 'maximum_sctype', 'may_share_memory', 'mean', 'median', 'memmap', 'meshgrid', 'mgrid', 'min', 'min_scalar_type', 'minimum', 'mintypecode', 'mirr', 'mod', 'modf', 'moveaxis', 'msort', 'multiply', 'nan', 'nan_to_num', 'nanargmax', 'nanargmin', 'nancumprod', 'nancumsum', 'nanmax', 'nanmean', 'nanmedian', 'nanmin', 'nanpercentile', 'nanprod', 'nanquantile', 'nanstd', 'nansum', 'nanvar', 'nbytes', 'ndarray', 'ndenumerate', 'ndfromtxt', 'ndim', 'ndindex', 'nditer', 'negative', 'nested_iters', 'newaxis', 'nextafter', 'nonzero', 'not_equal', 'nper', 'npv', 'numarray', 'number', 'obj2sctype', 'object', 'object0', 'object_', 'ogrid', 'oldnumeric', 'ones', 'ones_like', 'outer', 'packbits', 'pad', 'partition', 'percentile', 'pi', 'piecewise', 'place', 'pmt', 'poly', 'poly1d', 'polyadd', 'polyder', 'polydiv', 'polyfit', 'polyint', 'polymul', 'polynomial', 'polysub', 'polyval', 'positive', 'power', 'ppmt', 'print_function', 'printoptions', 'prod', 'product', 'promote_types', 'ptp', 'put', 'put_along_axis', 'putmask', 'pv', 'quantile', 'r_', 'rad2deg', 'radians', 'random', 'rank', 'rate', 'ravel', 'ravel_multi_index', 'real', 'real_if_close', 'rec', 'recarray', 'recfromcsv', 'recfromtxt', 'reciprocal', 'record', 'remainder', 'repeat', 'require', 'reshape', 'resize', 'result_type', 'right_shift', 'rint', 'roll', 'rollaxis', 'roots', 'rot90', 'round', 'round_', 'row_stack', 's_', 'safe_eval', 'save', 'savetxt', 'savez', 'savez_compressed', 'sctype2char', 'sctypeDict', 'sctypeNA', 'sctypes', 'searchsorted', 'select', 'set_numeric_ops', 'set_printoptions', 'set_string_function', 'setbufsize', 'setdiff1d', 'seterr', 'seterrcall', 'seterrobj', 'setxor1d', 'shape', 'shares_memory', 'short', 'show_config', 'sign', 'signbit', 'signedinteger', 'sin', 'sinc', 'single', 'singlecomplex', 'sinh', 'size', 'sometrue', 'sort', 'sort_complex', 'source', 'spacing', 'split', 'sqrt', 'square', 'squeeze', 'stack', 'std', 'str', 'str0', 'str_', 'string_', 'subtract', 'sum', 'swapaxes', 'sys', 'take', 'take_along_axis', 'tan', 'tanh', 'tensordot', 'test', 'testing', 'tile', 'timedelta64', 'trace', 'tracemalloc_domain', 'transpose', 'trapz', 'tri', 'tril', 'tril_indices', 'tril_indices_from', 'trim_zeros', 'triu', 'triu_indices', 'triu_indices_from', 'true_divide', 'trunc', 'typeDict', 'typeNA', 'typecodes', 'typename', 'ubyte', 'ufunc', 'uint', 'uint0', 'uint16', 'uint32', 'uint64', 'uint8', 'uintc', 'uintp', 'ulonglong', 'unicode', 'unicode_', 'union1d', 'unique', 'unpackbits', 'unravel_index', 'unsignedinteger', 'unwrap', 'ushort', 'vander', 'var', 'vdot', 'vectorize', 'version', 'void', 'void0', 'vsplit', 'vstack', 'warnings', 'where', 'who', 'zeros', 'zeros_like']\n"
     ]
    }
   ],
   "source": [
    "print(dir(np))"
   ]
  },
  {
   "cell_type": "code",
   "execution_count": 78,
   "metadata": {
    "scrolled": true
   },
   "outputs": [
    {
     "data": {
      "text/plain": [
       "[('Колесников', 'Микита', 'M.Kolesnykov.FIT.122.20.m@knute.edu.ua', 86),\n",
       " ('Лучук', 'Артем', 'A.Luchuk.FIT.122.20.m@knute.edu.ua', 32),\n",
       " ('Кравченко', 'Ростислав', 'R.Kravchenko.FIT.122.20.m@knute.edu.ua', 50),\n",
       " ('Солодкий', 'Микола', 'M.Solodkyy.FIT.122.20.m@knute.edu.ua', 78),\n",
       " ('Причепа', 'Владислав', 'V.Prychepa.FIT.122.20.m@knute.edu.ua', 45),\n",
       " ('Павлючик', 'Денис', 'D.Pavlyuchyk.FIT.122.20.m@knute.edu.ua', None),\n",
       " ('Кулініч', 'Анатолій', 'A.Kulinich.FIT.122.20.m@knute.edu.ua', 39)]"
      ]
     },
     "execution_count": 78,
     "metadata": {},
     "output_type": "execute_result"
    }
   ],
   "source": [
    "jornal_test_list"
   ]
  },
  {
   "cell_type": "code",
   "execution_count": 89,
   "metadata": {},
   "outputs": [],
   "source": [
    "# перетворимо список студетів в numpay матрицю\n",
    "jornal_test_arr = np.array(jornal_test_list)"
   ]
  },
  {
   "cell_type": "code",
   "execution_count": 90,
   "metadata": {
    "scrolled": true
   },
   "outputs": [
    {
     "name": "stdout",
     "output_type": "stream",
     "text": [
      "[['Колесников' 'Микита' 'M.Kolesnykov.FIT.122.20.m@knute.edu.ua' 86]\n",
      " ['Лучук' 'Артем' 'A.Luchuk.FIT.122.20.m@knute.edu.ua' 32]\n",
      " ['Кравченко' 'Ростислав' 'R.Kravchenko.FIT.122.20.m@knute.edu.ua' 50]\n",
      " ['Солодкий' 'Микола' 'M.Solodkyy.FIT.122.20.m@knute.edu.ua' 78]\n",
      " ['Причепа' 'Владислав' 'V.Prychepa.FIT.122.20.m@knute.edu.ua' 45]\n",
      " ['Павлючик' 'Денис' 'D.Pavlyuchyk.FIT.122.20.m@knute.edu.ua' None]\n",
      " ['Кулініч' 'Анатолій' 'A.Kulinich.FIT.122.20.m@knute.edu.ua' 39]]\n"
     ]
    }
   ],
   "source": [
    "print(jornal_test_arr)"
   ]
  },
  {
   "cell_type": "code",
   "execution_count": 83,
   "metadata": {
    "scrolled": true
   },
   "outputs": [
    {
     "name": "stdout",
     "output_type": "stream",
     "text": [
      "<class 'numpy.ndarray'> (7, 4)\n"
     ]
    }
   ],
   "source": [
    "print(type (jornal_test_arr), jornal_test_arr.shape)"
   ]
  },
  {
   "cell_type": "code",
   "execution_count": 91,
   "metadata": {},
   "outputs": [],
   "source": [
    "# Значення 'None' - не є числом, то заміним його на 0\n",
    "none_filter = jornal_test_arr[:,3] == None\n",
    "jornal_test_arr[none_filter, 3] = 0"
   ]
  },
  {
   "cell_type": "code",
   "execution_count": 99,
   "metadata": {
    "run_control": {
     "marked": false
    }
   },
   "outputs": [],
   "source": [
    "# будуємо словник з вихідними розрахунками\n",
    "result_dict = {\n",
    "    \"кількість спостережень\"   : len(jornal_test_arr[:,3]),\n",
    "    \"кількість пустих значень\" : len(jornal_test_arr[:,3]) - np.count_nonzero(jornal_test_arr[:,3]),\n",
    "    \"середній бал\"             : round(np.mean(jornal_test_arr[:,3]),2),\n",
    "    \"максимальний бал\"         : np.max(jornal_test_arr[:,3]),\n",
    "    \"мінімальний бал\"          : np.min(jornal_test_arr[:,3][np.nonzero(jornal_test_arr[:,3])]),\n",
    "    \"стандартне відхилення\"    : round(np.std(jornal_test_arr[:,3]),2),\n",
    "    \"розмах вариації\"          : np.max(jornal_test_arr[:,3]) - np.min(jornal_test_arr[:,3][np.nonzero(jornal_test_arr[:,3])]) \n",
    "    }"
   ]
  },
  {
   "cell_type": "code",
   "execution_count": 100,
   "metadata": {},
   "outputs": [
    {
     "data": {
      "text/plain": [
       "{'кількість спостережень': 7,\n",
       " 'кількість пустих значень': 1,\n",
       " 'середній бал': 47.14,\n",
       " 'максимальний бал': 86,\n",
       " 'мінімальний бал': 32,\n",
       " 'стандартне відхилення': 26.71,\n",
       " 'розмах вариації': 54}"
      ]
     },
     "execution_count": 100,
     "metadata": {},
     "output_type": "execute_result"
    }
   ],
   "source": [
    "result_dict"
   ]
  },
  {
   "cell_type": "code",
   "execution_count": 101,
   "metadata": {
    "code_folding": []
   },
   "outputs": [
    {
     "name": "stdout",
     "output_type": "stream",
     "text": [
      "\n",
      "=======================================\n",
      "№  : ПОКАЗЧИК               : ЗНАЧЕННЯ     \n",
      "=======================================\n",
      "\n",
      "1   кількість спостережень     7\n",
      "2   кількість пустих значень   1\n",
      "3   середній бал               47.14\n",
      "4   максимальний бал           86\n",
      "5   мінімальний бал            32\n",
      "6   стандартне відхилення      26.71\n",
      "7   розмах вариації            54\n"
     ]
    }
   ],
   "source": [
    "# вивести шапку\n",
    "print(\n",
    "\"\"\"\n",
    "=======================================\n",
    "№  : ПОКАЗЧИК               : ЗНАЧЕННЯ     \n",
    "=======================================\n",
    "\"\"\"      \n",
    "      )\n",
    "\n",
    "# вивести результати аналізу датасета\n",
    "i = 1\n",
    "for key, value in result_dict.items():\n",
    "    print (f'{i:<3} {key:<25}  {value}')\n",
    "    i += 1"
   ]
  },
  {
   "cell_type": "markdown",
   "metadata": {},
   "source": [
    "### ІНДИВІДУАЛЬНЕ ЗАВДАННЯ"
   ]
  },
  {
   "cell_type": "markdown",
   "metadata": {},
   "source": [
    "Користуючись результатами, що отримані в [Лабораторній роботі № 3](https://shkliarskiy.moodlecloud.com/mod/page/view.php?id=1193) виконати процедури видобутку, збагачення та попереднього аналізу даних.\n",
    "\n",
    "__Постановка__: В 3-й лабораторній роботі отримано показчик, що характеризує окрему властивість квартири (ціна, метраж та ін.). \n",
    "Необхідно:\n",
    "1. Відобразити цей показчик на адресу квартири, яка знаходиться в файлі `street_name.csv`, тобто побудувати новий файл `street_flat_propery.csv` якій містить 2 колонки: _<назва вулиці> <ваш показчик>_\n",
    "2. На основі цьго файлу зробити відповідну таблицю в _SQLite_ та збагатити цю дані в цій таблиці назвою району де розташована квартира (дані по районах додаються) \n",
    "3. Провести попередній аналіз отриманих даних - вивести первинні статистики показчика по районах (_середне_ , _мінімальне_ , _максимальне_ і т.д. - див. приклад вище)"
   ]
  },
  {
   "cell_type": "code",
   "execution_count": 4,
   "metadata": {},
   "outputs": [],
   "source": [
    "# Злиття файлу з показчиком та файлу з назвами вулиць в новий файл\n",
    "\n",
    "# YOUR_FILE = підставте ваш файл ...\n",
    "YOUR_FILE = 'street_living_area.csv'\n",
    "with open(YOUR_FILE) as f1, \\\n",
    "     open('street_name.csv') as f2, \\\n",
    "     open('street_flat_propery.csv', 'w') as f3:\n",
    "    \n",
    "    for x, y in zip(f1, f2):\n",
    "        line = f'{x[:-1].strip()},{y[:-1].strip()}\\n'\n",
    "#         print(line)\n",
    "        f3.write(line)"
   ]
  },
  {
   "cell_type": "markdown",
   "metadata": {},
   "source": [
    "#### імпортувати в БД файл 'street_flat_propery.csv' через CLI\n",
    "- __sqlite3 districts.db__ - запустити SQLite та відкрити БД\n",
    "- __.mode csv__ - перевести БД для роботи з csv-файлами\n",
    "- __.import street_flat_propery.csv street_flat_propery__ - створює таблицю _street_flat_propery_ та завантажує в неї вміст файлу _street_flat_propery.csv_\n",
    "- __SELECT * FROM street_flat_propery LIMIT 10;__ - вивести 10 записів для перевірки\n",
    "- __.quit__ - завершити роботу з CLI SQLite\n",
    "\n"
   ]
  },
  {
   "cell_type": "code",
   "execution_count": 5,
   "metadata": {
    "run_control": {
     "marked": false
    },
    "scrolled": true
   },
   "outputs": [],
   "source": [
    "# Підключитись до БД ''districts.db'' та створити відповідний курсор\n",
    "conn = sqlite3.connect('districts.db')\n",
    "cur  = conn.cursor()"
   ]
  },
  {
   "cell_type": "code",
   "execution_count": 6,
   "metadata": {
    "run_control": {
     "marked": true
    }
   },
   "outputs": [
    {
     "data": {
      "text/plain": [
       "[('9-го Травня', 'вулиця', 'Святошинський'),\n",
       " ('Абрикосова', 'вулиця', 'Оболонський'),\n",
       " ('Абрикосова', 'вулиця', 'Дарницький'),\n",
       " ('Абрикосова', 'вулиця', 'Подільський'),\n",
       " ('Августина Волошина', 'вулиця', 'Солом’янський'),\n",
       " ('Авдєєнка Генерала', 'вулиця', 'Святошинський'),\n",
       " ('Автозаводська', 'вулиця', 'Оболонський'),\n",
       " ('Автозаводський ', 'провулок', 'Оболонський'),\n",
       " ('Автопаркова', 'вулиця', 'Дарницький'),\n",
       " ('Авторемонтна', 'вулиця', \"Солом'янський\")]"
      ]
     },
     "execution_count": 6,
     "metadata": {},
     "output_type": "execute_result"
    }
   ],
   "source": [
    "# для перевірки виведіть виведіть 10 записів з таблиці 'street_district'\n",
    "cur.execute('select * from street_district limit 10;').fetchall()"
   ]
  },
  {
   "cell_type": "code",
   "execution_count": 7,
   "metadata": {},
   "outputs": [
    {
     "data": {
      "text/plain": [
       "<sqlite3.Cursor at 0x108ae0b90>"
      ]
     },
     "execution_count": 7,
     "metadata": {},
     "output_type": "execute_result"
    }
   ],
   "source": [
    "cur.execute(\"drop table if exists result;\")"
   ]
  },
  {
   "cell_type": "code",
   "execution_count": 8,
   "metadata": {
    "run_control": {
     "marked": true
    }
   },
   "outputs": [],
   "source": [
    "# побудувати запит на створення таблиці 'result' з 3-ма полями:\n",
    "#     district - текстове\n",
    "#     street - текстове\n",
    "#     living_area - числове\n",
    "stmt = \"create table result (district text, street text, living_area real);\""
   ]
  },
  {
   "cell_type": "code",
   "execution_count": 9,
   "metadata": {},
   "outputs": [
    {
     "data": {
      "text/plain": [
       "<sqlite3.Cursor at 0x108ae0b90>"
      ]
     },
     "execution_count": 9,
     "metadata": {},
     "output_type": "execute_result"
    }
   ],
   "source": [
    "# виконати запит\n",
    "cur.execute(stmt)"
   ]
  },
  {
   "cell_type": "code",
   "execution_count": 10,
   "metadata": {},
   "outputs": [
    {
     "data": {
      "text/plain": [
       "[('district',), ('street',), ('living_area',)]"
      ]
     },
     "execution_count": 10,
     "metadata": {},
     "output_type": "execute_result"
    }
   ],
   "source": [
    "# перевірити схему таблиці\n",
    "cur.execute (\"SELECT name FROM PRAGMA_TABLE_INFO('result');\").fetchall()"
   ]
  },
  {
   "cell_type": "code",
   "execution_count": 11,
   "metadata": {},
   "outputs": [
    {
     "data": {
      "text/plain": [
       "[('73.0', 'street'),\n",
       " ('0.0', 'Омеляновича-Павленка'),\n",
       " ('100.0', ''),\n",
       " ('58.0', 'Ованеса Туманяна'),\n",
       " ('79.0', 'Петропавлівська'),\n",
       " ('0.0', 'Дніпровська'),\n",
       " ('0.0', 'Саксаганського'),\n",
       " ('87.0', 'Івана Мазепи'),\n",
       " ('40.0', 'Дніпровська'),\n",
       " ('51.0', 'Ділова')]"
      ]
     },
     "execution_count": 11,
     "metadata": {},
     "output_type": "execute_result"
    }
   ],
   "source": [
    "# перевірити вміст таблиці з показчиком \n",
    "cur.execute(\"select * from street_living_area limit 10;\").fetchall()"
   ]
  },
  {
   "cell_type": "code",
   "execution_count": 12,
   "metadata": {
    "code_folding": [],
    "run_control": {
     "marked": true
    }
   },
   "outputs": [],
   "source": [
    "# створити запит на злиття таблиці 'street_living_area' та 'street_district' \n",
    "# по полю 'street'\n",
    "stmt_join = \"SELECT street_district.district, street_living_area.street, street_living_area.living_area  \\\n",
    "  from street_living_area JOIN street_district ON \\\n",
    "  street_living_area.street == street_district.street;\""
   ]
  },
  {
   "cell_type": "code",
   "execution_count": 13,
   "metadata": {},
   "outputs": [
    {
     "data": {
      "text/plain": [
       "[('Оболонський', 'Петропавлівська', '79.0'),\n",
       " ('Подільський', 'Петропавлівська', '79.0'),\n",
       " ('Оболонський', 'Дніпровська', '0.0'),\n",
       " ('Голосіївський, Печерський, Шевченківський', 'Саксаганського', '0.0'),\n",
       " ('Оболонський', 'Дніпровська', '40.0'),\n",
       " ('Голосіївський, Печерський', 'Ділова', '51.0'),\n",
       " ('Дарницький', 'Ревуцького', '85.0'),\n",
       " ('Подільський', 'Введенська', '38.0'),\n",
       " ('Печерський', 'Виноградний', '70.0'),\n",
       " (\"Голосіївський,Солом'янський\", 'Кайсарова', '103.0')]"
      ]
     },
     "execution_count": 13,
     "metadata": {},
     "output_type": "execute_result"
    }
   ],
   "source": [
    "# перевірити запит\n",
    "cur.execute(stmt_join).fetchmany(10)"
   ]
  },
  {
   "cell_type": "code",
   "execution_count": 14,
   "metadata": {
    "run_control": {
     "marked": true
    }
   },
   "outputs": [],
   "source": [
    "# створити запит для наповнення таблиці `result` результатом запиту на об'єднання\n",
    "stmt_insert = \"insert into result \" + stmt_join"
   ]
  },
  {
   "cell_type": "code",
   "execution_count": 15,
   "metadata": {},
   "outputs": [
    {
     "data": {
      "text/plain": [
       "<sqlite3.Cursor at 0x108ae0b90>"
      ]
     },
     "execution_count": 15,
     "metadata": {},
     "output_type": "execute_result"
    }
   ],
   "source": [
    "# виконати запит на заповнення\n",
    "cur.execute(stmt_insert)"
   ]
  },
  {
   "cell_type": "code",
   "execution_count": 19,
   "metadata": {
    "run_control": {
     "marked": true
    }
   },
   "outputs": [],
   "source": [
    "# сберегти вміст створеної таблиці у вигляді списка\n",
    "result_list = cur.execute(\"select * from result;\").fetchall()"
   ]
  },
  {
   "cell_type": "code",
   "execution_count": 20,
   "metadata": {},
   "outputs": [
    {
     "data": {
      "text/plain": [
       "[('Оболонський', 'Петропавлівська', 79.0),\n",
       " ('Подільський', 'Петропавлівська', 79.0),\n",
       " ('Оболонський', 'Дніпровська', 0.0),\n",
       " ('Голосіївський, Печерський, Шевченківський', 'Саксаганського', 0.0),\n",
       " ('Оболонський', 'Дніпровська', 40.0),\n",
       " ('Голосіївський, Печерський', 'Ділова', 51.0),\n",
       " ('Дарницький', 'Ревуцького', 85.0),\n",
       " ('Подільський', 'Введенська', 38.0),\n",
       " ('Печерський', 'Виноградний', 70.0),\n",
       " (\"Голосіївський,Солом'янський\", 'Кайсарова', 103.0)]"
      ]
     },
     "execution_count": 20,
     "metadata": {},
     "output_type": "execute_result"
    }
   ],
   "source": [
    "result_list[:10]"
   ]
  },
  {
   "cell_type": "markdown",
   "metadata": {},
   "source": [
    "#### для аналізу скористатися бібліотекою NumPy"
   ]
  },
  {
   "cell_type": "code",
   "execution_count": 21,
   "metadata": {},
   "outputs": [],
   "source": [
    "import numpy as np"
   ]
  },
  {
   "cell_type": "code",
   "execution_count": 22,
   "metadata": {},
   "outputs": [
    {
     "data": {
      "text/plain": [
       "[('Оболонський', 'Петропавлівська', 79.0),\n",
       " ('Подільський', 'Петропавлівська', 79.0),\n",
       " ('Оболонський', 'Дніпровська', 0.0)]"
      ]
     },
     "execution_count": 22,
     "metadata": {},
     "output_type": "execute_result"
    }
   ],
   "source": [
    "result_list[:3]"
   ]
  },
  {
   "cell_type": "code",
   "execution_count": 24,
   "metadata": {
    "run_control": {
     "marked": true
    }
   },
   "outputs": [],
   "source": [
    "# створити np-масив з списку `result_list`\n",
    "result_arr = np.asarray(result_list, dtype=object)"
   ]
  },
  {
   "cell_type": "code",
   "execution_count": 25,
   "metadata": {},
   "outputs": [
    {
     "data": {
      "text/plain": [
       "(488, 3)"
      ]
     },
     "execution_count": 25,
     "metadata": {},
     "output_type": "execute_result"
    }
   ],
   "source": [
    "result_arr.shape"
   ]
  },
  {
   "cell_type": "code",
   "execution_count": 26,
   "metadata": {},
   "outputs": [
    {
     "data": {
      "text/plain": [
       "array([['Оболонський', 'Петропавлівська', 79.0],\n",
       "       ['Подільський', 'Петропавлівська', 79.0],\n",
       "       ['Оболонський', 'Дніпровська', 0.0],\n",
       "       ['Голосіївський, Печерський, Шевченківський', 'Саксаганського',\n",
       "        0.0],\n",
       "       ['Оболонський', 'Дніпровська', 40.0],\n",
       "       ['Голосіївський, Печерський', 'Ділова', 51.0],\n",
       "       ['Дарницький', 'Ревуцького', 85.0],\n",
       "       ['Подільський', 'Введенська', 38.0],\n",
       "       ['Печерський', 'Виноградний', 70.0],\n",
       "       [\"Голосіївський,Солом'янський\", 'Кайсарова', 103.0]], dtype=object)"
      ]
     },
     "execution_count": 26,
     "metadata": {},
     "output_type": "execute_result"
    }
   ],
   "source": [
    "result_arr[:10]"
   ]
  },
  {
   "cell_type": "code",
   "execution_count": 27,
   "metadata": {},
   "outputs": [],
   "source": [
    "# взяти тільки перші назви з списку районів\n",
    "result_arr_trunc = \\\n",
    "  np.asarray(list(map(lambda x: [x[0].split(',')[0], x[1], x[2]], result_arr)), dtype=object)"
   ]
  },
  {
   "cell_type": "markdown",
   "metadata": {},
   "source": [
    "##### видалити дублюючі записи\n",
    "1. сконвертувати в словник з составним ключем 'вулиця'+'показчик - видиляться дублюючі ключі\n",
    "2. побудувати з цього словника список порізавши ключ обратно та відновити формати\n",
    "3. побудувати ndarray як був але без дублів"
   ]
  },
  {
   "cell_type": "code",
   "execution_count": 28,
   "metadata": {},
   "outputs": [],
   "source": [
    "# 1\n",
    "result_dict_no_dup = \\\n",
    "  { ''.join([x[1] + \",\" + str(x[2])]): x[0] for x in result_arr_trunc}"
   ]
  },
  {
   "cell_type": "code",
   "execution_count": 29,
   "metadata": {},
   "outputs": [],
   "source": [
    "# 2\n",
    "result_list_no_dup = \\\n",
    "  [ [value, key.split(',')[0], float(key.split(',')[1])] \\\n",
    "                                     for key, value in result_dict_no_dup.items()]"
   ]
  },
  {
   "cell_type": "code",
   "execution_count": 30,
   "metadata": {},
   "outputs": [],
   "source": [
    "# 3\n",
    "result_arr_no_dup = np.asarray(result_list_no_dup, dtype=object)"
   ]
  },
  {
   "cell_type": "code",
   "execution_count": 31,
   "metadata": {},
   "outputs": [
    {
     "data": {
      "text/plain": [
       "array([['Подільський', 'Петропавлівська', 79.0],\n",
       "       ['Оболонський', 'Дніпровська', 0.0],\n",
       "       ['Голосіївський', 'Саксаганського', 0.0],\n",
       "       ['Оболонський', 'Дніпровська', 40.0],\n",
       "       ['Голосіївський', 'Ділова', 51.0],\n",
       "       ['Дарницький', 'Ревуцького', 85.0],\n",
       "       ['Подільський', 'Введенська', 38.0],\n",
       "       ['Печерський', 'Виноградний', 70.0],\n",
       "       ['Голосіївський', 'Кайсарова', 103.0],\n",
       "       ['Голосіївський', 'Ділова', 50.0]], dtype=object)"
      ]
     },
     "execution_count": 31,
     "metadata": {},
     "output_type": "execute_result"
    }
   ],
   "source": [
    "result_arr_no_dup[:10]"
   ]
  },
  {
   "cell_type": "code",
   "execution_count": 32,
   "metadata": {},
   "outputs": [],
   "source": [
    "# отримаємо список районів\n",
    "districts_list = list(np.unique(result_arr_no_dup[:,0]))"
   ]
  },
  {
   "cell_type": "code",
   "execution_count": 33,
   "metadata": {},
   "outputs": [
    {
     "data": {
      "text/plain": [
       "['Голосіївський',\n",
       " 'Дарницький',\n",
       " 'Деснянський',\n",
       " 'Дніпровський',\n",
       " 'Оболонський',\n",
       " 'Печерський',\n",
       " 'Подільський',\n",
       " 'Святошинський',\n",
       " \"Солом'янський\",\n",
       " 'Шевченківський']"
      ]
     },
     "execution_count": 33,
     "metadata": {},
     "output_type": "execute_result"
    }
   ],
   "source": [
    "districts_list"
   ]
  },
  {
   "cell_type": "code",
   "execution_count": 35,
   "metadata": {
    "code_folding": [],
    "run_control": {
     "marked": true
    }
   },
   "outputs": [],
   "source": [
    "def get_district_result(district):\n",
    "    \"\"\"функція повертає словник значень показчика по району\n",
    "    що передається в якості аргумента\n",
    "    \"\"\"\n",
    "    # фільтр для відбіру района    \n",
    "    filt = result_arr[:,0] == district\n",
    "    # фільтр для відбіру ненульових значень по району    \n",
    "    filt_list = [x[0] == district and x[2] > 0 for x in result_arr]\n",
    "    \n",
    "    return {\n",
    "        \"кількість спостережень\"   : len(result_arr[filt, 2]) ,\n",
    "        \"середнє значення\"         : round(np.mean(result_arr[filt, 2]), 2) ,\n",
    "        \"максимальне значення\"     : np.max(result_arr[filt, 2]) ,\n",
    "        \"мінімальне значення\"      : np.min(result_arr[filt_list, 2]) ,\n",
    "        \"стандартне відхилення\"    : round(np.std(result_arr[filt, 2]), 2) ,\n",
    "        \"розмах вариації\"          : np.max(result_arr[filt, 2]) - np.min(result_arr[filt_list, 2])\n",
    "        }"
   ]
  },
  {
   "cell_type": "code",
   "execution_count": 36,
   "metadata": {},
   "outputs": [],
   "source": [
    "# сформувати список для виводу\n",
    "result = [(district, get_district_result(district)) for district in districts_list]"
   ]
  },
  {
   "cell_type": "code",
   "execution_count": 37,
   "metadata": {
    "run_control": {
     "marked": true
    }
   },
   "outputs": [
    {
     "name": "stdout",
     "output_type": "stream",
     "text": [
      "\n",
      "=====================================================\n",
      "№  :   РАЙОН        : ПОКАЗЧИК             : ЗНАЧЕННЯ     \n",
      "=====================================================\n",
      "\n",
      "   Голосіївський\n",
      "                      кількість спостережень    42\n",
      "                      середнє значення          87.21\n",
      "                      максимальне значення      250.0\n",
      "                      мінімальне значення       33.0\n",
      "                      стандартне відхилення     63.76\n",
      "                      розмах вариації           217.0\n",
      "   Дарницький\n",
      "                      кількість спостережень    64\n",
      "                      середнє значення          65.67\n",
      "                      максимальне значення      275.0\n",
      "                      мінімальне значення       28.0\n",
      "                      стандартне відхилення     41.5\n",
      "                      розмах вариації           247.0\n",
      "   Деснянський\n",
      "                      кількість спостережень    16\n",
      "                      середнє значення          76.88\n",
      "                      максимальне значення      160.0\n",
      "                      мінімальне значення       41.0\n",
      "                      стандартне відхилення     32.35\n",
      "                      розмах вариації           119.0\n",
      "   Дніпровський\n",
      "                      кількість спостережень    32\n",
      "                      середнє значення          60.22\n",
      "                      максимальне значення      108.0\n",
      "                      мінімальне значення       27.0\n",
      "                      стандартне відхилення     27.52\n",
      "                      розмах вариації           81.0\n",
      "   Оболонський\n",
      "                      кількість спостережень    61\n",
      "                      середнє значення          69.69\n",
      "                      максимальне значення      340.0\n",
      "                      мінімальне значення       25.0\n",
      "                      стандартне відхилення     64.89\n",
      "                      розмах вариації           315.0\n",
      "   Печерський\n",
      "                      кількість спостережень    50\n",
      "                      середнє значення          66.32\n",
      "                      максимальне значення      248.0\n",
      "                      мінімальне значення       22.0\n",
      "                      стандартне відхилення     49.92\n",
      "                      розмах вариації           226.0\n",
      "   Подільський\n",
      "                      кількість спостережень    36\n",
      "                      середнє значення          75.56\n",
      "                      максимальне значення      306.0\n",
      "                      мінімальне значення       34.0\n",
      "                      стандартне відхилення     56.24\n",
      "                      розмах вариації           272.0\n",
      "   Святошинський\n",
      "                      кількість спостережень    37\n",
      "                      середнє значення          94.11\n",
      "                      максимальне значення      555.0\n",
      "                      мінімальне значення       32.0\n",
      "                      стандартне відхилення     96.81\n",
      "                      розмах вариації           523.0\n",
      "   Солом'янський\n",
      "                      кількість спостережень    35\n",
      "                      середнє значення          70.4\n",
      "                      максимальне значення      207.0\n",
      "                      мінімальне значення       30.0\n",
      "                      стандартне відхилення     56.01\n",
      "                      розмах вариації           177.0\n",
      "   Шевченківський\n",
      "                      кількість спостережень    56\n",
      "                      середнє значення          86.25\n",
      "                      максимальне значення      350.0\n",
      "                      мінімальне значення       24.0\n",
      "                      стандартне відхилення     75.62\n",
      "                      розмах вариації           326.0\n"
     ]
    }
   ],
   "source": [
    "# вивести шапку\n",
    "print(\n",
    "\"\"\"\n",
    "=====================================================\n",
    "№  :   РАЙОН        : ПОКАЗЧИК             : ЗНАЧЕННЯ     \n",
    "=====================================================\n",
    "\"\"\"      \n",
    "      )\n",
    "\n",
    "# вивести результати аналізу датасета\n",
    "for item in result:\n",
    "    print (f'   {item[0]}')\n",
    "    for name, value in item[1].items():\n",
    "        print(f' {\" \" * 20} {name:25} {value}')"
   ]
  },
  {
   "cell_type": "code",
   "execution_count": null,
   "metadata": {},
   "outputs": [],
   "source": []
  }
 ],
 "metadata": {
  "kernelspec": {
   "display_name": "Python 3",
   "language": "python",
   "name": "python3"
  },
  "language_info": {
   "codemirror_mode": {
    "name": "ipython",
    "version": 3
   },
   "file_extension": ".py",
   "mimetype": "text/x-python",
   "name": "python",
   "nbconvert_exporter": "python",
   "pygments_lexer": "ipython3",
   "version": "3.7.4"
  }
 },
 "nbformat": 4,
 "nbformat_minor": 2
}

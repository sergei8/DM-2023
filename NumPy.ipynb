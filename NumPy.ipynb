{
 "cells": [
  {
   "cell_type": "markdown",
   "id": "4e46fd31",
   "metadata": {
    "slideshow": {
     "slide_type": "slide"
    }
   },
   "source": [
    "# Бібліотека NumPy \n"
   ]
  },
  {
   "cell_type": "markdown",
   "id": "387ae429",
   "metadata": {
    "slideshow": {
     "slide_type": "slide"
    }
   },
   "source": [
    "1. #### Огляд та призначення NumPy\n",
    "2. #### Встановлення та настроювання NumPy\n",
    "3. #### Об'єкт Array: властивості та вбудовані методи\n",
    "4. #### Математичні та статистичні функції в NumPy\n",
    "5. #### Файлові операції"
   ]
  },
  {
   "cell_type": "markdown",
   "id": "0ce3ed0c",
   "metadata": {
    "slideshow": {
     "slide_type": "slide"
    }
   },
   "source": [
    "## 1. Огляд та призначення NumPy"
   ]
  },
  {
   "cell_type": "markdown",
   "id": "3759b651",
   "metadata": {
    "slideshow": {
     "slide_type": "fragment"
    }
   },
   "source": [
    "### Функції Python для роботи з числами:\n",
    "- ### [Стандартна бібліотека stdlib](https://docs.python.org/3/library/)\n",
    "- ### [Математична бібліотека math](https://docs.python.org/3/library/math.html)\n",
    "- ### [Статистичні функції statistics](https://docs.python.org/3/library/statistics.html)"
   ]
  },
  {
   "cell_type": "markdown",
   "id": "4496533c",
   "metadata": {
    "slideshow": {
     "slide_type": "slide"
    }
   },
   "source": [
    "### [Numpy — розширення  Python, що додає підтримку великих багатовимірних масивів і матриць, разом з великою бібліотекою високорівневих математичних функцій для операцій з цими масивами .](https://uk.wikipedia.org/wiki/NumPy)"
   ]
  },
  {
   "cell_type": "markdown",
   "id": "48e54f63",
   "metadata": {
    "slideshow": {
     "slide_type": "slide"
    }
   },
   "source": [
    "<table>\n",
    " <tr>\n",
    "     <td><a href=\"https://numpy.org/\"><img src=\"https://cdn.worldvectorlogo.com/logos/numpy.svg\" width=\"200\"/></a></td>\n",
    "     <td><a href=\"https://pypi.org/project/numpy/\"><img src=\"https://stepik.org/media/cache/images/courses/2887/cover/e52fb754fc1612393c0df1d224c39c19.jpg\" width=\"200\"/></a></td>\n",
    "     <td><a href=\"https://github.com/numpy/numpy\"><img src=\"https://logos-world.net/wp-content/uploads/2020/11/GitHub-Logo.png\" width=\"200\"/></a></td>\n",
    "  </tr>\n",
    "</table>"
   ]
  },
  {
   "cell_type": "markdown",
   "id": "a36f830e",
   "metadata": {
    "slideshow": {
     "slide_type": "slide"
    }
   },
   "source": [
    "## 2. Встановлення та настроювання NumPy"
   ]
  },
  {
   "cell_type": "code",
   "execution_count": 27,
   "id": "c794807f",
   "metadata": {
    "slideshow": {
     "slide_type": "slide"
    }
   },
   "outputs": [
    {
     "name": "stderr",
     "output_type": "stream",
     "text": [
      "/Users/sergey/opt/miniconda3/envs/py39/lib/python3.9/site-packages/IPython/core/display.py:419: UserWarning: Consider using IPython.display.IFrame instead\n",
      "  warnings.warn(\"Consider using IPython.display.IFrame instead\")\n"
     ]
    },
    {
     "data": {
      "text/html": [
       "<iframe width=\"790\" height=\"444\" src=\"https://www.youtube.com/embed/D6o8CjF1DhE\" title=\"YouTube video player\" frameborder=\"0\" allow=\"accelerometer; autoplay; clipboard-write; encrypted-media; gyroscope;\" allowfullscreen></iframe>"
      ],
      "text/plain": [
       "<IPython.core.display.HTML object>"
      ]
     },
     "execution_count": 27,
     "metadata": {},
     "output_type": "execute_result"
    }
   ],
   "source": [
    "from IPython.display import IFrame, HTML\n",
    "HTML('<iframe width=\"790\" height=\"444\" src=\"https://www.youtube.com/embed/D6o8CjF1DhE\" title=\"YouTube video player\" frameborder=\"0\" allow=\"accelerometer; autoplay; clipboard-write; encrypted-media; gyroscope;\" allowfullscreen></iframe>')"
   ]
  },
  {
   "cell_type": "markdown",
   "id": "religious-yesterday",
   "metadata": {
    "slideshow": {
     "slide_type": "slide"
    }
   },
   "source": [
    "## 3. Об'єкт Array"
   ]
  },
  {
   "cell_type": "markdown",
   "id": "3ac56d36",
   "metadata": {
    "slideshow": {
     "slide_type": "fragment"
    }
   },
   "source": [
    "[Масив](https://uk.wikipedia.org/wiki/Масив_(структура_даних)) — впорядкований набір фіксованої кількості однотипних елементів, що зберігаються в послідовно розташованих комірках оперативної пам'яті, мають порядковий номер і спільне ім'я, що надає користувач."
   ]
  },
  {
   "cell_type": "code",
   "execution_count": 1,
   "id": "61c79326",
   "metadata": {},
   "outputs": [],
   "source": [
    "import numpy as np\n",
    "import random"
   ]
  },
  {
   "cell_type": "markdown",
   "id": "surprised-continent",
   "metadata": {
    "slideshow": {
     "slide_type": "slide"
    }
   },
   "source": [
    "#### Структури Python що виступають в якості массивів\n",
    "- __List__ з стантартної бібліотеки __stdlib__\n",
    "- __array__ з модуля __Array__"
   ]
  },
  {
   "cell_type": "code",
   "execution_count": 6,
   "id": "significant-trigger",
   "metadata": {
    "slideshow": {
     "slide_type": "slide"
    }
   },
   "outputs": [
    {
     "name": "stdout",
     "output_type": "stream",
     "text": [
      "<class 'list'>\n",
      "1d: [1, 2, 3.1, 'text']\n",
      "2d: [[1, 2, 3.1, 'text'], [22, 33, 4, 333]]\n",
      "...\n",
      "<class 'array.array'>\n",
      "array('d', [1.0, 2.0, 3.1, 123.0])\n"
     ]
    }
   ],
   "source": [
    "# list\n",
    "sample_1d_list = list([1, 2, 3.1, \"text\"])\n",
    "print(type(sample_1d_list))\n",
    "print(f'1d: {sample_1d_list}')\n",
    "sample_2d_list = list([[1, 2, 3.1, \"text\"],\n",
    "                       [22, 33, 4, 333]])\n",
    "print(f'2d: {sample_2d_list}\\n...')\n",
    "\n",
    "# array\n",
    "from array import array, typecodes\n",
    "sample_array = array('d',[1, 2, 3.1, 123])\n",
    "print(type(sample_array))\n",
    "print(sample_array)"
   ]
  },
  {
   "cell_type": "code",
   "execution_count": 7,
   "id": "f22047bd",
   "metadata": {
    "slideshow": {
     "slide_type": "slide"
    }
   },
   "outputs": [
    {
     "name": "stdout",
     "output_type": "stream",
     "text": [
      "<class 'module'>\n",
      "606\n"
     ]
    }
   ],
   "source": [
    "# підключення NumPy\n",
    "import numpy as np\n",
    "\n",
    "print(type(np))\n",
    "print(len(dir(np)))"
   ]
  },
  {
   "cell_type": "markdown",
   "id": "relative-registrar",
   "metadata": {
    "slideshow": {
     "slide_type": "slide"
    }
   },
   "source": [
    "[ndarray](https://numpy.org/doc/stable/reference/arrays.html) - це ключовий об'єкт бібліотеки NumPy"
   ]
  },
  {
   "attachments": {
    "image.png": {
     "image/png": "[encoded data removed]"
    }
   },
   "cell_type": "markdown",
   "id": "d1cbc1cb",
   "metadata": {
    "slideshow": {
     "slide_type": "slide"
    }
   },
   "source": [
    "![image.png](attachment:image.png)"
   ]
  },
  {
   "cell_type": "markdown",
   "id": "278e0cc0",
   "metadata": {
    "slideshow": {
     "slide_type": "slide"
    }
   },
   "source": [
    "Три фундаметральні складові массиву:\n",
    "1. власне сам __ndarray__\n",
    "2. об'єкт __data-type__ який містить відомості про тип даних\n",
    "3. массив або скалярна величина, що є контейнером для одиночного елемента"
   ]
  },
  {
   "cell_type": "code",
   "execution_count": 9,
   "id": "august-winner",
   "metadata": {
    "slideshow": {
     "slide_type": "fragment"
    }
   },
   "outputs": [],
   "source": [
    "np.array?"
   ]
  },
  {
   "cell_type": "markdown",
   "id": "f998981e",
   "metadata": {
    "slideshow": {
     "slide_type": "slide"
    }
   },
   "source": [
    "### Створення масивів"
   ]
  },
  {
   "cell_type": "code",
   "execution_count": 10,
   "id": "482ce011",
   "metadata": {
    "slideshow": {
     "slide_type": "slide"
    }
   },
   "outputs": [
    {
     "name": "stdout",
     "output_type": "stream",
     "text": [
      "<class 'numpy.ndarray'>\n",
      "[1 2 3 4 5]\n"
     ]
    }
   ],
   "source": [
    "# з списку\n",
    "arr = np.array([1,2,3,4,5])\n",
    "print(type(arr))\n",
    "print(arr)"
   ]
  },
  {
   "cell_type": "markdown",
   "id": "67310c57",
   "metadata": {
    "slideshow": {
     "slide_type": "slide"
    }
   },
   "source": [
    "### Властивості np-массивів"
   ]
  },
  {
   "cell_type": "markdown",
   "id": "bc2de792",
   "metadata": {
    "slideshow": {
     "slide_type": "slide"
    }
   },
   "source": [
    "#### 1. Тип даних (dtype):\n",
    "-  __Boolean__   : np.bool\n",
    "-  __Char__      : np.byte\n",
    "-  __Short__     : np.short\n",
    "-  __Integer__ : np.short\n",
    "-  __Long__: np.int_\n",
    "-  __Float__ : np.single або np.float32\n",
    "-  __Double__ : np.double або np.float64\n",
    "-  __np.int8__ : -128 до 127\n",
    "-  __np.int16__ : -32768 до 32767\n",
    "-  __np.int32__ : -2147483648 до 2147483647\n",
    "-  __np.int64__ : -9223372036854775808 до 9223372036854775807"
   ]
  },
  {
   "cell_type": "code",
   "execution_count": 15,
   "id": "421573d9",
   "metadata": {
    "run_control": {
     "marked": false
    },
    "slideshow": {
     "slide_type": "slide"
    }
   },
   "outputs": [
    {
     "name": "stdout",
     "output_type": "stream",
     "text": [
      "[10 20 30] int64\n",
      "[10.1 20.  30. ] float64\n",
      "[10 20 30] int8\n",
      "['10' '20' '30'] <U2\n"
     ]
    }
   ],
   "source": [
    "lst = [10, 20, 30]\n",
    "arr = np.array(lst)\n",
    "print(arr, arr.dtype)\n",
    "\n",
    "lst = [10.1, 20, 30]\n",
    "arr = np.array(lst)\n",
    "print(arr, arr.dtype)\n",
    "\n",
    "lst = [10, 20, 30.123]\n",
    "arr = np.array(lst, dtype='int8')\n",
    "print(arr, arr.dtype)\n",
    "\n",
    "lst = [10, 20, 30]\n",
    "arr = np.array(lst, dtype=str)\n",
    "print(arr, arr.dtype)"
   ]
  },
  {
   "cell_type": "markdown",
   "id": "efc07400",
   "metadata": {
    "slideshow": {
     "slide_type": "slide"
    }
   },
   "source": [
    "#### 2. Розмірність  (ndim) та розмір (size)"
   ]
  },
  {
   "cell_type": "code",
   "execution_count": 16,
   "id": "60384434",
   "metadata": {
    "slideshow": {
     "slide_type": "fragment"
    }
   },
   "outputs": [
    {
     "name": "stdout",
     "output_type": "stream",
     "text": [
      "[1 2 3] ndim=  1 size=  3\n",
      "\n",
      "[[1 2 3]\n",
      " [3 4 5]] ndim=  2 size=  6\n",
      "..."
     ]
    }
   ],
   "source": [
    "arr1d = np.array([1, 2, 3])\n",
    "print(arr1d, 'ndim= ', arr1d.ndim, \"size= \", arr1d.size, end='\\n\\n')\n",
    "\n",
    "arr2d = np.array([[1, 2, 3],[3, 4, 5]] )\n",
    "print(arr2d, 'ndim= ', arr2d.ndim, \"size= \", arr2d.size, end='\\n...')"
   ]
  },
  {
   "cell_type": "markdown",
   "id": "92e93dde",
   "metadata": {
    "slideshow": {
     "slide_type": "slide"
    }
   },
   "source": [
    "#### 3. Форма (shape)"
   ]
  },
  {
   "cell_type": "code",
   "execution_count": 17,
   "id": "bd2e1f53",
   "metadata": {
    "slideshow": {
     "slide_type": "fragment"
    }
   },
   "outputs": [
    {
     "name": "stdout",
     "output_type": "stream",
     "text": [
      "[1 2 3] shape=  (3,)\n",
      "\n",
      "[[1 2 3]\n",
      " [3 4 5]] shape=  (2, 3)\n",
      "..."
     ]
    }
   ],
   "source": [
    "print(arr1d, 'shape= ', arr1d.shape, end='\\n\\n')\n",
    "print(arr2d, 'shape= ', arr2d.shape, end='\\n...')"
   ]
  },
  {
   "cell_type": "markdown",
   "id": "e978cfa1",
   "metadata": {
    "slideshow": {
     "slide_type": "slide"
    }
   },
   "source": [
    "#### 4.Вісь (Axis)"
   ]
  },
  {
   "attachments": {
    "image-3.png": {
     "image/png": "[encoded data removed]"
    }
   },
   "cell_type": "markdown",
   "id": "730d1369",
   "metadata": {
    "slideshow": {
     "slide_type": "slide"
    }
   },
   "source": [
    "![image-3.png](attachment:image-3.png)"
   ]
  },
  {
   "cell_type": "markdown",
   "id": "3f8e1a2d",
   "metadata": {
    "slideshow": {
     "slide_type": "slide"
    }
   },
   "source": [
    "#### 5. Індекси ( Index)"
   ]
  },
  {
   "attachments": {
    "image-2.png": {
     "image/png": "[encoded data removed]"
    }
   },
   "cell_type": "markdown",
   "id": "7649e007",
   "metadata": {
    "slideshow": {
     "slide_type": "slide"
    }
   },
   "source": [
    "![image-2.png](attachment:image-2.png)"
   ]
  },
  {
   "cell_type": "markdown",
   "id": "310e0438",
   "metadata": {
    "slideshow": {
     "slide_type": "slide"
    }
   },
   "source": [
    "### Методи та функції роботи з масивами\n",
    "[детальніше](https://www.educba.com/numpy-array-functions/)"
   ]
  },
  {
   "cell_type": "markdown",
   "id": "e1831849",
   "metadata": {
    "slideshow": {
     "slide_type": "slide"
    }
   },
   "source": [
    "#### Створення різних масивів"
   ]
  },
  {
   "cell_type": "code",
   "execution_count": 20,
   "id": "2ccf27e3",
   "metadata": {
    "slideshow": {
     "slide_type": "subslide"
    }
   },
   "outputs": [
    {
     "name": "stdout",
     "output_type": "stream",
     "text": [
      "[5 6 7 8 9]\n",
      "[0 2 4 6 8]\n"
     ]
    }
   ],
   "source": [
    "#  послідовність з визначеним інтервалом\n",
    "arr = np.arange(5, 10)\n",
    "print(arr)\n",
    "arr = np.arange(0, 10, 2)\n",
    "print(arr)\n"
   ]
  },
  {
   "cell_type": "code",
   "execution_count": 25,
   "id": "f2cc8ac1",
   "metadata": {
    "slideshow": {
     "slide_type": "subslide"
    }
   },
   "outputs": [
    {
     "name": "stdout",
     "output_type": "stream",
     "text": [
      "[0. 0. 0. 0. 0. 0. 0. 0. 0. 0.]\n",
      "[[1. 1. 1.]\n",
      " [1. 1. 1.]\n",
      " [1. 1. 1.]\n",
      " [1. 1. 1.]\n",
      " [1. 1. 1.]]\n"
     ]
    }
   ],
   "source": [
    "# нульовий або одиничний массив\n",
    "arr = np.zeros(10)\n",
    "print(arr)\n",
    "arr = np.ones((5,3))\n",
    "print(arr)"
   ]
  },
  {
   "cell_type": "code",
   "execution_count": 30,
   "id": "76b2793f",
   "metadata": {
    "slideshow": {
     "slide_type": "subslide"
    }
   },
   "outputs": [
    {
     "name": "stdout",
     "output_type": "stream",
     "text": [
      "[[[0.35623196 0.35623196 0.35623196 0.35623196]\n",
      "  [0.35623196 0.35623196 0.35623196 0.35623196]\n",
      "  [0.35623196 0.35623196 0.35623196 0.35623196]]\n",
      "\n",
      " [[0.35623196 0.35623196 0.35623196 0.35623196]\n",
      "  [0.35623196 0.35623196 0.35623196 0.35623196]\n",
      "  [0.35623196 0.35623196 0.35623196 0.35623196]]]\n"
     ]
    }
   ],
   "source": [
    "# заповнення массива\n",
    "arr = np.full((2,3,4), np.random.rand())\n",
    "print(arr)"
   ]
  },
  {
   "cell_type": "code",
   "execution_count": 32,
   "id": "7232212b",
   "metadata": {},
   "outputs": [],
   "source": [
    "np.linspace?"
   ]
  },
  {
   "cell_type": "code",
   "execution_count": 31,
   "id": "955171e4",
   "metadata": {
    "scrolled": true,
    "slideshow": {
     "slide_type": "subslide"
    }
   },
   "outputs": [
    {
     "name": "stdout",
     "output_type": "stream",
     "text": [
      "[0.         0.33333333 0.66666667 1.        ]\n",
      "\n",
      "[0.         0.05263158 0.10526316 0.15789474 0.21052632 0.26315789\n",
      " 0.31578947 0.36842105 0.42105263 0.47368421 0.52631579 0.57894737\n",
      " 0.63157895 0.68421053 0.73684211 0.78947368 0.84210526 0.89473684\n",
      " 0.94736842 1.        ]\n"
     ]
    }
   ],
   "source": [
    "# рівномірно розподілені значення з інтервалу\n",
    "arr = np.linspace(0, 1, 4)\n",
    "print(arr, end=\"\\n\\n\")\n",
    "arr = np.linspace(0, 1, 20)\n",
    "print(arr)"
   ]
  },
  {
   "cell_type": "code",
   "execution_count": 33,
   "id": "23b322c5",
   "metadata": {
    "slideshow": {
     "slide_type": "subslide"
    }
   },
   "outputs": [
    {
     "name": "stdout",
     "output_type": "stream",
     "text": [
      "[[1. 0. 0.]\n",
      " [0. 1. 0.]\n",
      " [0. 0. 1.]]\n"
     ]
    }
   ],
   "source": [
    "# одинична матриця\n",
    "matr = np.eye(3)\n",
    "print(matr)"
   ]
  },
  {
   "cell_type": "code",
   "execution_count": 36,
   "id": "45030341",
   "metadata": {},
   "outputs": [],
   "source": [
    "np.random.rand?"
   ]
  },
  {
   "cell_type": "code",
   "execution_count": 34,
   "id": "16e27667",
   "metadata": {
    "slideshow": {
     "slide_type": "subslide"
    }
   },
   "outputs": [
    {
     "name": "stdout",
     "output_type": "stream",
     "text": [
      "[0.42086158 0.47803316 0.71021337]\n"
     ]
    }
   ],
   "source": [
    "# нормально розподілені значення (rand)\n",
    "arr = np.random.rand(3)\n",
    "print(arr)"
   ]
  },
  {
   "cell_type": "code",
   "execution_count": 35,
   "id": "0f917dec",
   "metadata": {
    "slideshow": {
     "slide_type": "subslide"
    }
   },
   "outputs": [
    {
     "name": "stdout",
     "output_type": "stream",
     "text": [
      "[[-1.75478057  0.58964565]\n",
      " [ 1.71862828 -0.65603119]\n",
      " [ 1.35662492  0.44974021]]\n"
     ]
    }
   ],
   "source": [
    "# стандартно розподілені значення\n",
    "arr = np.random.randn(3,2)\n",
    "print(arr)"
   ]
  },
  {
   "cell_type": "markdown",
   "id": "a6059ffd",
   "metadata": {
    "slideshow": {
     "slide_type": "slide"
    }
   },
   "source": [
    "####  Операції над масивами"
   ]
  },
  {
   "cell_type": "code",
   "execution_count": 39,
   "id": "266de3de",
   "metadata": {
    "slideshow": {
     "slide_type": "subslide"
    }
   },
   "outputs": [
    {
     "name": "stdout",
     "output_type": "stream",
     "text": [
      "[[0. 0.]\n",
      " [0. 0.]\n",
      " [0. 0.]]\n",
      "[0. 0. 0. 0. 0. 0.] \n",
      "\n",
      "\n",
      "[0 1 2 3 4 5 6 7 8 9]\n",
      "[[0 1 2 3 4]\n",
      " [5 6 7 8 9]]\n"
     ]
    }
   ],
   "source": [
    "# Зміна форми (reshape)\n",
    "arr = np.zeros((3,2))\n",
    "print(arr)\n",
    "arr1 = arr.reshape(6,)\n",
    "print(arr1, \"\\n\\n\")\n",
    "\n",
    "arr = np.arange(10)\n",
    "print(arr)\n",
    "arr1 = arr.reshape((2,5))\n",
    "print(arr1)"
   ]
  },
  {
   "cell_type": "code",
   "execution_count": 40,
   "id": "93a164fb",
   "metadata": {
    "slideshow": {
     "slide_type": "subslide"
    }
   },
   "outputs": [
    {
     "name": "stdout",
     "output_type": "stream",
     "text": [
      "[0 1 2 3 4 5 6 7 8 9]\n",
      "[10 11 12 13 14]\n",
      "(10,) (5,)\n",
      "(2, 5) (5,)\n"
     ]
    }
   ],
   "source": [
    "# арифметичні операції: \n",
    "\n",
    "arr1 = np.arange(0, 10)\n",
    "print(arr1)\n",
    "arr2 = np.arange(10, 15)\n",
    "print(arr2)\n",
    "\n",
    "print(arr1.shape, arr2.shape)\n",
    "arr1 = arr1.reshape(2, 5)\n",
    "print(arr1.shape, arr2.shape)"
   ]
  },
  {
   "cell_type": "code",
   "execution_count": 48,
   "id": "8c2fe3d3",
   "metadata": {
    "slideshow": {
     "slide_type": "subslide"
    }
   },
   "outputs": [
    {
     "name": "stdout",
     "output_type": "stream",
     "text": [
      "[[0 1 2 3 4]\n",
      " [5 6 7 8 9]] \n",
      " [10 11 12 13 14] \n",
      "\n",
      "[[10 12 14 16 18]\n",
      " [15 17 19 21 23]]\n",
      "\n",
      "[[-10 -10 -10 -10 -10]\n",
      " [ -5  -5  -5  -5  -5]]\n"
     ]
    }
   ],
   "source": [
    "arr3 = arr2 + arr1\n",
    "print(arr1,'\\n', arr2 ,'\\n')\n",
    "print(arr3)\n",
    "print()\n",
    "\n",
    "arr4 = arr1 - arr2\n",
    "print(arr4)"
   ]
  },
  {
   "cell_type": "code",
   "execution_count": 49,
   "id": "039c949a",
   "metadata": {
    "slideshow": {
     "slide_type": "subslide"
    }
   },
   "outputs": [
    {
     "name": "stdout",
     "output_type": "stream",
     "text": [
      "[0 1 2 3 4 5 6 7 8 9]\n",
      "[ 0  1  4  9 16 25 36 49 64 81]\n"
     ]
    }
   ],
   "source": [
    "print(arr)\n",
    "print(np.power(arr, 2))"
   ]
  },
  {
   "cell_type": "code",
   "execution_count": 50,
   "id": "b5b21c7f",
   "metadata": {
    "slideshow": {
     "slide_type": "subslide"
    }
   },
   "outputs": [
    {
     "name": "stdout",
     "output_type": "stream",
     "text": [
      "arr =  [10 11 12 13 14 15 16 17 18 19]\n",
      "сума =  145\n",
      "накопичувана сума =  [ 10  21  33  46  60  75  91 108 126 145]\n",
      "\n"
     ]
    }
   ],
   "source": [
    "# агрегативні операції: sum, min, max, average ...\n",
    "\n",
    "arr = np.arange(10, 20 )\n",
    "print(\"arr = \", arr)\n",
    "\n",
    "print(\"сума = \", arr.sum())\n",
    "print(\"накопичувана сума = \", arr.cumsum(axis=0))\n",
    "print()"
   ]
  },
  {
   "cell_type": "code",
   "execution_count": 52,
   "id": "259ed614",
   "metadata": {},
   "outputs": [
    {
     "data": {
      "text/plain": [
       "array([10, 11, 12, 13, 14, 15, 16, 17, 18, 19])"
      ]
     },
     "execution_count": 52,
     "metadata": {},
     "output_type": "execute_result"
    }
   ],
   "source": [
    "arr"
   ]
  },
  {
   "cell_type": "code",
   "execution_count": 54,
   "id": "de31a0d6",
   "metadata": {
    "slideshow": {
     "slide_type": "subslide"
    }
   },
   "outputs": [
    {
     "name": "stdout",
     "output_type": "stream",
     "text": [
      "2d arr =  [[10. 11. 12. 13. 14.]\n",
      " [15. 16. 17. 18. 19.]]\n",
      "добуток =  335221286400.0\n",
      "добуток по стовпчиках =  [ 240240. 1395360.]\n"
     ]
    }
   ],
   "source": [
    "arr1 = arr.reshape((2,5)).astype('double')\n",
    "print(\"2d arr = \", arr1)\n",
    "print(\"добуток = \", arr1.prod())\n",
    "print(\"добуток по стовпчиках = \", arr1.prod(axis=1))"
   ]
  },
  {
   "cell_type": "markdown",
   "id": "586a0c60",
   "metadata": {
    "slideshow": {
     "slide_type": "slide"
    }
   },
   "source": [
    "#### Робота з індексами масива"
   ]
  },
  {
   "cell_type": "code",
   "execution_count": 55,
   "id": "5f9f5c15",
   "metadata": {
    "slideshow": {
     "slide_type": "subslide"
    }
   },
   "outputs": [
    {
     "name": "stdout",
     "output_type": "stream",
     "text": [
      "[0 1 2 3 4 5 6 7 8 9]\n",
      "0 2\n",
      "\n",
      "[[0 1 2 3 4]\n",
      " [5 6 7 8 9]]\n",
      "[[  0   1   2   3   4]\n",
      " [  5   6   7 999   9]]\n"
     ]
    }
   ],
   "source": [
    "# доступ по індексу\n",
    "arr = np.arange(10)\n",
    "print(arr)\n",
    "print(arr[0], arr[2], end='\\n\\n')\n",
    "\n",
    "arr1 = np.arange(0,10).reshape(2,5)\n",
    "print(arr1)\n",
    "arr1[1, 3] = 999\n",
    "print(arr1)"
   ]
  },
  {
   "cell_type": "code",
   "execution_count": 56,
   "id": "e6a1253e",
   "metadata": {
    "slideshow": {
     "slide_type": "subslide"
    }
   },
   "outputs": [
    {
     "name": "stdout",
     "output_type": "stream",
     "text": [
      "[0 1 2 3 4 5 6 7 8 9]\n",
      "[2 4]\n",
      "[0 1 2 3 4 5 6 7]\n",
      "[3 4 5 6 7 8 9]\n",
      "[8 9]\n",
      "[5 6 7]\n"
     ]
    }
   ],
   "source": [
    "# зрізи (slice)\n",
    "print(arr)\n",
    "arr2 = arr[2:6:2]   # з - до - шаг\n",
    "print(arr2)\n",
    "print(arr[:8])\n",
    "print(arr[3:])\n",
    "print(arr[-2:])\n",
    "print(arr[-5:8])"
   ]
  },
  {
   "cell_type": "code",
   "execution_count": 57,
   "id": "105da015",
   "metadata": {
    "scrolled": true,
    "slideshow": {
     "slide_type": "subslide"
    }
   },
   "outputs": [
    {
     "name": "stdout",
     "output_type": "stream",
     "text": [
      "[[  0   1]\n",
      " [  2   3]\n",
      " [  4   5]\n",
      " [  6   7]\n",
      " [999   9]]\n",
      "\n",
      "[[0 1]\n",
      " [2 3]]\n",
      "[[  4]\n",
      " [  6]\n",
      " [999]]\n"
     ]
    }
   ],
   "source": [
    "# 2D-array ...\n",
    "print(arr1 := arr1.reshape(5,2))\n",
    "print()\n",
    "print(arr1[0:2])\n",
    "print(arr1[2:, :1])"
   ]
  },
  {
   "cell_type": "markdown",
   "id": "2222ec48",
   "metadata": {
    "slideshow": {
     "slide_type": "slide"
    }
   },
   "source": [
    "## 4. Математичні та статистичні функції в NumPy\n",
    "\n",
    "[докладніше](https://numpy.org/doc/stable/reference/routines.math.html)"
   ]
  },
  {
   "cell_type": "code",
   "execution_count": 58,
   "id": "4569024e",
   "metadata": {
    "slideshow": {
     "slide_type": "slide"
    }
   },
   "outputs": [
    {
     "name": "stdout",
     "output_type": "stream",
     "text": [
      "[[ 1  8]\n",
      " [ 9 64]]\n",
      "[[1.         1.41421356]\n",
      " [1.73205081 2.        ]]\n",
      "[[1.         1.25992105]\n",
      " [1.44224957 1.58740105]]\n"
     ]
    }
   ],
   "source": [
    "arr1 = np.array([[1,2],[3,4]])\n",
    "arr2 = np.array([2,3])\n",
    "# 1-й масив в ступені другого\n",
    "print(np.power(arr1, arr2))\n",
    "# квадратний та кубічний корені\n",
    "print(np.sqrt(arr1), np.cbrt(arr1), sep='\\n')\n"
   ]
  },
  {
   "cell_type": "code",
   "execution_count": null,
   "id": "839fb211",
   "metadata": {
    "slideshow": {
     "slide_type": "slide"
    }
   },
   "outputs": [],
   "source": [
    "# абсолютне значення\n",
    "arr = np.arange(5, -10, -2)\n",
    "print(arr)\n",
    "print(np.absolute(arr))"
   ]
  },
  {
   "cell_type": "code",
   "execution_count": 59,
   "id": "6e0b10a0",
   "metadata": {
    "slideshow": {
     "slide_type": "slide"
    }
   },
   "outputs": [
    {
     "name": "stdout",
     "output_type": "stream",
     "text": [
      "[0.98131574 0.66597248 0.02324179]\n",
      "[0.981 0.666 0.023]\n"
     ]
    }
   ],
   "source": [
    "# округлення\n",
    "arr = np.random.rand(3)\n",
    "print(arr)\n",
    "print(np.around(arr, 3))"
   ]
  },
  {
   "cell_type": "markdown",
   "id": "2a50dc0f",
   "metadata": {
    "slideshow": {
     "slide_type": "slide"
    }
   },
   "source": [
    "### базова лінійна алгебра"
   ]
  },
  {
   "cell_type": "code",
   "execution_count": 60,
   "id": "41859de4",
   "metadata": {
    "slideshow": {
     "slide_type": "slide"
    }
   },
   "outputs": [
    {
     "name": "stdout",
     "output_type": "stream",
     "text": [
      "[[ 0  1  2]\n",
      " [ 3  4  5]\n",
      " [ 6  7  8]\n",
      " [ 9 10 11]]\n",
      "\n",
      "[3 4 5]\n",
      "\n",
      "dot =  [ 14  50  86 122]\n"
     ]
    }
   ],
   "source": [
    "# скалярний добуток (dot)\n",
    "arr1 = np.arange(12).reshape(4,3)\n",
    "arr2 = arr1[1:2][0]\n",
    "print(arr1, arr2, sep='\\n\\n')\n",
    "print()\n",
    "print(\"dot = \", arr1.dot(arr2))"
   ]
  },
  {
   "cell_type": "code",
   "execution_count": 61,
   "id": "22e6d85e",
   "metadata": {
    "slideshow": {
     "slide_type": "slide"
    }
   },
   "outputs": [
    {
     "name": "stdout",
     "output_type": "stream",
     "text": [
      "[[ 0  1  2]\n",
      " [ 3  4  5]\n",
      " [ 6  7  8]\n",
      " [ 9 10 11]]\n",
      "\n",
      "[[ 0  3  6  9]\n",
      " [ 1  4  7 10]\n",
      " [ 2  5  8 11]]\n"
     ]
    }
   ],
   "source": [
    "# транспонування матриці\n",
    "print(arr1, end='\\n\\n')\n",
    "print(arr1.T)"
   ]
  },
  {
   "cell_type": "markdown",
   "id": "28bc0173",
   "metadata": {
    "slideshow": {
     "slide_type": "slide"
    }
   },
   "source": [
    "#### більше можливостей в спеціалізованому модулі [`linalg`](https://numpy.org/doc/stable/reference/routines.linalg.html)\n"
   ]
  },
  {
   "cell_type": "code",
   "execution_count": 62,
   "id": "5193c566",
   "metadata": {
    "slideshow": {
     "slide_type": "fragment"
    }
   },
   "outputs": [
    {
     "name": "stdout",
     "output_type": "stream",
     "text": [
      "['LinAlgError', '__all__', '__builtins__', '__cached__', '__doc__', '__file__', '__loader__', '__name__', '__package__', '__path__', '__spec__', '_umath_linalg', 'cholesky', 'cond', 'det', 'eig', 'eigh', 'eigvals', 'eigvalsh', 'inv', 'linalg', 'lstsq', 'matrix_power', 'matrix_rank', 'multi_dot', 'norm', 'pinv', 'qr', 'slogdet', 'solve', 'svd', 'tensorinv', 'tensorsolve', 'test']\n"
     ]
    }
   ],
   "source": [
    "from numpy import linalg as LA\n",
    "\n",
    "print(dir(LA))"
   ]
  },
  {
   "cell_type": "markdown",
   "id": "bbe57e3b",
   "metadata": {
    "slideshow": {
     "slide_type": "slide"
    }
   },
   "source": [
    "###  [Статистичні функції](https://numpy.org/doc/stable/reference/routines.statistics.html)"
   ]
  },
  {
   "cell_type": "markdown",
   "id": "d5a1b246",
   "metadata": {
    "slideshow": {
     "slide_type": "slide"
    }
   },
   "source": [
    "## 5. Файлові операції"
   ]
  },
  {
   "cell_type": "markdown",
   "id": "d2f24596",
   "metadata": {
    "slideshow": {
     "slide_type": "subslide"
    }
   },
   "source": [
    "### САМОСТІЙНО"
   ]
  }
 ],
 "metadata": {
  "celltoolbar": "Slideshow",
  "kernelspec": {
   "display_name": "Python 3 (ipykernel)",
   "language": "python",
   "name": "python3"
  },
  "language_info": {
   "codemirror_mode": {
    "name": "ipython",
    "version": 3
   },
   "file_extension": ".py",
   "mimetype": "text/x-python",
   "name": "python",
   "nbconvert_exporter": "python",
   "pygments_lexer": "ipython3",
   "version": "3.9.12"
  },
  "varInspector": {
   "cols": {
    "lenName": 16,
    "lenType": 16,
    "lenVar": 40
   },
   "kernels_config": {
    "python": {
     "delete_cmd_postfix": "",
     "delete_cmd_prefix": "del ",
     "library": "var_list.py",
     "varRefreshCmd": "print(var_dic_list())"
    },
    "r": {
     "delete_cmd_postfix": ") ",
     "delete_cmd_prefix": "rm(",
     "library": "var_list.r",
     "varRefreshCmd": "cat(var_dic_list()) "
    }
   },
   "types_to_exclude": [
    "module",
    "function",
    "builtin_function_or_method",
    "instance",
    "_Feature"
   ],
   "window_display": false
  }
 },
 "nbformat": 4,
 "nbformat_minor": 5
}
